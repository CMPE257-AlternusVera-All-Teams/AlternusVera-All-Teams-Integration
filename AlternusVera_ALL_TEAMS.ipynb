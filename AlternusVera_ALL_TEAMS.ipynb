{
  "nbformat": 4,
  "nbformat_minor": 0,
  "metadata": {
    "colab": {
      "name": "AlternusVera_ALL_TEAMS.ipynb",
      "provenance": [],
      "collapsed_sections": [
        "gSI0TkLgFY84",
        "N9tVwDoh5lFX",
        "NPiFMJwx4ScH",
        "joJ03RFIcbZ_",
        "hEhI_xA2cYXz",
        "C7mg9veG9kWr",
        "gwpL_8kSETtX",
        "G1aRO5olgOWG",
        "vAuP1WaUL_wv",
        "UJOsPwW2An_A",
        "9YXk2Q6RnNeV",
        "sZobeRX0G0he"
      ],
      "machine_shape": "hm"
    },
    "kernelspec": {
      "name": "python3",
      "display_name": "Python 3"
    },
    "accelerator": "GPU",
    "widgets": {
      "application/vnd.jupyter.widget-state+json": {
        "ac9d37f39f2b424cbf8f3929232b532c": {
          "model_module": "@jupyter-widgets/controls",
          "model_name": "HBoxModel",
          "state": {
            "_view_name": "HBoxView",
            "_dom_classes": [],
            "_model_name": "HBoxModel",
            "_view_module": "@jupyter-widgets/controls",
            "_model_module_version": "1.5.0",
            "_view_count": null,
            "_view_module_version": "1.5.0",
            "box_style": "",
            "layout": "IPY_MODEL_a70e9e01c779409785df7e6d87078e7a",
            "_model_module": "@jupyter-widgets/controls",
            "children": [
              "IPY_MODEL_294e744f240d41de88ae14afc6677481",
              "IPY_MODEL_617caccfa65b41828b56638cd39afdbf"
            ]
          }
        },
        "a70e9e01c779409785df7e6d87078e7a": {
          "model_module": "@jupyter-widgets/base",
          "model_name": "LayoutModel",
          "state": {
            "_view_name": "LayoutView",
            "grid_template_rows": null,
            "right": null,
            "justify_content": null,
            "_view_module": "@jupyter-widgets/base",
            "overflow": null,
            "_model_module_version": "1.2.0",
            "_view_count": null,
            "flex_flow": null,
            "width": null,
            "min_width": null,
            "border": null,
            "align_items": null,
            "bottom": null,
            "_model_module": "@jupyter-widgets/base",
            "top": null,
            "grid_column": null,
            "overflow_y": null,
            "overflow_x": null,
            "grid_auto_flow": null,
            "grid_area": null,
            "grid_template_columns": null,
            "flex": null,
            "_model_name": "LayoutModel",
            "justify_items": null,
            "grid_row": null,
            "max_height": null,
            "align_content": null,
            "visibility": null,
            "align_self": null,
            "height": null,
            "min_height": null,
            "padding": null,
            "grid_auto_rows": null,
            "grid_gap": null,
            "max_width": null,
            "order": null,
            "_view_module_version": "1.2.0",
            "grid_template_areas": null,
            "object_position": null,
            "object_fit": null,
            "grid_auto_columns": null,
            "margin": null,
            "display": null,
            "left": null
          }
        },
        "294e744f240d41de88ae14afc6677481": {
          "model_module": "@jupyter-widgets/controls",
          "model_name": "FloatProgressModel",
          "state": {
            "_view_name": "ProgressView",
            "style": "IPY_MODEL_2cd7a367e8e14dc4864937c231cd53f1",
            "_dom_classes": [],
            "description": "Downloading: 100%",
            "_model_name": "FloatProgressModel",
            "bar_style": "success",
            "max": 433,
            "_view_module": "@jupyter-widgets/controls",
            "_model_module_version": "1.5.0",
            "value": 433,
            "_view_count": null,
            "_view_module_version": "1.5.0",
            "orientation": "horizontal",
            "min": 0,
            "description_tooltip": null,
            "_model_module": "@jupyter-widgets/controls",
            "layout": "IPY_MODEL_a96bd91fc7ca4ddfbbdf0f691c0d0205"
          }
        },
        "617caccfa65b41828b56638cd39afdbf": {
          "model_module": "@jupyter-widgets/controls",
          "model_name": "HTMLModel",
          "state": {
            "_view_name": "HTMLView",
            "style": "IPY_MODEL_e502b8a9cc3a4c379af1a8705a7f8cd7",
            "_dom_classes": [],
            "description": "",
            "_model_name": "HTMLModel",
            "placeholder": "​",
            "_view_module": "@jupyter-widgets/controls",
            "_model_module_version": "1.5.0",
            "value": " 433/433 [00:00&lt;00:00, 1.14kB/s]",
            "_view_count": null,
            "_view_module_version": "1.5.0",
            "description_tooltip": null,
            "_model_module": "@jupyter-widgets/controls",
            "layout": "IPY_MODEL_46447ae12af84ed690717ba11beef565"
          }
        },
        "2cd7a367e8e14dc4864937c231cd53f1": {
          "model_module": "@jupyter-widgets/controls",
          "model_name": "ProgressStyleModel",
          "state": {
            "_view_name": "StyleView",
            "_model_name": "ProgressStyleModel",
            "description_width": "initial",
            "_view_module": "@jupyter-widgets/base",
            "_model_module_version": "1.5.0",
            "_view_count": null,
            "_view_module_version": "1.2.0",
            "bar_color": null,
            "_model_module": "@jupyter-widgets/controls"
          }
        },
        "a96bd91fc7ca4ddfbbdf0f691c0d0205": {
          "model_module": "@jupyter-widgets/base",
          "model_name": "LayoutModel",
          "state": {
            "_view_name": "LayoutView",
            "grid_template_rows": null,
            "right": null,
            "justify_content": null,
            "_view_module": "@jupyter-widgets/base",
            "overflow": null,
            "_model_module_version": "1.2.0",
            "_view_count": null,
            "flex_flow": null,
            "width": null,
            "min_width": null,
            "border": null,
            "align_items": null,
            "bottom": null,
            "_model_module": "@jupyter-widgets/base",
            "top": null,
            "grid_column": null,
            "overflow_y": null,
            "overflow_x": null,
            "grid_auto_flow": null,
            "grid_area": null,
            "grid_template_columns": null,
            "flex": null,
            "_model_name": "LayoutModel",
            "justify_items": null,
            "grid_row": null,
            "max_height": null,
            "align_content": null,
            "visibility": null,
            "align_self": null,
            "height": null,
            "min_height": null,
            "padding": null,
            "grid_auto_rows": null,
            "grid_gap": null,
            "max_width": null,
            "order": null,
            "_view_module_version": "1.2.0",
            "grid_template_areas": null,
            "object_position": null,
            "object_fit": null,
            "grid_auto_columns": null,
            "margin": null,
            "display": null,
            "left": null
          }
        },
        "e502b8a9cc3a4c379af1a8705a7f8cd7": {
          "model_module": "@jupyter-widgets/controls",
          "model_name": "DescriptionStyleModel",
          "state": {
            "_view_name": "StyleView",
            "_model_name": "DescriptionStyleModel",
            "description_width": "",
            "_view_module": "@jupyter-widgets/base",
            "_model_module_version": "1.5.0",
            "_view_count": null,
            "_view_module_version": "1.2.0",
            "_model_module": "@jupyter-widgets/controls"
          }
        },
        "46447ae12af84ed690717ba11beef565": {
          "model_module": "@jupyter-widgets/base",
          "model_name": "LayoutModel",
          "state": {
            "_view_name": "LayoutView",
            "grid_template_rows": null,
            "right": null,
            "justify_content": null,
            "_view_module": "@jupyter-widgets/base",
            "overflow": null,
            "_model_module_version": "1.2.0",
            "_view_count": null,
            "flex_flow": null,
            "width": null,
            "min_width": null,
            "border": null,
            "align_items": null,
            "bottom": null,
            "_model_module": "@jupyter-widgets/base",
            "top": null,
            "grid_column": null,
            "overflow_y": null,
            "overflow_x": null,
            "grid_auto_flow": null,
            "grid_area": null,
            "grid_template_columns": null,
            "flex": null,
            "_model_name": "LayoutModel",
            "justify_items": null,
            "grid_row": null,
            "max_height": null,
            "align_content": null,
            "visibility": null,
            "align_self": null,
            "height": null,
            "min_height": null,
            "padding": null,
            "grid_auto_rows": null,
            "grid_gap": null,
            "max_width": null,
            "order": null,
            "_view_module_version": "1.2.0",
            "grid_template_areas": null,
            "object_position": null,
            "object_fit": null,
            "grid_auto_columns": null,
            "margin": null,
            "display": null,
            "left": null
          }
        },
        "90aa98625bcd4e90b1b96bd360fef44a": {
          "model_module": "@jupyter-widgets/controls",
          "model_name": "HBoxModel",
          "state": {
            "_view_name": "HBoxView",
            "_dom_classes": [],
            "_model_name": "HBoxModel",
            "_view_module": "@jupyter-widgets/controls",
            "_model_module_version": "1.5.0",
            "_view_count": null,
            "_view_module_version": "1.5.0",
            "box_style": "",
            "layout": "IPY_MODEL_e9394536589046b5b3ea98c7232491cf",
            "_model_module": "@jupyter-widgets/controls",
            "children": [
              "IPY_MODEL_5a6db42fff434d23943fde48e7e99c15",
              "IPY_MODEL_9bc363e9b095448da48da0991de2cade"
            ]
          }
        },
        "e9394536589046b5b3ea98c7232491cf": {
          "model_module": "@jupyter-widgets/base",
          "model_name": "LayoutModel",
          "state": {
            "_view_name": "LayoutView",
            "grid_template_rows": null,
            "right": null,
            "justify_content": null,
            "_view_module": "@jupyter-widgets/base",
            "overflow": null,
            "_model_module_version": "1.2.0",
            "_view_count": null,
            "flex_flow": null,
            "width": null,
            "min_width": null,
            "border": null,
            "align_items": null,
            "bottom": null,
            "_model_module": "@jupyter-widgets/base",
            "top": null,
            "grid_column": null,
            "overflow_y": null,
            "overflow_x": null,
            "grid_auto_flow": null,
            "grid_area": null,
            "grid_template_columns": null,
            "flex": null,
            "_model_name": "LayoutModel",
            "justify_items": null,
            "grid_row": null,
            "max_height": null,
            "align_content": null,
            "visibility": null,
            "align_self": null,
            "height": null,
            "min_height": null,
            "padding": null,
            "grid_auto_rows": null,
            "grid_gap": null,
            "max_width": null,
            "order": null,
            "_view_module_version": "1.2.0",
            "grid_template_areas": null,
            "object_position": null,
            "object_fit": null,
            "grid_auto_columns": null,
            "margin": null,
            "display": null,
            "left": null
          }
        },
        "5a6db42fff434d23943fde48e7e99c15": {
          "model_module": "@jupyter-widgets/controls",
          "model_name": "FloatProgressModel",
          "state": {
            "_view_name": "ProgressView",
            "style": "IPY_MODEL_0cf5815488c049daa46173ce1c07184d",
            "_dom_classes": [],
            "description": "Downloading: 100%",
            "_model_name": "FloatProgressModel",
            "bar_style": "success",
            "max": 440473133,
            "_view_module": "@jupyter-widgets/controls",
            "_model_module_version": "1.5.0",
            "value": 440473133,
            "_view_count": null,
            "_view_module_version": "1.5.0",
            "orientation": "horizontal",
            "min": 0,
            "description_tooltip": null,
            "_model_module": "@jupyter-widgets/controls",
            "layout": "IPY_MODEL_bfa9d4b18d7241bd8457eb5df18ba873"
          }
        },
        "9bc363e9b095448da48da0991de2cade": {
          "model_module": "@jupyter-widgets/controls",
          "model_name": "HTMLModel",
          "state": {
            "_view_name": "HTMLView",
            "style": "IPY_MODEL_9bdc19f0fafe454183120e7af7b1be34",
            "_dom_classes": [],
            "description": "",
            "_model_name": "HTMLModel",
            "placeholder": "​",
            "_view_module": "@jupyter-widgets/controls",
            "_model_module_version": "1.5.0",
            "value": " 440M/440M [00:08&lt;00:00, 49.3MB/s]",
            "_view_count": null,
            "_view_module_version": "1.5.0",
            "description_tooltip": null,
            "_model_module": "@jupyter-widgets/controls",
            "layout": "IPY_MODEL_48833c9326a344759bb1ebe5ca075f14"
          }
        },
        "0cf5815488c049daa46173ce1c07184d": {
          "model_module": "@jupyter-widgets/controls",
          "model_name": "ProgressStyleModel",
          "state": {
            "_view_name": "StyleView",
            "_model_name": "ProgressStyleModel",
            "description_width": "initial",
            "_view_module": "@jupyter-widgets/base",
            "_model_module_version": "1.5.0",
            "_view_count": null,
            "_view_module_version": "1.2.0",
            "bar_color": null,
            "_model_module": "@jupyter-widgets/controls"
          }
        },
        "bfa9d4b18d7241bd8457eb5df18ba873": {
          "model_module": "@jupyter-widgets/base",
          "model_name": "LayoutModel",
          "state": {
            "_view_name": "LayoutView",
            "grid_template_rows": null,
            "right": null,
            "justify_content": null,
            "_view_module": "@jupyter-widgets/base",
            "overflow": null,
            "_model_module_version": "1.2.0",
            "_view_count": null,
            "flex_flow": null,
            "width": null,
            "min_width": null,
            "border": null,
            "align_items": null,
            "bottom": null,
            "_model_module": "@jupyter-widgets/base",
            "top": null,
            "grid_column": null,
            "overflow_y": null,
            "overflow_x": null,
            "grid_auto_flow": null,
            "grid_area": null,
            "grid_template_columns": null,
            "flex": null,
            "_model_name": "LayoutModel",
            "justify_items": null,
            "grid_row": null,
            "max_height": null,
            "align_content": null,
            "visibility": null,
            "align_self": null,
            "height": null,
            "min_height": null,
            "padding": null,
            "grid_auto_rows": null,
            "grid_gap": null,
            "max_width": null,
            "order": null,
            "_view_module_version": "1.2.0",
            "grid_template_areas": null,
            "object_position": null,
            "object_fit": null,
            "grid_auto_columns": null,
            "margin": null,
            "display": null,
            "left": null
          }
        },
        "9bdc19f0fafe454183120e7af7b1be34": {
          "model_module": "@jupyter-widgets/controls",
          "model_name": "DescriptionStyleModel",
          "state": {
            "_view_name": "StyleView",
            "_model_name": "DescriptionStyleModel",
            "description_width": "",
            "_view_module": "@jupyter-widgets/base",
            "_model_module_version": "1.5.0",
            "_view_count": null,
            "_view_module_version": "1.2.0",
            "_model_module": "@jupyter-widgets/controls"
          }
        },
        "48833c9326a344759bb1ebe5ca075f14": {
          "model_module": "@jupyter-widgets/base",
          "model_name": "LayoutModel",
          "state": {
            "_view_name": "LayoutView",
            "grid_template_rows": null,
            "right": null,
            "justify_content": null,
            "_view_module": "@jupyter-widgets/base",
            "overflow": null,
            "_model_module_version": "1.2.0",
            "_view_count": null,
            "flex_flow": null,
            "width": null,
            "min_width": null,
            "border": null,
            "align_items": null,
            "bottom": null,
            "_model_module": "@jupyter-widgets/base",
            "top": null,
            "grid_column": null,
            "overflow_y": null,
            "overflow_x": null,
            "grid_auto_flow": null,
            "grid_area": null,
            "grid_template_columns": null,
            "flex": null,
            "_model_name": "LayoutModel",
            "justify_items": null,
            "grid_row": null,
            "max_height": null,
            "align_content": null,
            "visibility": null,
            "align_self": null,
            "height": null,
            "min_height": null,
            "padding": null,
            "grid_auto_rows": null,
            "grid_gap": null,
            "max_width": null,
            "order": null,
            "_view_module_version": "1.2.0",
            "grid_template_areas": null,
            "object_position": null,
            "object_fit": null,
            "grid_auto_columns": null,
            "margin": null,
            "display": null,
            "left": null
          }
        },
        "0654da6bd2634ebfb1c217cd92e14e95": {
          "model_module": "@jupyter-widgets/controls",
          "model_name": "HBoxModel",
          "state": {
            "_view_name": "HBoxView",
            "_dom_classes": [],
            "_model_name": "HBoxModel",
            "_view_module": "@jupyter-widgets/controls",
            "_model_module_version": "1.5.0",
            "_view_count": null,
            "_view_module_version": "1.5.0",
            "box_style": "",
            "layout": "IPY_MODEL_e8f865d666074a60b68263299f578d6a",
            "_model_module": "@jupyter-widgets/controls",
            "children": [
              "IPY_MODEL_ff045069ba3b4eeb8bddfe41b3b5cc8d",
              "IPY_MODEL_e8b4684c99344d4d8b37b4ef5bd8e1a2"
            ]
          }
        },
        "e8f865d666074a60b68263299f578d6a": {
          "model_module": "@jupyter-widgets/base",
          "model_name": "LayoutModel",
          "state": {
            "_view_name": "LayoutView",
            "grid_template_rows": null,
            "right": null,
            "justify_content": null,
            "_view_module": "@jupyter-widgets/base",
            "overflow": null,
            "_model_module_version": "1.2.0",
            "_view_count": null,
            "flex_flow": null,
            "width": null,
            "min_width": null,
            "border": null,
            "align_items": null,
            "bottom": null,
            "_model_module": "@jupyter-widgets/base",
            "top": null,
            "grid_column": null,
            "overflow_y": null,
            "overflow_x": null,
            "grid_auto_flow": null,
            "grid_area": null,
            "grid_template_columns": null,
            "flex": null,
            "_model_name": "LayoutModel",
            "justify_items": null,
            "grid_row": null,
            "max_height": null,
            "align_content": null,
            "visibility": null,
            "align_self": null,
            "height": null,
            "min_height": null,
            "padding": null,
            "grid_auto_rows": null,
            "grid_gap": null,
            "max_width": null,
            "order": null,
            "_view_module_version": "1.2.0",
            "grid_template_areas": null,
            "object_position": null,
            "object_fit": null,
            "grid_auto_columns": null,
            "margin": null,
            "display": null,
            "left": null
          }
        },
        "ff045069ba3b4eeb8bddfe41b3b5cc8d": {
          "model_module": "@jupyter-widgets/controls",
          "model_name": "FloatProgressModel",
          "state": {
            "_view_name": "ProgressView",
            "style": "IPY_MODEL_06cc46620ba940e6b352511cd761075d",
            "_dom_classes": [],
            "description": "Downloading: 100%",
            "_model_name": "FloatProgressModel",
            "bar_style": "success",
            "max": 231508,
            "_view_module": "@jupyter-widgets/controls",
            "_model_module_version": "1.5.0",
            "value": 231508,
            "_view_count": null,
            "_view_module_version": "1.5.0",
            "orientation": "horizontal",
            "min": 0,
            "description_tooltip": null,
            "_model_module": "@jupyter-widgets/controls",
            "layout": "IPY_MODEL_a3b29c5bb322486d8620d3c599143c0d"
          }
        },
        "e8b4684c99344d4d8b37b4ef5bd8e1a2": {
          "model_module": "@jupyter-widgets/controls",
          "model_name": "HTMLModel",
          "state": {
            "_view_name": "HTMLView",
            "style": "IPY_MODEL_7693eaa14a8f43ddaad98735bfe6c21c",
            "_dom_classes": [],
            "description": "",
            "_model_name": "HTMLModel",
            "placeholder": "​",
            "_view_module": "@jupyter-widgets/controls",
            "_model_module_version": "1.5.0",
            "value": " 232k/232k [00:00&lt;00:00, 630kB/s]",
            "_view_count": null,
            "_view_module_version": "1.5.0",
            "description_tooltip": null,
            "_model_module": "@jupyter-widgets/controls",
            "layout": "IPY_MODEL_1c04e5b60cb244ed87b71503a776eb4e"
          }
        },
        "06cc46620ba940e6b352511cd761075d": {
          "model_module": "@jupyter-widgets/controls",
          "model_name": "ProgressStyleModel",
          "state": {
            "_view_name": "StyleView",
            "_model_name": "ProgressStyleModel",
            "description_width": "initial",
            "_view_module": "@jupyter-widgets/base",
            "_model_module_version": "1.5.0",
            "_view_count": null,
            "_view_module_version": "1.2.0",
            "bar_color": null,
            "_model_module": "@jupyter-widgets/controls"
          }
        },
        "a3b29c5bb322486d8620d3c599143c0d": {
          "model_module": "@jupyter-widgets/base",
          "model_name": "LayoutModel",
          "state": {
            "_view_name": "LayoutView",
            "grid_template_rows": null,
            "right": null,
            "justify_content": null,
            "_view_module": "@jupyter-widgets/base",
            "overflow": null,
            "_model_module_version": "1.2.0",
            "_view_count": null,
            "flex_flow": null,
            "width": null,
            "min_width": null,
            "border": null,
            "align_items": null,
            "bottom": null,
            "_model_module": "@jupyter-widgets/base",
            "top": null,
            "grid_column": null,
            "overflow_y": null,
            "overflow_x": null,
            "grid_auto_flow": null,
            "grid_area": null,
            "grid_template_columns": null,
            "flex": null,
            "_model_name": "LayoutModel",
            "justify_items": null,
            "grid_row": null,
            "max_height": null,
            "align_content": null,
            "visibility": null,
            "align_self": null,
            "height": null,
            "min_height": null,
            "padding": null,
            "grid_auto_rows": null,
            "grid_gap": null,
            "max_width": null,
            "order": null,
            "_view_module_version": "1.2.0",
            "grid_template_areas": null,
            "object_position": null,
            "object_fit": null,
            "grid_auto_columns": null,
            "margin": null,
            "display": null,
            "left": null
          }
        },
        "7693eaa14a8f43ddaad98735bfe6c21c": {
          "model_module": "@jupyter-widgets/controls",
          "model_name": "DescriptionStyleModel",
          "state": {
            "_view_name": "StyleView",
            "_model_name": "DescriptionStyleModel",
            "description_width": "",
            "_view_module": "@jupyter-widgets/base",
            "_model_module_version": "1.5.0",
            "_view_count": null,
            "_view_module_version": "1.2.0",
            "_model_module": "@jupyter-widgets/controls"
          }
        },
        "1c04e5b60cb244ed87b71503a776eb4e": {
          "model_module": "@jupyter-widgets/base",
          "model_name": "LayoutModel",
          "state": {
            "_view_name": "LayoutView",
            "grid_template_rows": null,
            "right": null,
            "justify_content": null,
            "_view_module": "@jupyter-widgets/base",
            "overflow": null,
            "_model_module_version": "1.2.0",
            "_view_count": null,
            "flex_flow": null,
            "width": null,
            "min_width": null,
            "border": null,
            "align_items": null,
            "bottom": null,
            "_model_module": "@jupyter-widgets/base",
            "top": null,
            "grid_column": null,
            "overflow_y": null,
            "overflow_x": null,
            "grid_auto_flow": null,
            "grid_area": null,
            "grid_template_columns": null,
            "flex": null,
            "_model_name": "LayoutModel",
            "justify_items": null,
            "grid_row": null,
            "max_height": null,
            "align_content": null,
            "visibility": null,
            "align_self": null,
            "height": null,
            "min_height": null,
            "padding": null,
            "grid_auto_rows": null,
            "grid_gap": null,
            "max_width": null,
            "order": null,
            "_view_module_version": "1.2.0",
            "grid_template_areas": null,
            "object_position": null,
            "object_fit": null,
            "grid_auto_columns": null,
            "margin": null,
            "display": null,
            "left": null
          }
        }
      }
    }
  },
  "cells": [
    {
      "cell_type": "markdown",
      "metadata": {
        "id": "SQ915C07Z4TA"
      },
      "source": [
        "# **Team Information - For final project**\r\n",
        "\r\n",
        "[**Github Link**](https://github.com/CMPE257-AlternusVera-All-Teams/AlternusVera-All-Teams-Integration)\r\n",
        "\r\n",
        "Name: Achalaesh Lanka\r\n",
        "\r\n",
        "Email: achalaesh.lanka@sjsu.edu\r\n",
        "\r\n",
        "ID: 013736528\r\n",
        "\r\n",
        "-----------\r\n",
        "Name: Sergio Aguilar Camarena\r\n",
        "\r\n",
        "Email: sergio.aguilarcamarena@sjsu.edu\r\n",
        "\r\n",
        "ID:  014579487\r\n",
        "\r\n",
        "----------\r\n",
        "\r\n",
        "Name: Indrayani Bhalerao\r\n",
        "\r\n",
        "Email: indrayani.bhalerao@sjsu.edu\r\n",
        "\r\n",
        "ID: 013859001\r\n",
        "\r\n",
        "----------\r\n",
        "\r\n",
        "Name: Geethu Padachery\r\n",
        "\r\n",
        "Email: geethu.padachery@sjsu.edu\r\n",
        "\r\n",
        "ID: 012538708\r\n",
        "\r\n",
        "----------\r\n",
        "\r\n",
        "\r\n",
        "\r\n",
        "### **Topic: 1 Smooth Sailing AV**\r\n",
        "\r\n"
      ]
    },
    {
      "cell_type": "markdown",
      "metadata": {
        "id": "88rxmKuoaPej"
      },
      "source": [
        "# **Individual Contribution**\r\n",
        "\r\n",
        "Total points - 40\r\n",
        "\r\n",
        "Name | Achalaesh Lanka | Sergio Aguilar Camarena | Geethu Padachery | Indrayani Bhalerao\r\n",
        "--- | :---: | :---: | :---: | :---:\r\n",
        "Achalaesh Lanka | 10 | 10 | 10 | 10\r\n",
        "Sergio Aguilar Camarena | 10 | 10 | 10 | 10\r\n",
        "Geethu Padachery | 10 | 10 | 10 | 10\r\n",
        "Indrayani Bhalerao | 10 | 10 | 10 | 10\r\n",
        "\r\n",
        "\r\n",
        "Comments from each member -\r\n",
        "\r\n",
        "**Achalaesh**: Everyone contributed well on the team. We had knowledge gaps when we started the project. However, we came together as a team and finished the project. All my team members deserve a full share of the points.\r\n",
        "\r\n",
        "**Sergio**: All team members worked equally hard and deserve a full share of the points. Very happy with the overall team effort and achievement in the short span.\r\n",
        "\r\n",
        "**Indrayani**: We all worked together on the analysis of code and discussed what needs to be refactored. We divided portions of code and made the appropriate modifications for a seamless integration process. All of us deserve equal share in points for the Smooth Sailing Alternus Vera Project.\r\n",
        "\r\n",
        "**Geethu**: As a team, we made the code uniform by removing the redundant imports and libraries. Everyone on my team did an excellent job and deserves a whole share of the credit. \r\n",
        "\r\n",
        "\r\n",
        "\r\n",
        "\r\n"
      ]
    },
    {
      "cell_type": "markdown",
      "metadata": {
        "id": "8Y1FVhhkYM_h"
      },
      "source": [
        "# Performance Analysis\r\n",
        "\r\n",
        "\r\n",
        "Description | Before  | After  \r\n",
        "--- | :---: | :---:\r\n",
        "Overall Colab Runtime  | > 18:00 mins | 5:40 mins \r\n",
        "Number of google drive connections | 17 | 0 \r\n",
        "Number of google Authentications| 2 | 0 \r\n",
        "Number of proceed y/n| 1 | 0 \r\n",
        "Features broken| 2 | 0\r\n",
        "Restart times due library loading| 3 | 0 \r\n"
      ]
    },
    {
      "cell_type": "markdown",
      "metadata": {
        "id": "gSI0TkLgFY84"
      },
      "source": [
        "# Import common libraries  (6GB of huge models)"
      ]
    },
    {
      "cell_type": "code",
      "metadata": {
        "id": "p3yU7LTZFh-k"
      },
      "source": [
        "Loaded_en_core = False"
      ],
      "execution_count": null,
      "outputs": []
    },
    {
      "cell_type": "code",
      "metadata": {
        "colab": {
          "base_uri": "https://localhost:8080/"
        },
        "id": "YrkojAN8FYOM",
        "outputId": "df4095bb-13cc-4754-b9ee-577e3ad9d4b6"
      },
      "source": [
        "if not Loaded_en_core:\r\n",
        "  !python -m spacy download en_core_web_md\r\n",
        "  import spacy\r\n",
        "  from spacy.matcher import Matcher \r\n",
        "  from spacy.tokens import Span \r\n",
        "  import en_core_web_md\r\n",
        "\r\n",
        "  nlp = en_core_web_md.load()\r\n",
        "  Loaded_en_core = True"
      ],
      "execution_count": null,
      "outputs": [
        {
          "output_type": "stream",
          "text": [
            "Collecting en_core_web_md==2.2.5\n",
            "\u001b[?25l  Downloading https://github.com/explosion/spacy-models/releases/download/en_core_web_md-2.2.5/en_core_web_md-2.2.5.tar.gz (96.4MB)\n",
            "\u001b[K     |████████████████████████████████| 96.4MB 1.1MB/s \n",
            "\u001b[?25hRequirement already satisfied: spacy>=2.2.2 in /usr/local/lib/python3.6/dist-packages (from en_core_web_md==2.2.5) (2.2.4)\n",
            "Requirement already satisfied: preshed<3.1.0,>=3.0.2 in /usr/local/lib/python3.6/dist-packages (from spacy>=2.2.2->en_core_web_md==2.2.5) (3.0.5)\n",
            "Requirement already satisfied: srsly<1.1.0,>=1.0.2 in /usr/local/lib/python3.6/dist-packages (from spacy>=2.2.2->en_core_web_md==2.2.5) (1.0.5)\n",
            "Requirement already satisfied: catalogue<1.1.0,>=0.0.7 in /usr/local/lib/python3.6/dist-packages (from spacy>=2.2.2->en_core_web_md==2.2.5) (1.0.0)\n",
            "Requirement already satisfied: tqdm<5.0.0,>=4.38.0 in /usr/local/lib/python3.6/dist-packages (from spacy>=2.2.2->en_core_web_md==2.2.5) (4.41.1)\n",
            "Requirement already satisfied: blis<0.5.0,>=0.4.0 in /usr/local/lib/python3.6/dist-packages (from spacy>=2.2.2->en_core_web_md==2.2.5) (0.4.1)\n",
            "Requirement already satisfied: plac<1.2.0,>=0.9.6 in /usr/local/lib/python3.6/dist-packages (from spacy>=2.2.2->en_core_web_md==2.2.5) (1.1.3)\n",
            "Requirement already satisfied: setuptools in /usr/local/lib/python3.6/dist-packages (from spacy>=2.2.2->en_core_web_md==2.2.5) (50.3.2)\n",
            "Requirement already satisfied: wasabi<1.1.0,>=0.4.0 in /usr/local/lib/python3.6/dist-packages (from spacy>=2.2.2->en_core_web_md==2.2.5) (0.8.0)\n",
            "Requirement already satisfied: numpy>=1.15.0 in /usr/local/lib/python3.6/dist-packages (from spacy>=2.2.2->en_core_web_md==2.2.5) (1.18.5)\n",
            "Requirement already satisfied: cymem<2.1.0,>=2.0.2 in /usr/local/lib/python3.6/dist-packages (from spacy>=2.2.2->en_core_web_md==2.2.5) (2.0.5)\n",
            "Requirement already satisfied: thinc==7.4.0 in /usr/local/lib/python3.6/dist-packages (from spacy>=2.2.2->en_core_web_md==2.2.5) (7.4.0)\n",
            "Requirement already satisfied: requests<3.0.0,>=2.13.0 in /usr/local/lib/python3.6/dist-packages (from spacy>=2.2.2->en_core_web_md==2.2.5) (2.23.0)\n",
            "Requirement already satisfied: murmurhash<1.1.0,>=0.28.0 in /usr/local/lib/python3.6/dist-packages (from spacy>=2.2.2->en_core_web_md==2.2.5) (1.0.5)\n",
            "Requirement already satisfied: importlib-metadata>=0.20; python_version < \"3.8\" in /usr/local/lib/python3.6/dist-packages (from catalogue<1.1.0,>=0.0.7->spacy>=2.2.2->en_core_web_md==2.2.5) (3.1.1)\n",
            "Requirement already satisfied: idna<3,>=2.5 in /usr/local/lib/python3.6/dist-packages (from requests<3.0.0,>=2.13.0->spacy>=2.2.2->en_core_web_md==2.2.5) (2.10)\n",
            "Requirement already satisfied: urllib3!=1.25.0,!=1.25.1,<1.26,>=1.21.1 in /usr/local/lib/python3.6/dist-packages (from requests<3.0.0,>=2.13.0->spacy>=2.2.2->en_core_web_md==2.2.5) (1.24.3)\n",
            "Requirement already satisfied: certifi>=2017.4.17 in /usr/local/lib/python3.6/dist-packages (from requests<3.0.0,>=2.13.0->spacy>=2.2.2->en_core_web_md==2.2.5) (2020.12.5)\n",
            "Requirement already satisfied: chardet<4,>=3.0.2 in /usr/local/lib/python3.6/dist-packages (from requests<3.0.0,>=2.13.0->spacy>=2.2.2->en_core_web_md==2.2.5) (3.0.4)\n",
            "Requirement already satisfied: zipp>=0.5 in /usr/local/lib/python3.6/dist-packages (from importlib-metadata>=0.20; python_version < \"3.8\"->catalogue<1.1.0,>=0.0.7->spacy>=2.2.2->en_core_web_md==2.2.5) (3.4.0)\n",
            "Building wheels for collected packages: en-core-web-md\n",
            "  Building wheel for en-core-web-md (setup.py) ... \u001b[?25l\u001b[?25hdone\n",
            "  Created wheel for en-core-web-md: filename=en_core_web_md-2.2.5-cp36-none-any.whl size=98051305 sha256=1f340182766860142f5c79a11cda0e0940f4243d461cdcd9eed0c4e5ec011066\n",
            "  Stored in directory: /tmp/pip-ephem-wheel-cache-2upvi7d3/wheels/df/94/ad/f5cf59224cea6b5686ac4fd1ad19c8a07bc026e13c36502d81\n",
            "Successfully built en-core-web-md\n",
            "Installing collected packages: en-core-web-md\n",
            "Successfully installed en-core-web-md-2.2.5\n",
            "\u001b[38;5;2m✔ Download and installation successful\u001b[0m\n",
            "You can now load the model via spacy.load('en_core_web_md')\n"
          ],
          "name": "stdout"
        }
      ]
    },
    {
      "cell_type": "code",
      "metadata": {
        "id": "fkkbCqxe089i"
      },
      "source": [
        "import warnings\r\n",
        "import gensim\r\n",
        "gensim_model = gensim.models.KeyedVectors.load_word2vec_format('https://s3.amazonaws.com/dl4j-distribution/GoogleNews-vectors-negative300.bin.gz', binary=True, limit=200000)"
      ],
      "execution_count": null,
      "outputs": []
    },
    {
      "cell_type": "code",
      "metadata": {
        "colab": {
          "base_uri": "https://localhost:8080/"
        },
        "id": "NX8uLNrNQg44",
        "outputId": "cf363d01-0a46-424e-c6f6-107d77647446"
      },
      "source": [
        "!pip install vaderSentiment"
      ],
      "execution_count": null,
      "outputs": [
        {
          "output_type": "stream",
          "text": [
            "Collecting vaderSentiment\n",
            "\u001b[?25l  Downloading https://files.pythonhosted.org/packages/76/fc/310e16254683c1ed35eeb97386986d6c00bc29df17ce280aed64d55537e9/vaderSentiment-3.3.2-py2.py3-none-any.whl (125kB)\n",
            "\r\u001b[K     |██▋                             | 10kB 16.9MB/s eta 0:00:01\r\u001b[K     |█████▏                          | 20kB 21.2MB/s eta 0:00:01\r\u001b[K     |███████▉                        | 30kB 26.2MB/s eta 0:00:01\r\u001b[K     |██████████▍                     | 40kB 21.6MB/s eta 0:00:01\r\u001b[K     |█████████████                   | 51kB 18.6MB/s eta 0:00:01\r\u001b[K     |███████████████▋                | 61kB 20.2MB/s eta 0:00:01\r\u001b[K     |██████████████████▏             | 71kB 13.0MB/s eta 0:00:01\r\u001b[K     |████████████████████▉           | 81kB 13.9MB/s eta 0:00:01\r\u001b[K     |███████████████████████▍        | 92kB 13.4MB/s eta 0:00:01\r\u001b[K     |██████████████████████████      | 102kB 13.1MB/s eta 0:00:01\r\u001b[K     |████████████████████████████▋   | 112kB 13.1MB/s eta 0:00:01\r\u001b[K     |███████████████████████████████▏| 122kB 13.1MB/s eta 0:00:01\r\u001b[K     |████████████████████████████████| 133kB 13.1MB/s \n",
            "\u001b[?25hRequirement already satisfied: requests in /usr/local/lib/python3.6/dist-packages (from vaderSentiment) (2.23.0)\n",
            "Requirement already satisfied: urllib3!=1.25.0,!=1.25.1,<1.26,>=1.21.1 in /usr/local/lib/python3.6/dist-packages (from requests->vaderSentiment) (1.24.3)\n",
            "Requirement already satisfied: certifi>=2017.4.17 in /usr/local/lib/python3.6/dist-packages (from requests->vaderSentiment) (2020.12.5)\n",
            "Requirement already satisfied: idna<3,>=2.5 in /usr/local/lib/python3.6/dist-packages (from requests->vaderSentiment) (2.10)\n",
            "Requirement already satisfied: chardet<4,>=3.0.2 in /usr/local/lib/python3.6/dist-packages (from requests->vaderSentiment) (3.0.4)\n",
            "Installing collected packages: vaderSentiment\n",
            "Successfully installed vaderSentiment-3.3.2\n"
          ],
          "name": "stdout"
        }
      ]
    },
    {
      "cell_type": "code",
      "metadata": {
        "id": "b-VE041ZrUCb",
        "colab": {
          "base_uri": "https://localhost:8080/"
        },
        "outputId": "8e9bbf02-bf2f-4e9a-c983-e35dbebc4ef8"
      },
      "source": [
        "!pip install ktrain"
      ],
      "execution_count": null,
      "outputs": [
        {
          "output_type": "stream",
          "text": [
            "Collecting ktrain\n",
            "\u001b[?25l  Downloading https://files.pythonhosted.org/packages/41/23/6f5addc2ade7c6240e2c9169bd7a9506cea17b35c9f322104a60dd4ba7fd/ktrain-0.25.2.tar.gz (25.3MB)\n",
            "\u001b[K     |████████████████████████████████| 25.3MB 1.4MB/s \n",
            "\u001b[?25hRequirement already satisfied: scikit-learn>=0.21.3 in /usr/local/lib/python3.6/dist-packages (from ktrain) (0.22.2.post1)\n",
            "Requirement already satisfied: matplotlib>=3.0.0 in /usr/local/lib/python3.6/dist-packages (from ktrain) (3.2.2)\n",
            "Requirement already satisfied: pandas>=1.0.1 in /usr/local/lib/python3.6/dist-packages (from ktrain) (1.1.5)\n",
            "Requirement already satisfied: fastprogress>=0.1.21 in /usr/local/lib/python3.6/dist-packages (from ktrain) (1.0.0)\n",
            "Requirement already satisfied: requests in /usr/local/lib/python3.6/dist-packages (from ktrain) (2.23.0)\n",
            "Requirement already satisfied: joblib in /usr/local/lib/python3.6/dist-packages (from ktrain) (0.17.0)\n",
            "Requirement already satisfied: packaging in /usr/local/lib/python3.6/dist-packages (from ktrain) (20.7)\n",
            "Requirement already satisfied: ipython in /usr/local/lib/python3.6/dist-packages (from ktrain) (5.5.0)\n",
            "Collecting langdetect\n",
            "\u001b[?25l  Downloading https://files.pythonhosted.org/packages/56/a3/8407c1e62d5980188b4acc45ef3d94b933d14a2ebc9ef3505f22cf772570/langdetect-1.0.8.tar.gz (981kB)\n",
            "\u001b[K     |████████████████████████████████| 983kB 47.8MB/s \n",
            "\u001b[?25hRequirement already satisfied: jieba in /usr/local/lib/python3.6/dist-packages (from ktrain) (0.42.1)\n",
            "Collecting cchardet\n",
            "\u001b[?25l  Downloading https://files.pythonhosted.org/packages/a0/e5/a0b9edd8664ea3b0d3270c451ebbf86655ed9fc4c3e4c45b9afae9c2e382/cchardet-2.1.7-cp36-cp36m-manylinux2010_x86_64.whl (263kB)\n",
            "\u001b[K     |████████████████████████████████| 266kB 46.4MB/s \n",
            "\u001b[?25hCollecting syntok\n",
            "  Downloading https://files.pythonhosted.org/packages/8c/76/a49e73a04b3e3a14ce232e8e28a1587f8108baa665644fe8c40e307e792e/syntok-1.3.1.tar.gz\n",
            "Collecting seqeval==0.0.19\n",
            "  Downloading https://files.pythonhosted.org/packages/93/e5/b7705156a77f742cfe4fc6f22d0c71591edb2d243328dff2f8fc0f933ab6/seqeval-0.0.19.tar.gz\n",
            "Collecting transformers<4.0,>=3.1.0\n",
            "\u001b[?25l  Downloading https://files.pythonhosted.org/packages/3a/83/e74092e7f24a08d751aa59b37a9fc572b2e4af3918cb66f7766c3affb1b4/transformers-3.5.1-py3-none-any.whl (1.3MB)\n",
            "\u001b[K     |████████████████████████████████| 1.3MB 47.0MB/s \n",
            "\u001b[?25hCollecting sentencepiece\n",
            "\u001b[?25l  Downloading https://files.pythonhosted.org/packages/e5/2d/6d4ca4bef9a67070fa1cac508606328329152b1df10bdf31fb6e4e727894/sentencepiece-0.1.94-cp36-cp36m-manylinux2014_x86_64.whl (1.1MB)\n",
            "\u001b[K     |████████████████████████████████| 1.1MB 48.8MB/s \n",
            "\u001b[?25hCollecting keras_bert>=0.86.0\n",
            "  Downloading https://files.pythonhosted.org/packages/e2/7f/95fabd29f4502924fa3f09ff6538c5a7d290dfef2c2fe076d3d1a16e08f0/keras-bert-0.86.0.tar.gz\n",
            "Requirement already satisfied: networkx>=2.3 in /usr/local/lib/python3.6/dist-packages (from ktrain) (2.5)\n",
            "Collecting whoosh\n",
            "\u001b[?25l  Downloading https://files.pythonhosted.org/packages/ba/19/24d0f1f454a2c1eb689ca28d2f178db81e5024f42d82729a4ff6771155cf/Whoosh-2.7.4-py2.py3-none-any.whl (468kB)\n",
            "\u001b[K     |████████████████████████████████| 471kB 34.3MB/s \n",
            "\u001b[?25hRequirement already satisfied: scipy>=0.17.0 in /usr/local/lib/python3.6/dist-packages (from scikit-learn>=0.21.3->ktrain) (1.4.1)\n",
            "Requirement already satisfied: numpy>=1.11.0 in /usr/local/lib/python3.6/dist-packages (from scikit-learn>=0.21.3->ktrain) (1.18.5)\n",
            "Requirement already satisfied: python-dateutil>=2.1 in /usr/local/lib/python3.6/dist-packages (from matplotlib>=3.0.0->ktrain) (2.8.1)\n",
            "Requirement already satisfied: kiwisolver>=1.0.1 in /usr/local/lib/python3.6/dist-packages (from matplotlib>=3.0.0->ktrain) (1.3.1)\n",
            "Requirement already satisfied: pyparsing!=2.0.4,!=2.1.2,!=2.1.6,>=2.0.1 in /usr/local/lib/python3.6/dist-packages (from matplotlib>=3.0.0->ktrain) (2.4.7)\n",
            "Requirement already satisfied: cycler>=0.10 in /usr/local/lib/python3.6/dist-packages (from matplotlib>=3.0.0->ktrain) (0.10.0)\n",
            "Requirement already satisfied: pytz>=2017.2 in /usr/local/lib/python3.6/dist-packages (from pandas>=1.0.1->ktrain) (2018.9)\n",
            "Requirement already satisfied: idna<3,>=2.5 in /usr/local/lib/python3.6/dist-packages (from requests->ktrain) (2.10)\n",
            "Requirement already satisfied: chardet<4,>=3.0.2 in /usr/local/lib/python3.6/dist-packages (from requests->ktrain) (3.0.4)\n",
            "Requirement already satisfied: urllib3!=1.25.0,!=1.25.1,<1.26,>=1.21.1 in /usr/local/lib/python3.6/dist-packages (from requests->ktrain) (1.24.3)\n",
            "Requirement already satisfied: certifi>=2017.4.17 in /usr/local/lib/python3.6/dist-packages (from requests->ktrain) (2020.12.5)\n",
            "Requirement already satisfied: pygments in /usr/local/lib/python3.6/dist-packages (from ipython->ktrain) (2.6.1)\n",
            "Requirement already satisfied: pexpect; sys_platform != \"win32\" in /usr/local/lib/python3.6/dist-packages (from ipython->ktrain) (4.8.0)\n",
            "Requirement already satisfied: pickleshare in /usr/local/lib/python3.6/dist-packages (from ipython->ktrain) (0.7.5)\n",
            "Requirement already satisfied: decorator in /usr/local/lib/python3.6/dist-packages (from ipython->ktrain) (4.4.2)\n",
            "Requirement already satisfied: traitlets>=4.2 in /usr/local/lib/python3.6/dist-packages (from ipython->ktrain) (4.3.3)\n",
            "Requirement already satisfied: simplegeneric>0.8 in /usr/local/lib/python3.6/dist-packages (from ipython->ktrain) (0.8.1)\n",
            "Requirement already satisfied: setuptools>=18.5 in /usr/local/lib/python3.6/dist-packages (from ipython->ktrain) (50.3.2)\n",
            "Requirement already satisfied: prompt-toolkit<2.0.0,>=1.0.4 in /usr/local/lib/python3.6/dist-packages (from ipython->ktrain) (1.0.18)\n",
            "Requirement already satisfied: six in /usr/local/lib/python3.6/dist-packages (from langdetect->ktrain) (1.15.0)\n",
            "Requirement already satisfied: regex in /usr/local/lib/python3.6/dist-packages (from syntok->ktrain) (2019.12.20)\n",
            "Requirement already satisfied: Keras>=2.2.4 in /usr/local/lib/python3.6/dist-packages (from seqeval==0.0.19->ktrain) (2.4.3)\n",
            "Requirement already satisfied: tqdm>=4.27 in /usr/local/lib/python3.6/dist-packages (from transformers<4.0,>=3.1.0->ktrain) (4.41.1)\n",
            "Requirement already satisfied: protobuf in /usr/local/lib/python3.6/dist-packages (from transformers<4.0,>=3.1.0->ktrain) (3.12.4)\n",
            "Collecting sacremoses\n",
            "\u001b[?25l  Downloading https://files.pythonhosted.org/packages/7d/34/09d19aff26edcc8eb2a01bed8e98f13a1537005d31e95233fd48216eed10/sacremoses-0.0.43.tar.gz (883kB)\n",
            "\u001b[K     |████████████████████████████████| 890kB 40.7MB/s \n",
            "\u001b[?25hRequirement already satisfied: dataclasses; python_version < \"3.7\" in /usr/local/lib/python3.6/dist-packages (from transformers<4.0,>=3.1.0->ktrain) (0.8)\n",
            "Collecting tokenizers==0.9.3\n",
            "\u001b[?25l  Downloading https://files.pythonhosted.org/packages/4c/34/b39eb9994bc3c999270b69c9eea40ecc6f0e97991dba28282b9fd32d44ee/tokenizers-0.9.3-cp36-cp36m-manylinux1_x86_64.whl (2.9MB)\n",
            "\u001b[K     |████████████████████████████████| 2.9MB 41.9MB/s \n",
            "\u001b[?25hRequirement already satisfied: filelock in /usr/local/lib/python3.6/dist-packages (from transformers<4.0,>=3.1.0->ktrain) (3.0.12)\n",
            "Collecting keras-transformer>=0.38.0\n",
            "  Downloading https://files.pythonhosted.org/packages/89/6c/d6f0c164f4cc16fbc0d0fea85f5526e87a7d2df7b077809e422a7e626150/keras-transformer-0.38.0.tar.gz\n",
            "Requirement already satisfied: ptyprocess>=0.5 in /usr/local/lib/python3.6/dist-packages (from pexpect; sys_platform != \"win32\"->ipython->ktrain) (0.6.0)\n",
            "Requirement already satisfied: ipython-genutils in /usr/local/lib/python3.6/dist-packages (from traitlets>=4.2->ipython->ktrain) (0.2.0)\n",
            "Requirement already satisfied: wcwidth in /usr/local/lib/python3.6/dist-packages (from prompt-toolkit<2.0.0,>=1.0.4->ipython->ktrain) (0.2.5)\n",
            "Requirement already satisfied: h5py in /usr/local/lib/python3.6/dist-packages (from Keras>=2.2.4->seqeval==0.0.19->ktrain) (2.10.0)\n",
            "Requirement already satisfied: pyyaml in /usr/local/lib/python3.6/dist-packages (from Keras>=2.2.4->seqeval==0.0.19->ktrain) (3.13)\n",
            "Requirement already satisfied: click in /usr/local/lib/python3.6/dist-packages (from sacremoses->transformers<4.0,>=3.1.0->ktrain) (7.1.2)\n",
            "Collecting keras-pos-embd>=0.11.0\n",
            "  Downloading https://files.pythonhosted.org/packages/09/70/b63ed8fc660da2bb6ae29b9895401c628da5740c048c190b5d7107cadd02/keras-pos-embd-0.11.0.tar.gz\n",
            "Collecting keras-multi-head>=0.27.0\n",
            "  Downloading https://files.pythonhosted.org/packages/e6/32/45adf2549450aca7867deccfa04af80a0ab1ca139af44b16bc669e0e09cd/keras-multi-head-0.27.0.tar.gz\n",
            "Collecting keras-layer-normalization>=0.14.0\n",
            "  Downloading https://files.pythonhosted.org/packages/a4/0e/d1078df0494bac9ce1a67954e5380b6e7569668f0f3b50a9531c62c1fc4a/keras-layer-normalization-0.14.0.tar.gz\n",
            "Collecting keras-position-wise-feed-forward>=0.6.0\n",
            "  Downloading https://files.pythonhosted.org/packages/e3/59/f0faa1037c033059e7e9e7758e6c23b4d1c0772cd48de14c4b6fd4033ad5/keras-position-wise-feed-forward-0.6.0.tar.gz\n",
            "Collecting keras-embed-sim>=0.8.0\n",
            "  Downloading https://files.pythonhosted.org/packages/57/ef/61a1e39082c9e1834a2d09261d4a0b69f7c818b359216d4e1912b20b1c86/keras-embed-sim-0.8.0.tar.gz\n",
            "Collecting keras-self-attention==0.46.0\n",
            "  Downloading https://files.pythonhosted.org/packages/15/6b/c804924a056955fa1f3ff767945187103cfc851ba9bd0fc5a6c6bc18e2eb/keras-self-attention-0.46.0.tar.gz\n",
            "Building wheels for collected packages: ktrain, langdetect, syntok, seqeval, keras-bert, sacremoses, keras-transformer, keras-pos-embd, keras-multi-head, keras-layer-normalization, keras-position-wise-feed-forward, keras-embed-sim, keras-self-attention\n",
            "  Building wheel for ktrain (setup.py) ... \u001b[?25l\u001b[?25hdone\n",
            "  Created wheel for ktrain: filename=ktrain-0.25.2-cp36-none-any.whl size=25276306 sha256=487a068d781a2052c6a229959cdd8d8f3380f48ae0732351f82e165eefd0f6a6\n",
            "  Stored in directory: /root/.cache/pip/wheels/fe/56/00/25444c352cc843e5c5daea0e9517a192878ae22c2c6b5f4573\n",
            "  Building wheel for langdetect (setup.py) ... \u001b[?25l\u001b[?25hdone\n",
            "  Created wheel for langdetect: filename=langdetect-1.0.8-cp36-none-any.whl size=993193 sha256=6c7868b9253b1caa09f25b8579aae295fed85e966507589cc7aac65478aadf3f\n",
            "  Stored in directory: /root/.cache/pip/wheels/8d/b3/aa/6d99de9f3841d7d3d40a60ea06e6d669e8e5012e6c8b947a57\n",
            "  Building wheel for syntok (setup.py) ... \u001b[?25l\u001b[?25hdone\n",
            "  Created wheel for syntok: filename=syntok-1.3.1-cp36-none-any.whl size=20919 sha256=c62aa36c95d1f53d3cb569aa718ce6d022170b48c3ed0e68349a72e53ff36712\n",
            "  Stored in directory: /root/.cache/pip/wheels/51/c6/a4/be1920586c49469846bcd2888200bdecfe109ec421dab9be2d\n",
            "  Building wheel for seqeval (setup.py) ... \u001b[?25l\u001b[?25hdone\n",
            "  Created wheel for seqeval: filename=seqeval-0.0.19-cp36-none-any.whl size=9920 sha256=04e06886e47189142460825c43a3a84c9189b1431c728c2006eb4a183170e966\n",
            "  Stored in directory: /root/.cache/pip/wheels/8d/1f/bf/1198beceed805a2099060975f6281d1b01046dd279e19c97be\n",
            "  Building wheel for keras-bert (setup.py) ... \u001b[?25l\u001b[?25hdone\n",
            "  Created wheel for keras-bert: filename=keras_bert-0.86.0-cp36-none-any.whl size=34146 sha256=d463f789959fb57ebc094509b8db6bbb25f2909415c2a539c8e1a43f4bf97309\n",
            "  Stored in directory: /root/.cache/pip/wheels/66/f0/b1/748128b58562fc9e31b907bb5e2ab6a35eb37695e83911236b\n",
            "  Building wheel for sacremoses (setup.py) ... \u001b[?25l\u001b[?25hdone\n",
            "  Created wheel for sacremoses: filename=sacremoses-0.0.43-cp36-none-any.whl size=893261 sha256=9d9844ea9ab3bb96bad2a5f95784ad60b18c05bfc91c4343bd0f0ed4ba36ab5c\n",
            "  Stored in directory: /root/.cache/pip/wheels/29/3c/fd/7ce5c3f0666dab31a50123635e6fb5e19ceb42ce38d4e58f45\n",
            "  Building wheel for keras-transformer (setup.py) ... \u001b[?25l\u001b[?25hdone\n",
            "  Created wheel for keras-transformer: filename=keras_transformer-0.38.0-cp36-none-any.whl size=12942 sha256=1b6a7e765cf8ff513653ac831d29ce1282e2c169803c53a1980176e3168d5ad9\n",
            "  Stored in directory: /root/.cache/pip/wheels/e5/fb/3a/37b2b9326c799aa010ae46a04ddb04f320d8c77c0b7e837f4e\n",
            "  Building wheel for keras-pos-embd (setup.py) ... \u001b[?25l\u001b[?25hdone\n",
            "  Created wheel for keras-pos-embd: filename=keras_pos_embd-0.11.0-cp36-none-any.whl size=7554 sha256=026991c938c2382fb165d21604abf8887eab7882dada9055204d319c7ea162b8\n",
            "  Stored in directory: /root/.cache/pip/wheels/5b/a1/a0/ce6b1d49ba1a9a76f592e70cf297b05c96bc9f418146761032\n",
            "  Building wheel for keras-multi-head (setup.py) ... \u001b[?25l\u001b[?25hdone\n",
            "  Created wheel for keras-multi-head: filename=keras_multi_head-0.27.0-cp36-none-any.whl size=15610 sha256=534d0d7c2f13e364a9fb9d2d2d27c1696ea583375e6e4fc57101db1ffc25e87d\n",
            "  Stored in directory: /root/.cache/pip/wheels/b5/b4/49/0a0c27dcb93c13af02fea254ff51d1a43a924dd4e5b7a7164d\n",
            "  Building wheel for keras-layer-normalization (setup.py) ... \u001b[?25l\u001b[?25hdone\n",
            "  Created wheel for keras-layer-normalization: filename=keras_layer_normalization-0.14.0-cp36-none-any.whl size=5267 sha256=20de2d5f772f742b9d525b8ed27febfab232097411615118796164103f97bcb6\n",
            "  Stored in directory: /root/.cache/pip/wheels/54/80/22/a638a7d406fd155e507aa33d703e3fa2612b9eb7bb4f4fe667\n",
            "  Building wheel for keras-position-wise-feed-forward (setup.py) ... \u001b[?25l\u001b[?25hdone\n",
            "  Created wheel for keras-position-wise-feed-forward: filename=keras_position_wise_feed_forward-0.6.0-cp36-none-any.whl size=5625 sha256=930606ecc3ea2f5afec4f91e11528784dec4b4c7cdc9b52eccfbb74abfb9e057\n",
            "  Stored in directory: /root/.cache/pip/wheels/39/e2/e2/3514fef126a00574b13bc0b9e23891800158df3a3c19c96e3b\n",
            "  Building wheel for keras-embed-sim (setup.py) ... \u001b[?25l\u001b[?25hdone\n",
            "  Created wheel for keras-embed-sim: filename=keras_embed_sim-0.8.0-cp36-none-any.whl size=4560 sha256=8e52709a2f431b8f17389a9be6ce0cea11fbf7e85a6ffbd7965665781ba0e894\n",
            "  Stored in directory: /root/.cache/pip/wheels/49/45/8b/c111f6cc8bec253e984677de73a6f4f5d2f1649f42aac191c8\n",
            "  Building wheel for keras-self-attention (setup.py) ... \u001b[?25l\u001b[?25hdone\n",
            "  Created wheel for keras-self-attention: filename=keras_self_attention-0.46.0-cp36-none-any.whl size=17278 sha256=91107d2ead181353b7b6d6c424e091aece2518d8910703b9989260bdbbc47c70\n",
            "  Stored in directory: /root/.cache/pip/wheels/d2/2e/80/fec4c05eb23c8e13b790e26d207d6e0ffe8013fad8c6bdd4d2\n",
            "Successfully built ktrain langdetect syntok seqeval keras-bert sacremoses keras-transformer keras-pos-embd keras-multi-head keras-layer-normalization keras-position-wise-feed-forward keras-embed-sim keras-self-attention\n",
            "\u001b[31mERROR: transformers 3.5.1 has requirement sentencepiece==0.1.91, but you'll have sentencepiece 0.1.94 which is incompatible.\u001b[0m\n",
            "Installing collected packages: langdetect, cchardet, syntok, seqeval, sacremoses, tokenizers, sentencepiece, transformers, keras-pos-embd, keras-self-attention, keras-multi-head, keras-layer-normalization, keras-position-wise-feed-forward, keras-embed-sim, keras-transformer, keras-bert, whoosh, ktrain\n",
            "Successfully installed cchardet-2.1.7 keras-bert-0.86.0 keras-embed-sim-0.8.0 keras-layer-normalization-0.14.0 keras-multi-head-0.27.0 keras-pos-embd-0.11.0 keras-position-wise-feed-forward-0.6.0 keras-self-attention-0.46.0 keras-transformer-0.38.0 ktrain-0.25.2 langdetect-1.0.8 sacremoses-0.0.43 sentencepiece-0.1.94 seqeval-0.0.19 syntok-1.3.1 tokenizers-0.9.3 transformers-3.5.1 whoosh-2.7.4\n"
          ],
          "name": "stdout"
        }
      ]
    },
    {
      "cell_type": "code",
      "metadata": {
        "id": "umCo23xCrY5i",
        "colab": {
          "base_uri": "https://localhost:8080/"
        },
        "outputId": "46100439-0f91-4c67-d76f-2cf9b504e2c1"
      },
      "source": [
        "! pip install textstat"
      ],
      "execution_count": null,
      "outputs": [
        {
          "output_type": "stream",
          "text": [
            "Collecting textstat\n",
            "\u001b[?25l  Downloading https://files.pythonhosted.org/packages/ca/b1/ab40a00b727a0d209402d1be6aa3f1bc75bd03678b59ace8507b08bf12f5/textstat-0.7.0-py3-none-any.whl (99kB)\n",
            "\u001b[K     |████████████████████████████████| 102kB 6.9MB/s \n",
            "\u001b[?25hCollecting pyphen\n",
            "\u001b[?25l  Downloading https://files.pythonhosted.org/packages/7c/5a/5bc036e01389bc6a6667a932bac3e388de6e7fa5777a6ff50e652f60ec79/Pyphen-0.10.0-py3-none-any.whl (1.9MB)\n",
            "\u001b[K     |████████████████████████████████| 1.9MB 17.6MB/s \n",
            "\u001b[?25hInstalling collected packages: pyphen, textstat\n",
            "Successfully installed pyphen-0.10.0 textstat-0.7.0\n"
          ],
          "name": "stdout"
        }
      ]
    },
    {
      "cell_type": "code",
      "metadata": {
        "colab": {
          "base_uri": "https://localhost:8080/"
        },
        "id": "I5VDgWi91ocg",
        "outputId": "b3977389-d839-4647-f0b8-da1899341357"
      },
      "source": [
        "! pip install torch"
      ],
      "execution_count": null,
      "outputs": [
        {
          "output_type": "stream",
          "text": [
            "Requirement already satisfied: torch in /usr/local/lib/python3.6/dist-packages (1.7.0+cu101)\n",
            "Requirement already satisfied: dataclasses in /usr/local/lib/python3.6/dist-packages (from torch) (0.8)\n",
            "Requirement already satisfied: future in /usr/local/lib/python3.6/dist-packages (from torch) (0.16.0)\n",
            "Requirement already satisfied: typing-extensions in /usr/local/lib/python3.6/dist-packages (from torch) (3.7.4.3)\n",
            "Requirement already satisfied: numpy in /usr/local/lib/python3.6/dist-packages (from torch) (1.18.5)\n"
          ],
          "name": "stdout"
        }
      ]
    },
    {
      "cell_type": "code",
      "metadata": {
        "colab": {
          "base_uri": "https://localhost:8080/"
        },
        "id": "Eczr9kxcnRrV",
        "outputId": "270ca473-2ad4-400c-dd0a-6a2f973f98aa"
      },
      "source": [
        "# !rm -rf all_models\r\n",
        "!CD /content\r\n",
        "!ls\r\n",
        "# !unzip /content/all_models/sk/seekers_bert.zip  -d /content/all_models/sk/"
      ],
      "execution_count": null,
      "outputs": [
        {
          "output_type": "stream",
          "text": [
            "/bin/bash: CD: command not found\n",
            "sample_data\n"
          ],
          "name": "stdout"
        }
      ]
    },
    {
      "cell_type": "code",
      "metadata": {
        "colab": {
          "base_uri": "https://localhost:8080/"
        },
        "id": "HBYkvxVwiC51",
        "outputId": "952c021d-370a-46b1-a14d-b4337b94a126"
      },
      "source": [
        "%%bash\r\n",
        "if [ -d \"./all_models\" ]\r\n",
        "then \r\n",
        "    echo \"Directory all models already exists\"\r\n",
        "else\r\n",
        "    mkdir all_models\r\n",
        "    wget --no-verbose \"https://cmpe-257-alternus-vera.s3.amazonaws.com/feature_finders_toxicity_model\"\r\n",
        "    wget --no-verbose \"https://cmpe-257-alternus-vera.s3.amazonaws.com/randomforest.sav\"\r\n",
        "    mv feature_finders_toxicity_model ./all_models/\r\n",
        "    mv randomforest.sav ./all_models/\r\n",
        "    \r\n",
        "    # gwc\r\n",
        "    mkdir all_models/keras\r\n",
        "    wget --no-verbose \"https://cmpe-257-alternus-vera.s3.amazonaws.com/girls_who_code_toxicity_model.h5\"\r\n",
        "    mv girls_who_code_toxicity_model.h5 ./all_models/keras/tf_model.h5\r\n",
        "    wget --no-verbose \"https://cmpe-257-alternus-vera.s3.amazonaws.com/girls_who_code_model.preproc\"\r\n",
        "    mv girls_who_code_model.preproc ./all_models/keras/tf_model.preproc\r\n",
        "\r\n",
        "    # blastoff\r\n",
        "    wget --no-verbose \"https://cmpe-257-alternus-vera.s3.amazonaws.com/blastoff_context_veracity_models.zip\"\r\n",
        "    mv blastoff_context_veracity_models.zip ./all_models/\r\n",
        "    wget --no-verbose \"https://cmpe-257-alternus-vera.s3.amazonaws.com/blastoff_bert.model\"\r\n",
        "    mv blastoff_bert.model ./all_models/\r\n",
        "\r\n",
        "    # ck\r\n",
        "    wget --no-verbose \"https://cmpe-257-alternus-vera.s3.amazonaws.com/cereal_killers_bert.zip\"\r\n",
        "    unzip cereal_killers_bert.zip \r\n",
        "    mv BERT ./all_models/\r\n",
        "\r\n",
        "    #sk\r\n",
        "    mkdir all_models/sk\r\n",
        "    wget --no-verbose \"https://cmpe-257-alternus-vera.s3.amazonaws.com/seekers_bert.zip\"\r\n",
        "    mv seekers_bert.zip ./all_models/sk\r\n",
        "    unzip /content/all_models/sk/seekers_bert.zip  -d /content/all_models/sk/\r\n",
        "\r\n",
        "fi"
      ],
      "execution_count": null,
      "outputs": [
        {
          "output_type": "stream",
          "text": [
            "Archive:  cereal_killers_bert.zip\n",
            "   creating: BERT/\n",
            "  inflating: BERT/bert.py            \n",
            "   creating: BERT/saved_model/\n",
            "  inflating: BERT/saved_model/config.json  \n",
            "  inflating: BERT/saved_model/pytorch_model.bin  \n",
            "  inflating: BERT/saved_model/special_tokens_map.json  \n",
            "  inflating: BERT/saved_model/tokenizer_config.json  \n",
            "  inflating: BERT/saved_model/vocab.txt  \n",
            "Archive:  /content/all_models/sk/seekers_bert.zip\n",
            " extracting: /content/all_models/sk/vocab.txt  \n",
            " extracting: /content/all_models/sk/config.json  \n",
            " extracting: /content/all_models/sk/pytorch_model.bin  \n",
            " extracting: /content/all_models/sk/tokenizer_config.json  \n",
            " extracting: /content/all_models/sk/special_tokens_map.json  \n"
          ],
          "name": "stdout"
        },
        {
          "output_type": "stream",
          "text": [
            "2020-12-11 01:38:00 URL:https://cmpe-257-alternus-vera.s3.amazonaws.com/feature_finders_toxicity_model [613699737/613699737] -> \"feature_finders_toxicity_model\" [1]\n",
            "2020-12-11 01:38:04 URL:https://cmpe-257-alternus-vera.s3.amazonaws.com/randomforest.sav [110331665/110331665] -> \"randomforest.sav\" [1]\n",
            "2020-12-11 01:38:40 URL:https://cmpe-257-alternus-vera.s3.amazonaws.com/girls_who_code_toxicity_model.h5 [1311289680/1311289680] -> \"girls_who_code_toxicity_model.h5\" [1]\n",
            "2020-12-11 01:38:41 URL:https://cmpe-257-alternus-vera.s3.amazonaws.com/girls_who_code_model.preproc [1084031/1084031] -> \"girls_who_code_model.preproc\" [1]\n",
            "2020-12-11 01:39:12 URL:https://cmpe-257-alternus-vera.s3.amazonaws.com/blastoff_context_veracity_models.zip [1093896993/1093896993] -> \"blastoff_context_veracity_models.zip\" [1]\n",
            "2020-12-11 01:39:26 URL:https://cmpe-257-alternus-vera.s3.amazonaws.com/blastoff_bert.model [438025495/438025495] -> \"blastoff_bert.model\" [1]\n",
            "2020-12-11 01:39:38 URL:https://cmpe-257-alternus-vera.s3.amazonaws.com/cereal_killers_bert.zip [402291008/402291008] -> \"cereal_killers_bert.zip\" [1]\n",
            "2020-12-11 01:39:56 URL:https://cmpe-257-alternus-vera.s3.amazonaws.com/seekers_bert.zip [438268143/438268143] -> \"seekers_bert.zip\" [1]\n",
            "warning:  stripped absolute path spec from /\n",
            "mapname:  conversion of  failed\n"
          ],
          "name": "stderr"
        }
      ]
    },
    {
      "cell_type": "markdown",
      "metadata": {
        "id": "N9tVwDoh5lFX"
      },
      "source": [
        "# Download all teams repository and load the models"
      ]
    },
    {
      "cell_type": "code",
      "metadata": {
        "id": "gx25YTb-E-Yr"
      },
      "source": [
        "import sys\r\n",
        "import os\r\n",
        "\r\n",
        "sys.path.append('/content/AlternusVera-All-Teams-Integration/sigma')\r\n",
        "sys.path.append('/content/AlternusVera-All-Teams-Integration/trailblazers')\r\n",
        "sys.path.append('/content/AlternusVera-All-Teams-Integration/go_ml')\r\n",
        "sys.path.append('/content/AlternusVera-All-Teams-Integration/shining_unicorns')\r\n",
        "sys.path.append('/content/AlternusVera-All-Teams-Integration/featuresFinder')\r\n",
        "sys.path.append('/content/AlternusVera-All-Teams-Integration/seekers')\r\n",
        "sys.path.append('/content/AlternusVera-All-Teams-Integration/girls_who_code')\r\n",
        "sys.path.append('/content/AlternusVera-All-Teams-Integration/blastoff')\r\n",
        "sys.path.append('/content/AlternusVera-All-Teams-Integration/cereal_killers')"
      ],
      "execution_count": null,
      "outputs": []
    },
    {
      "cell_type": "code",
      "metadata": {
        "id": "9XxV9WTTI5Y7"
      },
      "source": [
        "!rm -rf AlternusVera-All-Teams-Integration/"
      ],
      "execution_count": null,
      "outputs": []
    },
    {
      "cell_type": "code",
      "metadata": {
        "colab": {
          "base_uri": "https://localhost:8080/"
        },
        "id": "OQt_7N514Gyi",
        "outputId": "80dc9f3c-9ed6-4dde-97f1-e57d3b366c9d"
      },
      "source": [
        "!git clone https://github.com/CMPE257-AlternusVera-All-Teams/AlternusVera-All-Teams-Integration.git\r\n",
        "# #for me\r\n",
        "# %cd AlternusVera-All-Teams-Integration/\r\n",
        "# !git fetch \r\n",
        "# !git checkout sergio  "
      ],
      "execution_count": null,
      "outputs": [
        {
          "output_type": "stream",
          "text": [
            "Cloning into 'AlternusVera-All-Teams-Integration'...\n",
            "remote: Enumerating objects: 30, done.\u001b[K\n",
            "remote: Counting objects: 100% (30/30), done.\u001b[K\n",
            "remote: Compressing objects: 100% (19/19), done.\u001b[K\n",
            "remote: Total 465 (delta 16), reused 20 (delta 11), pack-reused 435\u001b[K\n",
            "Receiving objects: 100% (465/465), 101.89 MiB | 5.98 MiB/s, done.\n",
            "Resolving deltas: 100% (220/220), done.\n"
          ],
          "name": "stdout"
        }
      ]
    },
    {
      "cell_type": "markdown",
      "metadata": {
        "id": "NPiFMJwx4ScH"
      },
      "source": [
        "# Create Team Objects"
      ]
    },
    {
      "cell_type": "markdown",
      "metadata": {
        "id": "joJ03RFIcbZ_"
      },
      "source": [
        "## Trailblazers\r\n"
      ]
    },
    {
      "cell_type": "code",
      "metadata": {
        "colab": {
          "base_uri": "https://localhost:8080/"
        },
        "id": "NOoeQHwRcYHH",
        "outputId": "eda00f22-989c-4caa-93bb-84dec2d02e8a"
      },
      "source": [
        "# from  import alternusvera_education as AVE\r\n",
        "from TRAILBLAZERS import predictIntention, predictLable"
      ],
      "execution_count": null,
      "outputs": [
        {
          "output_type": "stream",
          "text": [
            "/usr/local/lib/python3.6/dist-packages/nltk/twitter/__init__.py:20: UserWarning: The twython library has not been installed. Some functionality from the twitter package will not be available.\n",
            "  warnings.warn(\"The twython library has not been installed. \"\n"
          ],
          "name": "stderr"
        },
        {
          "output_type": "stream",
          "text": [
            "[nltk_data] Downloading package averaged_perceptron_tagger to\n",
            "[nltk_data]     /root/nltk_data...\n",
            "[nltk_data]   Unzipping taggers/averaged_perceptron_tagger.zip.\n",
            "[nltk_data] Downloading package punkt to /root/nltk_data...\n",
            "[nltk_data]   Unzipping tokenizers/punkt.zip.\n",
            "[nltk_data] Downloading package vader_lexicon to /root/nltk_data...\n",
            "[nltk_data] Downloading package wordnet to /root/nltk_data...\n",
            "[nltk_data]   Unzipping corpora/wordnet.zip.\n",
            "[nltk_data] Downloading package stopwords to /root/nltk_data...\n",
            "[nltk_data]   Unzipping corpora/stopwords.zip.\n"
          ],
          "name": "stdout"
        }
      ]
    },
    {
      "cell_type": "markdown",
      "metadata": {
        "id": "hEhI_xA2cYXz"
      },
      "source": [
        "## Sigma"
      ]
    },
    {
      "cell_type": "code",
      "metadata": {
        "id": "U5xhtW-OZzYj"
      },
      "source": [
        "from SIGMA import NetworkBasedPredictor, VerifiableAuthenticity, Credibility, MalicousAccount\r\n",
        "\r\n",
        "sigma_base_path = \"/content/AlternusVera-All-Teams-Integration/sigma/\"\r\n",
        "\r\n",
        "nb = NetworkBasedPredictor(sigma_base_path+'networkbased.pkl')\r\n",
        "va = VerifiableAuthenticity(sigma_base_path+'VerifiableAuthenticity_PickledModel.pkl')\r\n",
        "cd = Credibility(sigma_base_path+'credibility_model.pkl')\r\n",
        "ma = MalicousAccount(sigma_base_path+'malicious_account_MLP.pkl')"
      ],
      "execution_count": null,
      "outputs": []
    },
    {
      "cell_type": "code",
      "metadata": {
        "id": "FnXYAFVQGu2L"
      },
      "source": [
        ""
      ],
      "execution_count": null,
      "outputs": []
    },
    {
      "cell_type": "markdown",
      "metadata": {
        "id": "C7mg9veG9kWr"
      },
      "source": [
        "## Go-ML\n",
        "\n"
      ]
    },
    {
      "cell_type": "code",
      "metadata": {
        "id": "5WkmlYmO-GQY",
        "colab": {
          "base_uri": "https://localhost:8080/"
        },
        "outputId": "720ffffa-cefc-4c88-8141-61ecc970cb77"
      },
      "source": [
        "from GO_ML import StanceDetection, Clickbait, NewsCoverage, WritingStyle\n",
        "\n",
        "go_ml_base_path = \"/content/AlternusVera-All-Teams-Integration/go_ml/\"\n",
        "\n",
        "sd = StanceDetection(go_ml_base_path+'SVM_stance_detection.model', go_ml_base_path+'vector_stance_detection.pkl')\n",
        "cb = Clickbait(go_ml_base_path+'RF_clickbait.model', go_ml_base_path+'vector_clickbait.pkl')\n",
        "nc = NewsCoverage(go_ml_base_path+'RF_news_coverage.model', go_ml_base_path+'vector_news_coverage.pkl')\n",
        "ws = WritingStyle(go_ml_base_path+'writting_style.pkl')  "
      ],
      "execution_count": null,
      "outputs": [
        {
          "output_type": "stream",
          "text": [
            "[nltk_data] Downloading package punkt to /root/nltk_data...\n",
            "[nltk_data]   Package punkt is already up-to-date!\n",
            "[nltk_data] Downloading package stopwords to /root/nltk_data...\n",
            "[nltk_data]   Package stopwords is already up-to-date!\n"
          ],
          "name": "stdout"
        }
      ]
    },
    {
      "cell_type": "markdown",
      "metadata": {
        "id": "gwpL_8kSETtX"
      },
      "source": [
        "## Shining Unicorns"
      ]
    },
    {
      "cell_type": "code",
      "metadata": {
        "id": "li6XfFb7EXNW",
        "colab": {
          "base_uri": "https://localhost:8080/"
        },
        "outputId": "529c957e-588c-4d86-ecdb-ffedc3a3124a"
      },
      "source": [
        "from SHINING_UNICORNS import EchoChamberMaster, ContentStatistics\r\n",
        "\r\n",
        "shining_unicorns_base_path = \"/content/AlternusVera-All-Teams-Integration/shining_unicorns/\"\r\n",
        "\r\n",
        "cs_su = ContentStatistics(shining_unicorns_base_path+'finalized_model3.sav')\r\n",
        "ec_su = EchoChamberMaster()"
      ],
      "execution_count": null,
      "outputs": [
        {
          "output_type": "stream",
          "text": [
            "[nltk_data] Downloading package stopwords to /root/nltk_data...\n",
            "[nltk_data]   Package stopwords is already up-to-date!\n",
            "[nltk_data] Downloading package averaged_perceptron_tagger to\n",
            "[nltk_data]     /root/nltk_data...\n",
            "[nltk_data]   Package averaged_perceptron_tagger is already up-to-\n",
            "[nltk_data]       date!\n",
            "[nltk_data] Downloading package punkt to /root/nltk_data...\n",
            "[nltk_data]   Package punkt is already up-to-date!\n",
            "[nltk_data] Downloading package wordnet to /root/nltk_data...\n",
            "[nltk_data]   Package wordnet is already up-to-date!\n"
          ],
          "name": "stdout"
        }
      ]
    },
    {
      "cell_type": "markdown",
      "metadata": {
        "id": "G1aRO5olgOWG"
      },
      "source": [
        "## Feature Finders \r\n"
      ]
    },
    {
      "cell_type": "code",
      "metadata": {
        "id": "iwbHOGHvgO1W",
        "colab": {
          "base_uri": "https://localhost:8080/"
        },
        "outputId": "07c0ed71-5b1b-4839-fbf3-9135f47601b5"
      },
      "source": [
        "from FEATURES_FINDERS import StanceDitectionFeature, ReliableSource, ToxicityFeature, TitleVsBody, Word2VecFeatureGenerator \r\n",
        "\r\n",
        "featureFinider_base_path = \"/content/AlternusVera-All-Teams-Integration/featuresFinder/\"\r\n",
        "all_models_base_path = '/content/all_models/'\r\n",
        "\r\n",
        "predictStance = StanceDitectionFeature(featureFinider_base_path+'stanceLabelGNB-model', featureFinider_base_path+'stance-model-GBC', featureFinider_base_path)\r\n",
        "reliablesource = ReliableSource(featureFinider_base_path+'ReliableSourceLabelmodel', featureFinider_base_path+'data.csv')\r\n",
        "predictToxicity = ToxicityFeature(all_models_base_path+'feature_finders_toxicity_model', featureFinider_base_path+'toxicity-model',  featureFinider_base_path+'toxicityFakenewsLabel-model')\r\n",
        "tvb = TitleVsBody(featureFinider_base_path+'titlevsbody_logistic_proba.pkl', featureFinider_base_path+'titlevsbody_xgboost.pkl', gensim_model) "
      ],
      "execution_count": null,
      "outputs": [
        {
          "output_type": "stream",
          "text": [
            "[nltk_data] Downloading package stopwords to /root/nltk_data...\n",
            "[nltk_data]   Package stopwords is already up-to-date!\n",
            "[nltk_data] Downloading package punkt to /root/nltk_data...\n",
            "[nltk_data]   Package punkt is already up-to-date!\n",
            "[nltk_data] Downloading package wordnet to /root/nltk_data...\n",
            "[nltk_data]   Package wordnet is already up-to-date!\n",
            "[nltk_data] Downloading package vader_lexicon to /root/nltk_data...\n",
            "[nltk_data]   Package vader_lexicon is already up-to-date!\n"
          ],
          "name": "stdout"
        }
      ]
    },
    {
      "cell_type": "markdown",
      "metadata": {
        "id": "L0KseM7bQkQR"
      },
      "source": [
        "Here we are importing all the functions from a module file go_ml.py. The functions are getStanceDetectionScore, getClickbaitScore, getNewsCoverageScore, WritingStyleScore. We are calling these functions directly in isFakeNews function."
      ]
    },
    {
      "cell_type": "markdown",
      "metadata": {
        "id": "vAuP1WaUL_wv"
      },
      "source": [
        "## Seekers"
      ]
    },
    {
      "cell_type": "code",
      "metadata": {
        "id": "BMfozHFzMAhV"
      },
      "source": [
        "from SEEKERS import Seekers_StanceDetection, Seekers_ClickBait, Seekers_Spam, Seekers_BertMcc\n",
        "\n",
        "seekers_base_path = \"/content/AlternusVera-All-Teams-Integration/seekers/\"\n",
        "all_models_sk_path = '/content/all_models/'\n",
        "\n",
        "seekers_sd = Seekers_StanceDetection(all_models_sk_path+'randomforest.sav')\n",
        "seekers_cb = Seekers_ClickBait(seekers_base_path+'Seekers_ClickBait.sav',seekers_base_path+'tfidf.sav')\n",
        "seekers_sp = Seekers_Spam(seekers_base_path+'TFidfvectorizer.sav',seekers_base_path+'final_SpamModel.sav')\n",
        "seekers_bm = Seekers_BertMcc(all_models_sk_path+'sk')"
      ],
      "execution_count": null,
      "outputs": []
    },
    {
      "cell_type": "markdown",
      "metadata": {
        "id": "UJOsPwW2An_A"
      },
      "source": [
        "## GirlsWhoCode "
      ]
    },
    {
      "cell_type": "code",
      "metadata": {
        "id": "wgi5u62Asfj0"
      },
      "source": [
        "from GIRLSWHOCODE import Topics_with_LDA_Bigram, Gwc_Bias, Girlswhocode_PoliticalAfiiliation, GirlsWhoCode_Toxicity\r\n",
        "\r\n",
        "girls_who_code_base_path = \"/content/AlternusVera-All-Teams-Integration/girls_who_code/\"\r\n",
        "all_models_keras_base_path = '/content/all_models/keras'\r\n",
        "\r\n",
        "getTS = GirlsWhoCode_Toxicity(girls_who_code_base_path+'toxicityModel.sav', all_models_keras_base_path)\r\n",
        "getTSB = Topics_with_LDA_Bigram(girls_who_code_base_path+'LogisticRegression_model.sav')\r\n",
        "getBias = Gwc_Bias(girls_who_code_base_path+'Bias_model_ntext.sav')\r\n",
        "getPAS = Girlswhocode_PoliticalAfiiliation(girls_who_code_base_path+'political_affiliation_model.sav', girls_who_code_base_path+'party_affiliaiton_dict.csv', \r\n",
        "                                           girls_who_code_base_path+'new_dict.csv' , girls_who_code_base_path+'train.tsv') \r\n"
      ],
      "execution_count": null,
      "outputs": []
    },
    {
      "cell_type": "markdown",
      "metadata": {
        "id": "9YXk2Q6RnNeV"
      },
      "source": [
        "## Blastoff"
      ]
    },
    {
      "cell_type": "code",
      "metadata": {
        "colab": {
          "base_uri": "https://localhost:8080/",
          "referenced_widgets": [
            "ac9d37f39f2b424cbf8f3929232b532c",
            "a70e9e01c779409785df7e6d87078e7a",
            "294e744f240d41de88ae14afc6677481",
            "617caccfa65b41828b56638cd39afdbf",
            "2cd7a367e8e14dc4864937c231cd53f1",
            "a96bd91fc7ca4ddfbbdf0f691c0d0205",
            "e502b8a9cc3a4c379af1a8705a7f8cd7",
            "46447ae12af84ed690717ba11beef565",
            "90aa98625bcd4e90b1b96bd360fef44a",
            "e9394536589046b5b3ea98c7232491cf",
            "5a6db42fff434d23943fde48e7e99c15",
            "9bc363e9b095448da48da0991de2cade",
            "0cf5815488c049daa46173ce1c07184d",
            "bfa9d4b18d7241bd8457eb5df18ba873",
            "9bdc19f0fafe454183120e7af7b1be34",
            "48833c9326a344759bb1ebe5ca075f14",
            "0654da6bd2634ebfb1c217cd92e14e95",
            "e8f865d666074a60b68263299f578d6a",
            "ff045069ba3b4eeb8bddfe41b3b5cc8d",
            "e8b4684c99344d4d8b37b4ef5bd8e1a2",
            "06cc46620ba940e6b352511cd761075d",
            "a3b29c5bb322486d8620d3c599143c0d",
            "7693eaa14a8f43ddaad98735bfe6c21c",
            "1c04e5b60cb244ed87b71503a776eb4e"
          ]
        },
        "id": "jt-ZHok2nLaG",
        "outputId": "a7cd467c-6a5b-4ded-a222-4a5e50778123"
      },
      "source": [
        "from BLASTOFF import Context_Veracity, SensaScorer\r\n",
        "\r\n",
        "all_models_blastoff_path = '/content/all_models/'\r\n",
        "bo_cv = Context_Veracity(all_models_blastoff_path+'blastoff_context_veracity_models.zip')\r\n",
        "sensa = SensaScorer(all_models_blastoff_path+'blastoff_bert.model')"
      ],
      "execution_count": null,
      "outputs": [
        {
          "output_type": "display_data",
          "data": {
            "application/vnd.jupyter.widget-view+json": {
              "model_id": "ac9d37f39f2b424cbf8f3929232b532c",
              "version_minor": 0,
              "version_major": 2
            },
            "text/plain": [
              "HBox(children=(FloatProgress(value=0.0, description='Downloading', max=433.0, style=ProgressStyle(description_…"
            ]
          },
          "metadata": {
            "tags": []
          }
        },
        {
          "output_type": "stream",
          "text": [
            "\n"
          ],
          "name": "stdout"
        },
        {
          "output_type": "display_data",
          "data": {
            "application/vnd.jupyter.widget-view+json": {
              "model_id": "90aa98625bcd4e90b1b96bd360fef44a",
              "version_minor": 0,
              "version_major": 2
            },
            "text/plain": [
              "HBox(children=(FloatProgress(value=0.0, description='Downloading', max=440473133.0, style=ProgressStyle(descri…"
            ]
          },
          "metadata": {
            "tags": []
          }
        },
        {
          "output_type": "stream",
          "text": [
            "\n"
          ],
          "name": "stdout"
        },
        {
          "output_type": "display_data",
          "data": {
            "application/vnd.jupyter.widget-view+json": {
              "model_id": "0654da6bd2634ebfb1c217cd92e14e95",
              "version_minor": 0,
              "version_major": 2
            },
            "text/plain": [
              "HBox(children=(FloatProgress(value=0.0, description='Downloading', max=231508.0, style=ProgressStyle(descripti…"
            ]
          },
          "metadata": {
            "tags": []
          }
        },
        {
          "output_type": "stream",
          "text": [
            "\n"
          ],
          "name": "stdout"
        }
      ]
    },
    {
      "cell_type": "markdown",
      "metadata": {
        "id": "dFRItavGY_HF"
      },
      "source": [
        "## Cereal Killers\n"
      ]
    },
    {
      "cell_type": "code",
      "metadata": {
        "id": "aFNOUZWa057F"
      },
      "source": [
        "from CEREAL_KILLERS import CerealKillers_SentimentClassifier, CerealKillers_SocialCredibility\r\n",
        "\r\n",
        "cereal_base_path = \"/content/AlternusVera-All-Teams-Integration/cereal_killers/\"\r\n",
        "all_models_bert = '/content/all_models/BERT/'\r\n",
        "\r\n",
        "ck_bt = CerealKillers_SentimentClassifier(all_models_bert+'saved_model')\r\n",
        "ck_sc = CerealKillers_SocialCredibility(cereal_base_path+'SocialCredibilityV2.pkl', cereal_base_path+'twitter_api.ini')"
      ],
      "execution_count": null,
      "outputs": []
    },
    {
      "cell_type": "markdown",
      "metadata": {
        "id": "sZobeRX0G0he"
      },
      "source": [
        "# Prediction (polynomial Function based on normalized accurracy and factors score)"
      ]
    },
    {
      "cell_type": "code",
      "metadata": {
        "id": "CNdDLqRMG302"
      },
      "source": [
        "title = 'Media fawns over Biden\\'s Cabinet rollout, describes being rescued from this craziness by superheroes'\r\n",
        "text = 'Members of the mainstream media showered President-elect Joe Biden with praise Tuesday following the rollout of his foreign policy and national security team. Biden formally introduced several Cabinet nominees and White House advisers, including Secretary of State nominee Antony Blinken, National Security Adviser pick Jake Sullivan, U.S. Ambassador to the United Nations choice Linda Thomas-Greenfield, and newly minted Special Presidential Envoy for Climate John Kerry. MEDIA OBSESSES OVER ANTONY BLINKEN\\'S GUITAR SKILLS AFTER BIDEN ANNOUNCES HIM AS SECRETARY OF STATE NOMINEEDuring an MSNBC panel discussion, PBS NewsHour White House correspondent Yamiche Alcindor appeared to agree with what she said a Democrat source had told her. I was talking to a Democrat who just said this also felt like \\'The Avengers, Alcindor said. It felt like we were being rescued from this craziness that we\\'ve all lived through from the last four years and now here are the superheroes to come and save us all.'\r\n",
        "party = 'democrat'\r\n",
        "source = 'fox news'\r\n",
        "context = 'in a report'"
      ],
      "execution_count": null,
      "outputs": []
    },
    {
      "cell_type": "code",
      "metadata": {
        "id": "JTCS5b-gGol1"
      },
      "source": [
        "def getProbablityScore(category):\r\n",
        "\r\n",
        "    if(category =='pants-fire' ):\r\n",
        "        return 0.9;\r\n",
        "    elif(category =='false'):\r\n",
        "        return 0.73;\r\n",
        "    elif(category =='full-flop' or category == 'barely-true'):\r\n",
        "        return 0.56;\r\n",
        "    elif(category =='half-true' or category == 'half-flip'):\r\n",
        "        return 0.4;\r\n",
        "    elif(category =='mostly-true'):\r\n",
        "        return 0.24;\r\n",
        "    else:\r\n",
        "        return 0.1;\r\n",
        "\r\n",
        "\r\n",
        "\r\n",
        "def is_fake_news(title, text, party, source, context):\r\n",
        "  \r\n",
        "  accur = [  0.57, 0.56, 0.58, 0.56,\r\n",
        "             0.96, 0.64, 0.76, 0.47, \r\n",
        "             0.64, 0.56, 0.84, \r\n",
        "             0.87, 0.70, 0.82, 0.85,\r\n",
        "             0.78, 0.82, 0.48, 0.72,\r\n",
        "             0.75, 0.77, 0.77, 0.70,\r\n",
        "             0.26, 0.28, 0.49,\r\n",
        "             0.82, 0.35, 0.55,\r\n",
        "             0.58, 0.54] # using the (normalized) accuracy as weigths\r\n",
        "\r\n",
        "  w = [float(i)/sum(accur) for i in accur]\r\n",
        "  sumW = 0\r\n",
        "  prob = []\r\n",
        "  # print(w)\r\n",
        "\r\n",
        "\r\n",
        "  # GIRLS WHO CODE\r\n",
        "  if title != \"\" :\r\n",
        "    #For Toxicity\r\n",
        "      score1 = getTS.getToxicityScore(title)\r\n",
        "      prob.append(w[0] * score1)\r\n",
        "      sumW += w[0]\r\n",
        "\r\n",
        "    #For Topic Modelling for LDA\r\n",
        "      score2 = getTSB.getTopicScoreBigramLDAModel(title)\r\n",
        "      prob.append(w[1] * score2)\r\n",
        "      sumW += w[1] \r\n",
        "\r\n",
        "    #For Bias\r\n",
        "      score3 = getBias.get_bias_score(title)\r\n",
        "      prob.append(w[2] * score3)\r\n",
        "      sumW += w[2]\r\n",
        "\r\n",
        "    #For political_affiliaiton\r\n",
        "      score4 = getPAS.DATAMINERS_getPartyAffiliationScore(title,party)\r\n",
        "      prob.append(w[3] * score4)\r\n",
        "      sumW += w[3]\r\n",
        "\r\n",
        "\r\n",
        "  # SEEKERS\r\n",
        "  if (text!=\"\"):\r\n",
        "    #For Clickbait - Seekers\r\n",
        "      prob.append(w[4] * seekers_cb.predict(text))\r\n",
        "      sumW += w[4]  \r\n",
        "    \r\n",
        "    #For Stance_detection - Seekers\r\n",
        "      prob.append(w[5] * seekers_sd.predict(text))\r\n",
        "      sumW += w[5]\r\n",
        "    \r\n",
        "    #For Spam - Seekers\r\n",
        "      prob.append(w[6] * seekers_sp.predict(text))\r\n",
        "      sumW += w[6]\r\n",
        "\r\n",
        "  if (title!=\"\"):\r\n",
        "    # For Bert - Seekers\r\n",
        "      prediction, probability = seekers_bm.get_bert_predictions(title,source,context,0,50,50,0,0) #mostly_true_count,half_true_count,barely_true_count,false_count,pants_on_fire_count)\r\n",
        "      prob.append(w[7] * probability)\r\n",
        "      sumW += w[7]\r\n",
        "\r\n",
        "\r\n",
        "  # Trailblazers\r\n",
        "  if (title != \"\"):  \r\n",
        "    # Event Coverage\r\n",
        "      event_score = predictLable(title)\r\n",
        "      prob.append(w[9]* getProbablityScore(event_score[0]))\r\n",
        "      sumW+=w[9]\r\n",
        "\r\n",
        "    # Misleding intentions \r\n",
        "      mislead_intent = predictIntention(title, gensim_model)\r\n",
        "      mislead_score=getProbablityScore(mislead_intent)\r\n",
        "      prob.append(w[10]* mislead_score)\r\n",
        "      sumW+=w[10]\r\n",
        "\r\n",
        "\r\n",
        "  # Stance Detection - Go ML\r\n",
        "  if text:\r\n",
        "      prob.append(w[11] * sd.getStanceDetectionScore(text=text))\r\n",
        "      sumW += w[11]\r\n",
        "      # Clickbait - Go ML\r\n",
        "      prob.append(w[12] * cb.getClickbaitScore(text=text))\r\n",
        "      sumW += w[12]\r\n",
        "      # News Coverage - Go ML\r\n",
        "      prob.append(w[13] * nc.getNewsCoverageScore(text=text))\r\n",
        "      sumW += w[13]\r\n",
        "      # Writing Style - Go ML\r\n",
        "      prob.append(w[14] * ws.WritingStyleScore(text=text))\r\n",
        "      sumW += w[14]\r\n",
        "\r\n",
        "  # SIGMA\r\n",
        "  if text:\r\n",
        "      rating, ma_pred, clss = ma.predict(tweetText=text, nlp=nlp)\r\n",
        "      prob.append(w[15] * ma_pred)\r\n",
        "      sumW += w[15]\r\n",
        "\r\n",
        "      clss, cd_pred = cd.predict(text, nlp=nlp)\r\n",
        "      prob.append(w[16] * cd_pred)\r\n",
        "      sumW += w[16]\r\n",
        "\r\n",
        "      nb_pred = nb.predict(text=text, nlp=nlp, source=source)\r\n",
        "      prob.append(w[17] * nb_pred)\r\n",
        "      sumW += w[17]\r\n",
        "\r\n",
        "      va_pred = va.predict(text, source)\r\n",
        "      prob.append(w[18] * va_pred)\r\n",
        "      sumW += w[18]\r\n",
        "\r\n",
        "\r\n",
        "  # FEATURE_FINDERS\r\n",
        "  if (title != \"\"):\r\n",
        "    # Stance Detection\r\n",
        "      prob.append(w[19] * predictStance.FeatureFinders_getStanceScore(headline=title, body=text))\r\n",
        "      sumW += w[19]\r\n",
        "    # Reliable Source\r\n",
        "      prob.append(w[20] * reliablesource.FeatureFinders_getReliabilityBySource(source))\r\n",
        "      sumW += w[20]\r\n",
        "    # Toxicity\r\n",
        "      prob.append(w[21] * predictToxicity.FeatureFinders_getToxicityScore(headline=title, body=text))\r\n",
        "      sumW += w[21]\r\n",
        "    # Title vs Body\r\n",
        "      tvb_value = tvb.FeatureFinders_getTitleVsBodyRelationship(head_line=title, body_text=text)[0]\r\n",
        "      prob.append(w[22] * tvb.FeatureFinders_getTitleVsBodyScore(tvb_value)[0][1]) # 0 is Fake, 1 is True\r\n",
        "      sumW += w[22]\r\n",
        "\r\n",
        "\r\n",
        " # Blastoff\r\n",
        "  if (title != \"\"):\r\n",
        "    # Context Veracity\r\n",
        "      prob.append(w[24]* float(bo_cv.get_veracity_scores(title)))\r\n",
        "      sumW+=w[24]\r\n",
        "      \r\n",
        "    # Sensationalism\r\n",
        "      prob.append(w[25] * 0.75 * sensa.getScore(title))\r\n",
        "      sumW+=w[25]\r\n",
        "\r\n",
        "  #Cereal Killer\r\n",
        "  if title != \"\":\r\n",
        "    # Sentiment Classification\r\n",
        "      ck_bt_score = ck_bt.predict(title)\r\n",
        "      prob.append(w[26]* ck_bt_score)\r\n",
        "      sumW+=w[26]\r\n",
        "  \r\n",
        "\r\n",
        "  #Cereal Killer\r\n",
        "  if source != \"\":\r\n",
        "    # Social Credibility\r\n",
        "      ck_sc.search_user_by_name(source)\r\n",
        "      ck_sc_score = ck_sc.predict(ck_sc.get_user_data())\r\n",
        "      prob.append(w[28]* (ck_sc_score/100))\r\n",
        "      sumW+=w[28]\r\n",
        "\r\n",
        "\r\n",
        "  # Shining Unicorns\r\n",
        "  if (title != \"\"):\r\n",
        "    # Content Statistics\r\n",
        "      content_Statistics_score = cs_su.predict(title, gensim_model)\r\n",
        "      prob.append(w[29]* content_Statistics_score)\r\n",
        "      sumW+=w[29]\r\n",
        "      \r\n",
        "    # Echo Chamber\r\n",
        "      echo_ChamberMaster_score = ec_su.predict(title)\r\n",
        "      prob.append(w[30]* echo_ChamberMaster_score)\r\n",
        "      sumW+=w[30]\r\n",
        "\r\n",
        "\r\n",
        "\r\n",
        "  probTotal = sum(prob[0:len(prob)]) / sumW\r\n",
        "  return probTotal\r\n",
        "\r\n",
        "# final_prediction = is_fake_news(title, text, party, source, context)"
      ],
      "execution_count": null,
      "outputs": []
    },
    {
      "cell_type": "code",
      "metadata": {
        "id": "ou2IkQWDQwmL"
      },
      "source": [
        "def VeracityScore(prediction):\r\n",
        "  #Equation \r\n",
        "  #Factor values are betweeen 0.001~ 0.999) \r\n",
        "  #weight are normalized according with individual factors accuracy \r\n",
        "  polyEq = prediction \r\n",
        "  if polyEq >= 0 and polyEq < 0.20:\r\n",
        "    results = 'Partilly False'\r\n",
        "  elif polyEq >= 0.20 and polyEq < 0.40:\r\n",
        "    results = 'Mostly False'\r\n",
        "  elif polyEq >= 0.40 and polyEq < 0.60: \r\n",
        "    results = 'Barely True'\r\n",
        "  elif polyEq >= 0.60 and polyEq < 0.80: \r\n",
        "    results = 'Mostly True'      \r\n",
        "  elif polyEq >= 0.80 and polyEq < 1.00: \r\n",
        "    results = 'True'\r\n",
        "  return results\r\n",
        "\r\n",
        "# final_prediction = is_fake_news(title, text, party, source, context)\r\n",
        "# print('final prediction: ', final_prediction )\r\n",
        "# print('This veracity score is: ',  VeracityScore(final_prediction) ) \r\n"
      ],
      "execution_count": null,
      "outputs": []
    },
    {
      "cell_type": "markdown",
      "metadata": {
        "id": "4-DM17V_aAsG"
      },
      "source": [
        "# Inference Form and Results"
      ]
    },
    {
      "cell_type": "code",
      "metadata": {
        "colab": {
          "base_uri": "https://localhost:8080/"
        },
        "cellView": "form",
        "id": "wfgdr7hxXMRN",
        "outputId": "d58add1a-ff03-4667-f17f-28f2b15e1782"
      },
      "source": [
        "#@title Capture information to Infer (Ensure all other colab steps have been ran)\n",
        "Title = \"Media fawns over Biden\\\\'s Cabinet rollout, describes being rescued from this craziness by superheroes\" #@param {type:\"string\"}\n",
        "Text = \"Members of the mainstream media showered President-elect Joe Biden with praise Tuesday following the rollout of his foreign policy and national security team. Biden formally introduced several Cabinet nominees and White House advisers, including Secretary of State nominee Antony Blinken, National Security Adviser pick Jake Sullivan, U.S. Ambassador to the United Nations choice Linda Thomas-Greenfield, and newly minted Special Presidential Envoy for Climate John Kerry. MEDIA OBSESSES OVER ANTONY BLINKEN\\\\'S GUITAR SKILLS AFTER BIDEN ANNOUNCES HIM AS SECRETARY OF STATE NOMINEEDuring an MSNBC panel discussion, PBS NewsHour White House correspondent Yamiche Alcindor appeared to agree with what she said a Democrat source had told her. I was talking to a Democrat who just said this also felt like \\\\'The Avengers, Alcindor said. It felt like we were being rescued from this craziness that we\\\\'ve all lived through from the last four years and now here are the superheroes to come and save us all.\" #@param {type:\"string\"}\n",
        "Party = \"democrat\" #@param {type:\"string\"}\n",
        "Source = \"fox news\" #@param {type:\"string\"}\n",
        "Context = \"in a report\" #@param {type:\"string\"}\n",
        "\n",
        "warnings.filterwarnings('ignore')\n",
        "final_prediction = is_fake_news(Title, Text, Party, Source, Context)\n",
        "\n",
        "vs= VeracityScore(final_prediction)\n",
        "\n",
        "print('\\n\\nFinal prediction: ', final_prediction )\n",
        "print('\\nThis veracity score is: ',  VeracityScore(final_prediction))"
      ],
      "execution_count": null,
      "outputs": [
        {
          "output_type": "stream",
          "text": [
            "\n",
            "\n",
            "Final prediction:  0.5449523028584964\n",
            "\n",
            "This veracity score is:  Barely True\n"
          ],
          "name": "stdout"
        }
      ]
    }
  ]
}