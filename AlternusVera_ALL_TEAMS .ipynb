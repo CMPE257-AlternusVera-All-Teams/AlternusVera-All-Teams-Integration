{
  "nbformat": 4,
  "nbformat_minor": 0,
  "metadata": {
    "colab": {
      "name": "AlternusVera_ALL_TEAMS.ipynb",
      "provenance": [],
      "collapsed_sections": [
        "gSI0TkLgFY84",
        "N9tVwDoh5lFX",
        "NPiFMJwx4ScH",
        "joJ03RFIcbZ_",
        "hEhI_xA2cYXz",
        "C7mg9veG9kWr",
        "gwpL_8kSETtX",
        "G1aRO5olgOWG",
        "vAuP1WaUL_wv",
        "UJOsPwW2An_A",
        "9YXk2Q6RnNeV",
        "sZobeRX0G0he"
      ],
      "machine_shape": "hm"
    },
    "kernelspec": {
      "name": "python3",
      "display_name": "Python 3"
    },
    "accelerator": "GPU",
    "widgets": {
      "application/vnd.jupyter.widget-state+json": {
        "abb8770cc50744229e3e119aa97b1f42": {
          "model_module": "@jupyter-widgets/controls",
          "model_name": "HBoxModel",
          "state": {
            "_view_name": "HBoxView",
            "_dom_classes": [],
            "_model_name": "HBoxModel",
            "_view_module": "@jupyter-widgets/controls",
            "_model_module_version": "1.5.0",
            "_view_count": null,
            "_view_module_version": "1.5.0",
            "box_style": "",
            "layout": "IPY_MODEL_980ec92d9a8a4993ae4ccde6942f6ae4",
            "_model_module": "@jupyter-widgets/controls",
            "children": [
              "IPY_MODEL_b7409ffb29204c2dbf74e819e2efe58d",
              "IPY_MODEL_76b0795e7f4b412486084a119c5f2a90"
            ]
          }
        },
        "980ec92d9a8a4993ae4ccde6942f6ae4": {
          "model_module": "@jupyter-widgets/base",
          "model_name": "LayoutModel",
          "state": {
            "_view_name": "LayoutView",
            "grid_template_rows": null,
            "right": null,
            "justify_content": null,
            "_view_module": "@jupyter-widgets/base",
            "overflow": null,
            "_model_module_version": "1.2.0",
            "_view_count": null,
            "flex_flow": null,
            "width": null,
            "min_width": null,
            "border": null,
            "align_items": null,
            "bottom": null,
            "_model_module": "@jupyter-widgets/base",
            "top": null,
            "grid_column": null,
            "overflow_y": null,
            "overflow_x": null,
            "grid_auto_flow": null,
            "grid_area": null,
            "grid_template_columns": null,
            "flex": null,
            "_model_name": "LayoutModel",
            "justify_items": null,
            "grid_row": null,
            "max_height": null,
            "align_content": null,
            "visibility": null,
            "align_self": null,
            "height": null,
            "min_height": null,
            "padding": null,
            "grid_auto_rows": null,
            "grid_gap": null,
            "max_width": null,
            "order": null,
            "_view_module_version": "1.2.0",
            "grid_template_areas": null,
            "object_position": null,
            "object_fit": null,
            "grid_auto_columns": null,
            "margin": null,
            "display": null,
            "left": null
          }
        },
        "b7409ffb29204c2dbf74e819e2efe58d": {
          "model_module": "@jupyter-widgets/controls",
          "model_name": "FloatProgressModel",
          "state": {
            "_view_name": "ProgressView",
            "style": "IPY_MODEL_14a04f01d9cd4405b672578715239386",
            "_dom_classes": [],
            "description": "Downloading: 100%",
            "_model_name": "FloatProgressModel",
            "bar_style": "success",
            "max": 433,
            "_view_module": "@jupyter-widgets/controls",
            "_model_module_version": "1.5.0",
            "value": 433,
            "_view_count": null,
            "_view_module_version": "1.5.0",
            "orientation": "horizontal",
            "min": 0,
            "description_tooltip": null,
            "_model_module": "@jupyter-widgets/controls",
            "layout": "IPY_MODEL_3c5671326a79409582ab8bc4c0425681"
          }
        },
        "76b0795e7f4b412486084a119c5f2a90": {
          "model_module": "@jupyter-widgets/controls",
          "model_name": "HTMLModel",
          "state": {
            "_view_name": "HTMLView",
            "style": "IPY_MODEL_c140080452194de6ac45d7c2068ec824",
            "_dom_classes": [],
            "description": "",
            "_model_name": "HTMLModel",
            "placeholder": "​",
            "_view_module": "@jupyter-widgets/controls",
            "_model_module_version": "1.5.0",
            "value": " 433/433 [00:00&lt;00:00, 589B/s]",
            "_view_count": null,
            "_view_module_version": "1.5.0",
            "description_tooltip": null,
            "_model_module": "@jupyter-widgets/controls",
            "layout": "IPY_MODEL_c37c72a5fdd34bb4bdd1e572015b360f"
          }
        },
        "14a04f01d9cd4405b672578715239386": {
          "model_module": "@jupyter-widgets/controls",
          "model_name": "ProgressStyleModel",
          "state": {
            "_view_name": "StyleView",
            "_model_name": "ProgressStyleModel",
            "description_width": "initial",
            "_view_module": "@jupyter-widgets/base",
            "_model_module_version": "1.5.0",
            "_view_count": null,
            "_view_module_version": "1.2.0",
            "bar_color": null,
            "_model_module": "@jupyter-widgets/controls"
          }
        },
        "3c5671326a79409582ab8bc4c0425681": {
          "model_module": "@jupyter-widgets/base",
          "model_name": "LayoutModel",
          "state": {
            "_view_name": "LayoutView",
            "grid_template_rows": null,
            "right": null,
            "justify_content": null,
            "_view_module": "@jupyter-widgets/base",
            "overflow": null,
            "_model_module_version": "1.2.0",
            "_view_count": null,
            "flex_flow": null,
            "width": null,
            "min_width": null,
            "border": null,
            "align_items": null,
            "bottom": null,
            "_model_module": "@jupyter-widgets/base",
            "top": null,
            "grid_column": null,
            "overflow_y": null,
            "overflow_x": null,
            "grid_auto_flow": null,
            "grid_area": null,
            "grid_template_columns": null,
            "flex": null,
            "_model_name": "LayoutModel",
            "justify_items": null,
            "grid_row": null,
            "max_height": null,
            "align_content": null,
            "visibility": null,
            "align_self": null,
            "height": null,
            "min_height": null,
            "padding": null,
            "grid_auto_rows": null,
            "grid_gap": null,
            "max_width": null,
            "order": null,
            "_view_module_version": "1.2.0",
            "grid_template_areas": null,
            "object_position": null,
            "object_fit": null,
            "grid_auto_columns": null,
            "margin": null,
            "display": null,
            "left": null
          }
        },
        "c140080452194de6ac45d7c2068ec824": {
          "model_module": "@jupyter-widgets/controls",
          "model_name": "DescriptionStyleModel",
          "state": {
            "_view_name": "StyleView",
            "_model_name": "DescriptionStyleModel",
            "description_width": "",
            "_view_module": "@jupyter-widgets/base",
            "_model_module_version": "1.5.0",
            "_view_count": null,
            "_view_module_version": "1.2.0",
            "_model_module": "@jupyter-widgets/controls"
          }
        },
        "c37c72a5fdd34bb4bdd1e572015b360f": {
          "model_module": "@jupyter-widgets/base",
          "model_name": "LayoutModel",
          "state": {
            "_view_name": "LayoutView",
            "grid_template_rows": null,
            "right": null,
            "justify_content": null,
            "_view_module": "@jupyter-widgets/base",
            "overflow": null,
            "_model_module_version": "1.2.0",
            "_view_count": null,
            "flex_flow": null,
            "width": null,
            "min_width": null,
            "border": null,
            "align_items": null,
            "bottom": null,
            "_model_module": "@jupyter-widgets/base",
            "top": null,
            "grid_column": null,
            "overflow_y": null,
            "overflow_x": null,
            "grid_auto_flow": null,
            "grid_area": null,
            "grid_template_columns": null,
            "flex": null,
            "_model_name": "LayoutModel",
            "justify_items": null,
            "grid_row": null,
            "max_height": null,
            "align_content": null,
            "visibility": null,
            "align_self": null,
            "height": null,
            "min_height": null,
            "padding": null,
            "grid_auto_rows": null,
            "grid_gap": null,
            "max_width": null,
            "order": null,
            "_view_module_version": "1.2.0",
            "grid_template_areas": null,
            "object_position": null,
            "object_fit": null,
            "grid_auto_columns": null,
            "margin": null,
            "display": null,
            "left": null
          }
        },
        "6bc4315a7c204d53868a7c6d888e1fff": {
          "model_module": "@jupyter-widgets/controls",
          "model_name": "HBoxModel",
          "state": {
            "_view_name": "HBoxView",
            "_dom_classes": [],
            "_model_name": "HBoxModel",
            "_view_module": "@jupyter-widgets/controls",
            "_model_module_version": "1.5.0",
            "_view_count": null,
            "_view_module_version": "1.5.0",
            "box_style": "",
            "layout": "IPY_MODEL_0270f98a7a5b43a3920abc343d82f2bc",
            "_model_module": "@jupyter-widgets/controls",
            "children": [
              "IPY_MODEL_1ab84a01c0bf466fa8fb2e5628b4cdfe",
              "IPY_MODEL_5f554774834b412b8e824622939aa402"
            ]
          }
        },
        "0270f98a7a5b43a3920abc343d82f2bc": {
          "model_module": "@jupyter-widgets/base",
          "model_name": "LayoutModel",
          "state": {
            "_view_name": "LayoutView",
            "grid_template_rows": null,
            "right": null,
            "justify_content": null,
            "_view_module": "@jupyter-widgets/base",
            "overflow": null,
            "_model_module_version": "1.2.0",
            "_view_count": null,
            "flex_flow": null,
            "width": null,
            "min_width": null,
            "border": null,
            "align_items": null,
            "bottom": null,
            "_model_module": "@jupyter-widgets/base",
            "top": null,
            "grid_column": null,
            "overflow_y": null,
            "overflow_x": null,
            "grid_auto_flow": null,
            "grid_area": null,
            "grid_template_columns": null,
            "flex": null,
            "_model_name": "LayoutModel",
            "justify_items": null,
            "grid_row": null,
            "max_height": null,
            "align_content": null,
            "visibility": null,
            "align_self": null,
            "height": null,
            "min_height": null,
            "padding": null,
            "grid_auto_rows": null,
            "grid_gap": null,
            "max_width": null,
            "order": null,
            "_view_module_version": "1.2.0",
            "grid_template_areas": null,
            "object_position": null,
            "object_fit": null,
            "grid_auto_columns": null,
            "margin": null,
            "display": null,
            "left": null
          }
        },
        "1ab84a01c0bf466fa8fb2e5628b4cdfe": {
          "model_module": "@jupyter-widgets/controls",
          "model_name": "FloatProgressModel",
          "state": {
            "_view_name": "ProgressView",
            "style": "IPY_MODEL_e31b62206de54aaf894fdc7a2bfebe52",
            "_dom_classes": [],
            "description": "Downloading: 100%",
            "_model_name": "FloatProgressModel",
            "bar_style": "success",
            "max": 440473133,
            "_view_module": "@jupyter-widgets/controls",
            "_model_module_version": "1.5.0",
            "value": 440473133,
            "_view_count": null,
            "_view_module_version": "1.5.0",
            "orientation": "horizontal",
            "min": 0,
            "description_tooltip": null,
            "_model_module": "@jupyter-widgets/controls",
            "layout": "IPY_MODEL_61cb375841e949af8fcb0af741b1b298"
          }
        },
        "5f554774834b412b8e824622939aa402": {
          "model_module": "@jupyter-widgets/controls",
          "model_name": "HTMLModel",
          "state": {
            "_view_name": "HTMLView",
            "style": "IPY_MODEL_afea2b69ea1e41288e7ece7674596c01",
            "_dom_classes": [],
            "description": "",
            "_model_name": "HTMLModel",
            "placeholder": "​",
            "_view_module": "@jupyter-widgets/controls",
            "_model_module_version": "1.5.0",
            "value": " 440M/440M [00:10&lt;00:00, 44.0MB/s]",
            "_view_count": null,
            "_view_module_version": "1.5.0",
            "description_tooltip": null,
            "_model_module": "@jupyter-widgets/controls",
            "layout": "IPY_MODEL_e412f37704414692988e492ffb86b910"
          }
        },
        "e31b62206de54aaf894fdc7a2bfebe52": {
          "model_module": "@jupyter-widgets/controls",
          "model_name": "ProgressStyleModel",
          "state": {
            "_view_name": "StyleView",
            "_model_name": "ProgressStyleModel",
            "description_width": "initial",
            "_view_module": "@jupyter-widgets/base",
            "_model_module_version": "1.5.0",
            "_view_count": null,
            "_view_module_version": "1.2.0",
            "bar_color": null,
            "_model_module": "@jupyter-widgets/controls"
          }
        },
        "61cb375841e949af8fcb0af741b1b298": {
          "model_module": "@jupyter-widgets/base",
          "model_name": "LayoutModel",
          "state": {
            "_view_name": "LayoutView",
            "grid_template_rows": null,
            "right": null,
            "justify_content": null,
            "_view_module": "@jupyter-widgets/base",
            "overflow": null,
            "_model_module_version": "1.2.0",
            "_view_count": null,
            "flex_flow": null,
            "width": null,
            "min_width": null,
            "border": null,
            "align_items": null,
            "bottom": null,
            "_model_module": "@jupyter-widgets/base",
            "top": null,
            "grid_column": null,
            "overflow_y": null,
            "overflow_x": null,
            "grid_auto_flow": null,
            "grid_area": null,
            "grid_template_columns": null,
            "flex": null,
            "_model_name": "LayoutModel",
            "justify_items": null,
            "grid_row": null,
            "max_height": null,
            "align_content": null,
            "visibility": null,
            "align_self": null,
            "height": null,
            "min_height": null,
            "padding": null,
            "grid_auto_rows": null,
            "grid_gap": null,
            "max_width": null,
            "order": null,
            "_view_module_version": "1.2.0",
            "grid_template_areas": null,
            "object_position": null,
            "object_fit": null,
            "grid_auto_columns": null,
            "margin": null,
            "display": null,
            "left": null
          }
        },
        "afea2b69ea1e41288e7ece7674596c01": {
          "model_module": "@jupyter-widgets/controls",
          "model_name": "DescriptionStyleModel",
          "state": {
            "_view_name": "StyleView",
            "_model_name": "DescriptionStyleModel",
            "description_width": "",
            "_view_module": "@jupyter-widgets/base",
            "_model_module_version": "1.5.0",
            "_view_count": null,
            "_view_module_version": "1.2.0",
            "_model_module": "@jupyter-widgets/controls"
          }
        },
        "e412f37704414692988e492ffb86b910": {
          "model_module": "@jupyter-widgets/base",
          "model_name": "LayoutModel",
          "state": {
            "_view_name": "LayoutView",
            "grid_template_rows": null,
            "right": null,
            "justify_content": null,
            "_view_module": "@jupyter-widgets/base",
            "overflow": null,
            "_model_module_version": "1.2.0",
            "_view_count": null,
            "flex_flow": null,
            "width": null,
            "min_width": null,
            "border": null,
            "align_items": null,
            "bottom": null,
            "_model_module": "@jupyter-widgets/base",
            "top": null,
            "grid_column": null,
            "overflow_y": null,
            "overflow_x": null,
            "grid_auto_flow": null,
            "grid_area": null,
            "grid_template_columns": null,
            "flex": null,
            "_model_name": "LayoutModel",
            "justify_items": null,
            "grid_row": null,
            "max_height": null,
            "align_content": null,
            "visibility": null,
            "align_self": null,
            "height": null,
            "min_height": null,
            "padding": null,
            "grid_auto_rows": null,
            "grid_gap": null,
            "max_width": null,
            "order": null,
            "_view_module_version": "1.2.0",
            "grid_template_areas": null,
            "object_position": null,
            "object_fit": null,
            "grid_auto_columns": null,
            "margin": null,
            "display": null,
            "left": null
          }
        },
        "7dfa80fb8f6545dd85e30aeedfc1de93": {
          "model_module": "@jupyter-widgets/controls",
          "model_name": "HBoxModel",
          "state": {
            "_view_name": "HBoxView",
            "_dom_classes": [],
            "_model_name": "HBoxModel",
            "_view_module": "@jupyter-widgets/controls",
            "_model_module_version": "1.5.0",
            "_view_count": null,
            "_view_module_version": "1.5.0",
            "box_style": "",
            "layout": "IPY_MODEL_0dc28c39e0244bd697f0ae7fc008d61b",
            "_model_module": "@jupyter-widgets/controls",
            "children": [
              "IPY_MODEL_43509c51bdc0454dbee62ab2351fb175",
              "IPY_MODEL_5a02a33f02f2490fb2c0683c45547f16"
            ]
          }
        },
        "0dc28c39e0244bd697f0ae7fc008d61b": {
          "model_module": "@jupyter-widgets/base",
          "model_name": "LayoutModel",
          "state": {
            "_view_name": "LayoutView",
            "grid_template_rows": null,
            "right": null,
            "justify_content": null,
            "_view_module": "@jupyter-widgets/base",
            "overflow": null,
            "_model_module_version": "1.2.0",
            "_view_count": null,
            "flex_flow": null,
            "width": null,
            "min_width": null,
            "border": null,
            "align_items": null,
            "bottom": null,
            "_model_module": "@jupyter-widgets/base",
            "top": null,
            "grid_column": null,
            "overflow_y": null,
            "overflow_x": null,
            "grid_auto_flow": null,
            "grid_area": null,
            "grid_template_columns": null,
            "flex": null,
            "_model_name": "LayoutModel",
            "justify_items": null,
            "grid_row": null,
            "max_height": null,
            "align_content": null,
            "visibility": null,
            "align_self": null,
            "height": null,
            "min_height": null,
            "padding": null,
            "grid_auto_rows": null,
            "grid_gap": null,
            "max_width": null,
            "order": null,
            "_view_module_version": "1.2.0",
            "grid_template_areas": null,
            "object_position": null,
            "object_fit": null,
            "grid_auto_columns": null,
            "margin": null,
            "display": null,
            "left": null
          }
        },
        "43509c51bdc0454dbee62ab2351fb175": {
          "model_module": "@jupyter-widgets/controls",
          "model_name": "FloatProgressModel",
          "state": {
            "_view_name": "ProgressView",
            "style": "IPY_MODEL_371ed83b91564b22b1970dff1ef69c1d",
            "_dom_classes": [],
            "description": "Downloading: 100%",
            "_model_name": "FloatProgressModel",
            "bar_style": "success",
            "max": 231508,
            "_view_module": "@jupyter-widgets/controls",
            "_model_module_version": "1.5.0",
            "value": 231508,
            "_view_count": null,
            "_view_module_version": "1.5.0",
            "orientation": "horizontal",
            "min": 0,
            "description_tooltip": null,
            "_model_module": "@jupyter-widgets/controls",
            "layout": "IPY_MODEL_54cf84862db9485da6fc31c48162f853"
          }
        },
        "5a02a33f02f2490fb2c0683c45547f16": {
          "model_module": "@jupyter-widgets/controls",
          "model_name": "HTMLModel",
          "state": {
            "_view_name": "HTMLView",
            "style": "IPY_MODEL_c1b01e9807fc47a288671a9ef7c3ac90",
            "_dom_classes": [],
            "description": "",
            "_model_name": "HTMLModel",
            "placeholder": "​",
            "_view_module": "@jupyter-widgets/controls",
            "_model_module_version": "1.5.0",
            "value": " 232k/232k [00:00&lt;00:00, 1.65MB/s]",
            "_view_count": null,
            "_view_module_version": "1.5.0",
            "description_tooltip": null,
            "_model_module": "@jupyter-widgets/controls",
            "layout": "IPY_MODEL_41b832b853d74cfd8c07e796f76e9062"
          }
        },
        "371ed83b91564b22b1970dff1ef69c1d": {
          "model_module": "@jupyter-widgets/controls",
          "model_name": "ProgressStyleModel",
          "state": {
            "_view_name": "StyleView",
            "_model_name": "ProgressStyleModel",
            "description_width": "initial",
            "_view_module": "@jupyter-widgets/base",
            "_model_module_version": "1.5.0",
            "_view_count": null,
            "_view_module_version": "1.2.0",
            "bar_color": null,
            "_model_module": "@jupyter-widgets/controls"
          }
        },
        "54cf84862db9485da6fc31c48162f853": {
          "model_module": "@jupyter-widgets/base",
          "model_name": "LayoutModel",
          "state": {
            "_view_name": "LayoutView",
            "grid_template_rows": null,
            "right": null,
            "justify_content": null,
            "_view_module": "@jupyter-widgets/base",
            "overflow": null,
            "_model_module_version": "1.2.0",
            "_view_count": null,
            "flex_flow": null,
            "width": null,
            "min_width": null,
            "border": null,
            "align_items": null,
            "bottom": null,
            "_model_module": "@jupyter-widgets/base",
            "top": null,
            "grid_column": null,
            "overflow_y": null,
            "overflow_x": null,
            "grid_auto_flow": null,
            "grid_area": null,
            "grid_template_columns": null,
            "flex": null,
            "_model_name": "LayoutModel",
            "justify_items": null,
            "grid_row": null,
            "max_height": null,
            "align_content": null,
            "visibility": null,
            "align_self": null,
            "height": null,
            "min_height": null,
            "padding": null,
            "grid_auto_rows": null,
            "grid_gap": null,
            "max_width": null,
            "order": null,
            "_view_module_version": "1.2.0",
            "grid_template_areas": null,
            "object_position": null,
            "object_fit": null,
            "grid_auto_columns": null,
            "margin": null,
            "display": null,
            "left": null
          }
        },
        "c1b01e9807fc47a288671a9ef7c3ac90": {
          "model_module": "@jupyter-widgets/controls",
          "model_name": "DescriptionStyleModel",
          "state": {
            "_view_name": "StyleView",
            "_model_name": "DescriptionStyleModel",
            "description_width": "",
            "_view_module": "@jupyter-widgets/base",
            "_model_module_version": "1.5.0",
            "_view_count": null,
            "_view_module_version": "1.2.0",
            "_model_module": "@jupyter-widgets/controls"
          }
        },
        "41b832b853d74cfd8c07e796f76e9062": {
          "model_module": "@jupyter-widgets/base",
          "model_name": "LayoutModel",
          "state": {
            "_view_name": "LayoutView",
            "grid_template_rows": null,
            "right": null,
            "justify_content": null,
            "_view_module": "@jupyter-widgets/base",
            "overflow": null,
            "_model_module_version": "1.2.0",
            "_view_count": null,
            "flex_flow": null,
            "width": null,
            "min_width": null,
            "border": null,
            "align_items": null,
            "bottom": null,
            "_model_module": "@jupyter-widgets/base",
            "top": null,
            "grid_column": null,
            "overflow_y": null,
            "overflow_x": null,
            "grid_auto_flow": null,
            "grid_area": null,
            "grid_template_columns": null,
            "flex": null,
            "_model_name": "LayoutModel",
            "justify_items": null,
            "grid_row": null,
            "max_height": null,
            "align_content": null,
            "visibility": null,
            "align_self": null,
            "height": null,
            "min_height": null,
            "padding": null,
            "grid_auto_rows": null,
            "grid_gap": null,
            "max_width": null,
            "order": null,
            "_view_module_version": "1.2.0",
            "grid_template_areas": null,
            "object_position": null,
            "object_fit": null,
            "grid_auto_columns": null,
            "margin": null,
            "display": null,
            "left": null
          }
        }
      }
    }
  },
  "cells": [
    {
      "cell_type": "markdown",
      "metadata": {
        "id": "SQ915C07Z4TA"
      },
      "source": [
        "# **Team Information - For final project**\r\n",
        "### **Topic: 1 Smooth Sailing AV**\r\n",
        "\r\n",
        "[**Github Link**](https://github.com/CMPE257-AlternusVera-All-Teams/AlternusVera-All-Teams-Integration)\r\n",
        "\r\n",
        "Name: Achalaesh Lanka\r\n",
        "\r\n",
        "Email: achalaesh.lanka@sjsu.edu\r\n",
        "\r\n",
        "ID: 013736528\r\n",
        "\r\n",
        "-----------\r\n",
        "Name: Sergio Aguilar Camarena\r\n",
        "\r\n",
        "Email: sergio.aguilarcamarena@sjsu.edu\r\n",
        "\r\n",
        "ID:  014579487\r\n",
        "\r\n",
        "----------\r\n",
        "\r\n",
        "Name: Indrayani Bhalerao\r\n",
        "\r\n",
        "Email: indrayani.bhalerao@sjsu.edu\r\n",
        "\r\n",
        "ID: 013859001\r\n",
        "\r\n",
        "----------\r\n",
        "\r\n",
        "Name: Geethu Padachery\r\n",
        "\r\n",
        "Email: geethu.padachery@sjsu.edu\r\n",
        "\r\n",
        "ID: 012538708\r\n",
        "\r\n",
        "----------\r\n",
        "\r\n",
        "\r\n",
        "\r\n"
      ]
    },
    {
      "cell_type": "markdown",
      "metadata": {
        "id": "88rxmKuoaPej"
      },
      "source": [
        "# **Individual Contribution**\r\n",
        "\r\n",
        "Total points - 40\r\n",
        "\r\n",
        "Name | Achalaesh Lanka | Sergio Aguilar Camarena | Geethu Padachery | Indrayani Bhalerao\r\n",
        "--- | :---: | :---: | :---: | :---:\r\n",
        "Achalaesh Lanka | 10 | 10 | 10 | 10\r\n",
        "Sergio Aguilar Camarena | 10 | 10 | 10 | 10\r\n",
        "Geethu Padachery | 10 | 10 | 10 | 10\r\n",
        "Indrayani Bhalerao | 10 | 10 | 10 | 10\r\n",
        "\r\n",
        "\r\n",
        "Comments from each member -\r\n",
        "\r\n",
        "**Achalaesh**: Everyone contributed well on the team. We had knowledge gaps when we started the project. However, we came together as a team and finished the project. All my team members deserve a full share of the points.\r\n",
        "\r\n",
        "**Sergio**: All team members worked equally hard and deserve a full share of the points. Very happy with the overall team effort and achievement in the short span.\r\n",
        "\r\n",
        "**Indrayani**: We all worked together on the analysis of code and discussed what needs to be refactored. We divided portions of code and made the appropriate modifications for a seamless integration process. All of us deserve equal share in points for the Smooth Sailing Alternus Vera Project.\r\n",
        "\r\n",
        "**Geethu**: As a team, we made the code uniform by removing the redundant imports and libraries. Everyone on my team did an excellent job and deserves a whole share of the credit. \r\n",
        "\r\n",
        "\r\n",
        "\r\n",
        "\r\n"
      ]
    },
    {
      "cell_type": "markdown",
      "metadata": {
        "id": "8Y1FVhhkYM_h"
      },
      "source": [
        "# **Performance Summary Analysis**\r\n",
        "\r\n",
        "\r\n",
        "Description | Before  | After  \r\n",
        "--- | :---: | :---:\r\n",
        "Overall Colab Runtime  | > 30:00 mins | 5:40 mins \r\n",
        "Number of google drive connections | >20 | 0 \r\n",
        "Number of google Authentications| 2 | 0 \r\n",
        "Number of blocking steps y/n| 2 | 0 \r\n",
        "Features broken| 2 | 0\r\n",
        "Restart due library loading| 3 | 0 \r\n",
        "Uniform code | Different approachs | Common method during object creation\r\n",
        "Creating classes| Few factors without class |  all factors in a OOP class  \r\n",
        "Factors code in Git | 2 teams factors | All factors  \r\n",
        "AWS S3 | No factors | big files factors\r\n",
        "Redundant imports | Individual imports per factor | Common section unique imports\r\n",
        "Redundant load | Reduntant per factor |  Common section unique loads\r\n",
        "\r\n",
        "\r\n",
        "\r\n"
      ]
    },
    {
      "cell_type": "markdown",
      "metadata": {
        "id": "o4GfPbzlwlWP"
      },
      "source": [
        "# **Exam Deliverables:** Problem 1. Smooth Sailing AV \r\n",
        "\r\n",
        "1. **Research involved:**\r\n",
        "<br> \tOur first task was to integrate the code that each team had submitted individually so that we can have a smooth sailing run of the colab. We started with our team first and realized soon that a lot of teams had personal google drive connections in the integrated colab. The code for these teams was then refactored accordingly which took a considerable amount of time. Removing the redundant code like common libraries and packages such as spacy and gensim word2vec with 300 vectors smoothened the process. The complete code was refactored by the team so that the inference pipeline runs seamlessly. \r\n",
        "\r\n",
        "  The next challenge we faced was loading the larger models in a common repository. We tried various approaches including Git LFS first but we had issues with moving models which were larger than 1 GB as they were taking too long to download. This would increase the overall time for the inference pipeline. We researched a lot and then decided the best approach was to load models from a S3 bucket instead. This gave us a flexibility to load code and large models separately. \r\n",
        "\r\n",
        "  After taking care of the redundant imports, refactoring the code, moving the larger models to S3 and creating a common git repository for all the team factors. The next task at hand was building a CI/CD pipeline for the smooth sailing AV project. For the inference part, we realized that colab was not a great approach for doing real time inference as users may not be able to access and understand process easily. Hence we decided to build a web application using flask which loads the models and performs inference real time. We also developed a second colab which could house the flask application using flask-ngrok.\r\n",
        "Following are the references for the links that helped us in our research -\r\n",
        " \r\n",
        "  * https://aws.amazon.com/solutions/implementations/aws-mlops-framework/\r\n",
        "  * https://medium.com/slalom-data-analytics/mlops-part-2-machine-learning-pipeline-automation-with-aws-1ca10348239e\r\n",
        "  * https://cloud.google.com/solutions/machine-learning/mlops-continuous-delivery-and-automation-pipelines-in-machine-learning\r\n",
        "  * https://towardsdatascience.com/ml-ops-machine-learning-as-an-engineering-discipline-b86ca4874a3f\r\n",
        "\r\n",
        "2. **Make Uniform and redundant load**\r\n",
        "<br>Since each team had followed a particular pattern for their code integration it was a huge task to make the code uniform. We began analyzing the factors one by one and then standardized the code so that the integration is following one common pattern. We loaded the larger models in S3 and all the code was uploaded to a common github repository. This helped us reduce the overall time of the inference pipeline by a great margin. \r\n",
        "\r\n",
        "3. **ML + SE**\r\n",
        "  <br>We have created a web application for the Smooth Sailing Alternus Vera Project. This web app will allow the end user to get real-time inference with respect to a news being fake or real in nature.We can get real time inference based on input text or a specific topic.\r\n",
        "\r\n",
        "4. **AV CI/CD inference pipelines -  MLOPS/AIOps**\r\n",
        "  <br> Since we didn’t have a training process, we chose to implement a simpler form of the CI pipeline where the smaller models can be loaded from git directly when the colab is run. We tried to take the training approach but every factor had its own dataset requirements and we were not able to solve the problem just by choosing a few approaches in the limited amount of time that we had. At least not without abandoning the support for most factors. So, we implemented the CI CD inference Pipeline with github and a flask application. \r\n",
        "![image.png](data:image/png;base64,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)\r\n",
        "\r\n",
        "5. **git or not git**  \r\n",
        "  We used AWS S3 for larger models which are more than 100MB. For smaller code and models we used git. This helped us organize the way we try to load the pickled model and reduce the time needed for inference. This was a huge performance improvement as compared to the AllTeamsIntegration Colab we started working on.  \r\n",
        "\r\n",
        "6. **Remove redundant imports and redundant connection to google drive** \r\n",
        "  <br> Various teams had common imports, even the individual members of the same team were using repetitive libraries and packages. We carefully analyzed the code for each factor and then refactored the code so that there is no redundant code in the integrated colab anymore.\r\n",
        "\r\n",
        "\r\n",
        "7. **Deployment pattern: load pickled models from AWS-S3**  \r\n",
        "We standardized the model loading process, almost all the classes had their own way for loading the models. Over the course, we’ve seen code being loaded from various sources such as google drive, dropbox, and github. We had to make things uniform, so we implemented a solution which could be applied to all the classes. We standardized the methods for pickling and loading the models by passing an option to load the model in the constructor.\r\n",
        "\r\n"
      ]
    },
    {
      "cell_type": "markdown",
      "metadata": {
        "id": "gSI0TkLgFY84"
      },
      "source": [
        "# Import common libraries  (6GB of huge models)"
      ]
    },
    {
      "cell_type": "code",
      "metadata": {
        "id": "p3yU7LTZFh-k"
      },
      "source": [
        "Loaded_en_core = False"
      ],
      "execution_count": null,
      "outputs": []
    },
    {
      "cell_type": "code",
      "metadata": {
        "colab": {
          "base_uri": "https://localhost:8080/"
        },
        "id": "YrkojAN8FYOM",
        "outputId": "8176db5c-c179-47ef-8eb4-a9ac9fd19d75"
      },
      "source": [
        "if not Loaded_en_core:\r\n",
        "  !python -m spacy download en_core_web_md\r\n",
        "  import spacy\r\n",
        "  from spacy.matcher import Matcher \r\n",
        "  from spacy.tokens import Span \r\n",
        "  import en_core_web_md\r\n",
        "\r\n",
        "  nlp = en_core_web_md.load()\r\n",
        "  Loaded_en_core = True"
      ],
      "execution_count": null,
      "outputs": [
        {
          "output_type": "stream",
          "text": [
            "Collecting en_core_web_md==2.2.5\n",
            "\u001b[?25l  Downloading https://github.com/explosion/spacy-models/releases/download/en_core_web_md-2.2.5/en_core_web_md-2.2.5.tar.gz (96.4MB)\n",
            "\u001b[K     |████████████████████████████████| 96.4MB 1.1MB/s \n",
            "\u001b[?25hRequirement already satisfied: spacy>=2.2.2 in /usr/local/lib/python3.6/dist-packages (from en_core_web_md==2.2.5) (2.2.4)\n",
            "Requirement already satisfied: thinc==7.4.0 in /usr/local/lib/python3.6/dist-packages (from spacy>=2.2.2->en_core_web_md==2.2.5) (7.4.0)\n",
            "Requirement already satisfied: tqdm<5.0.0,>=4.38.0 in /usr/local/lib/python3.6/dist-packages (from spacy>=2.2.2->en_core_web_md==2.2.5) (4.41.1)\n",
            "Requirement already satisfied: numpy>=1.15.0 in /usr/local/lib/python3.6/dist-packages (from spacy>=2.2.2->en_core_web_md==2.2.5) (1.18.5)\n",
            "Requirement already satisfied: preshed<3.1.0,>=3.0.2 in /usr/local/lib/python3.6/dist-packages (from spacy>=2.2.2->en_core_web_md==2.2.5) (3.0.5)\n",
            "Requirement already satisfied: wasabi<1.1.0,>=0.4.0 in /usr/local/lib/python3.6/dist-packages (from spacy>=2.2.2->en_core_web_md==2.2.5) (0.8.0)\n",
            "Requirement already satisfied: catalogue<1.1.0,>=0.0.7 in /usr/local/lib/python3.6/dist-packages (from spacy>=2.2.2->en_core_web_md==2.2.5) (1.0.0)\n",
            "Requirement already satisfied: blis<0.5.0,>=0.4.0 in /usr/local/lib/python3.6/dist-packages (from spacy>=2.2.2->en_core_web_md==2.2.5) (0.4.1)\n",
            "Requirement already satisfied: plac<1.2.0,>=0.9.6 in /usr/local/lib/python3.6/dist-packages (from spacy>=2.2.2->en_core_web_md==2.2.5) (1.1.3)\n",
            "Requirement already satisfied: cymem<2.1.0,>=2.0.2 in /usr/local/lib/python3.6/dist-packages (from spacy>=2.2.2->en_core_web_md==2.2.5) (2.0.5)\n",
            "Requirement already satisfied: requests<3.0.0,>=2.13.0 in /usr/local/lib/python3.6/dist-packages (from spacy>=2.2.2->en_core_web_md==2.2.5) (2.23.0)\n",
            "Requirement already satisfied: murmurhash<1.1.0,>=0.28.0 in /usr/local/lib/python3.6/dist-packages (from spacy>=2.2.2->en_core_web_md==2.2.5) (1.0.5)\n",
            "Requirement already satisfied: srsly<1.1.0,>=1.0.2 in /usr/local/lib/python3.6/dist-packages (from spacy>=2.2.2->en_core_web_md==2.2.5) (1.0.5)\n",
            "Requirement already satisfied: setuptools in /usr/local/lib/python3.6/dist-packages (from spacy>=2.2.2->en_core_web_md==2.2.5) (50.3.2)\n",
            "Requirement already satisfied: importlib-metadata>=0.20; python_version < \"3.8\" in /usr/local/lib/python3.6/dist-packages (from catalogue<1.1.0,>=0.0.7->spacy>=2.2.2->en_core_web_md==2.2.5) (3.1.1)\n",
            "Requirement already satisfied: certifi>=2017.4.17 in /usr/local/lib/python3.6/dist-packages (from requests<3.0.0,>=2.13.0->spacy>=2.2.2->en_core_web_md==2.2.5) (2020.12.5)\n",
            "Requirement already satisfied: chardet<4,>=3.0.2 in /usr/local/lib/python3.6/dist-packages (from requests<3.0.0,>=2.13.0->spacy>=2.2.2->en_core_web_md==2.2.5) (3.0.4)\n",
            "Requirement already satisfied: idna<3,>=2.5 in /usr/local/lib/python3.6/dist-packages (from requests<3.0.0,>=2.13.0->spacy>=2.2.2->en_core_web_md==2.2.5) (2.10)\n",
            "Requirement already satisfied: urllib3!=1.25.0,!=1.25.1,<1.26,>=1.21.1 in /usr/local/lib/python3.6/dist-packages (from requests<3.0.0,>=2.13.0->spacy>=2.2.2->en_core_web_md==2.2.5) (1.24.3)\n",
            "Requirement already satisfied: zipp>=0.5 in /usr/local/lib/python3.6/dist-packages (from importlib-metadata>=0.20; python_version < \"3.8\"->catalogue<1.1.0,>=0.0.7->spacy>=2.2.2->en_core_web_md==2.2.5) (3.4.0)\n",
            "Building wheels for collected packages: en-core-web-md\n",
            "  Building wheel for en-core-web-md (setup.py) ... \u001b[?25l\u001b[?25hdone\n",
            "  Created wheel for en-core-web-md: filename=en_core_web_md-2.2.5-cp36-none-any.whl size=98051305 sha256=7b200265dd8ed1cb803b28ba06d4fdccdf6d1dbb52d769bb0850ca3ce6f7b404\n",
            "  Stored in directory: /tmp/pip-ephem-wheel-cache-73lyi_zw/wheels/df/94/ad/f5cf59224cea6b5686ac4fd1ad19c8a07bc026e13c36502d81\n",
            "Successfully built en-core-web-md\n",
            "Installing collected packages: en-core-web-md\n",
            "Successfully installed en-core-web-md-2.2.5\n",
            "\u001b[38;5;2m✔ Download and installation successful\u001b[0m\n",
            "You can now load the model via spacy.load('en_core_web_md')\n"
          ],
          "name": "stdout"
        }
      ]
    },
    {
      "cell_type": "code",
      "metadata": {
        "id": "fkkbCqxe089i"
      },
      "source": [
        "import warnings\r\n",
        "import gensim\r\n",
        "gensim_model = gensim.models.KeyedVectors.load_word2vec_format('https://s3.amazonaws.com/dl4j-distribution/GoogleNews-vectors-negative300.bin.gz', binary=True, limit=200000)"
      ],
      "execution_count": null,
      "outputs": []
    },
    {
      "cell_type": "code",
      "metadata": {
        "colab": {
          "base_uri": "https://localhost:8080/"
        },
        "id": "NX8uLNrNQg44",
        "outputId": "705d6b0a-f064-40b0-9932-53a28f262bc9"
      },
      "source": [
        "!pip install vaderSentiment"
      ],
      "execution_count": null,
      "outputs": [
        {
          "output_type": "stream",
          "text": [
            "Collecting vaderSentiment\n",
            "\u001b[?25l  Downloading https://files.pythonhosted.org/packages/76/fc/310e16254683c1ed35eeb97386986d6c00bc29df17ce280aed64d55537e9/vaderSentiment-3.3.2-py2.py3-none-any.whl (125kB)\n",
            "\r\u001b[K     |██▋                             | 10kB 18.6MB/s eta 0:00:01\r\u001b[K     |█████▏                          | 20kB 9.5MB/s eta 0:00:01\r\u001b[K     |███████▉                        | 30kB 7.9MB/s eta 0:00:01\r\u001b[K     |██████████▍                     | 40kB 7.2MB/s eta 0:00:01\r\u001b[K     |█████████████                   | 51kB 5.1MB/s eta 0:00:01\r\u001b[K     |███████████████▋                | 61kB 5.0MB/s eta 0:00:01\r\u001b[K     |██████████████████▏             | 71kB 5.4MB/s eta 0:00:01\r\u001b[K     |████████████████████▉           | 81kB 5.9MB/s eta 0:00:01\r\u001b[K     |███████████████████████▍        | 92kB 5.6MB/s eta 0:00:01\r\u001b[K     |██████████████████████████      | 102kB 4.9MB/s eta 0:00:01\r\u001b[K     |████████████████████████████▋   | 112kB 4.9MB/s eta 0:00:01\r\u001b[K     |███████████████████████████████▏| 122kB 4.9MB/s eta 0:00:01\r\u001b[K     |████████████████████████████████| 133kB 4.9MB/s \n",
            "\u001b[?25hRequirement already satisfied: requests in /usr/local/lib/python3.6/dist-packages (from vaderSentiment) (2.23.0)\n",
            "Requirement already satisfied: chardet<4,>=3.0.2 in /usr/local/lib/python3.6/dist-packages (from requests->vaderSentiment) (3.0.4)\n",
            "Requirement already satisfied: urllib3!=1.25.0,!=1.25.1,<1.26,>=1.21.1 in /usr/local/lib/python3.6/dist-packages (from requests->vaderSentiment) (1.24.3)\n",
            "Requirement already satisfied: certifi>=2017.4.17 in /usr/local/lib/python3.6/dist-packages (from requests->vaderSentiment) (2020.12.5)\n",
            "Requirement already satisfied: idna<3,>=2.5 in /usr/local/lib/python3.6/dist-packages (from requests->vaderSentiment) (2.10)\n",
            "Installing collected packages: vaderSentiment\n",
            "Successfully installed vaderSentiment-3.3.2\n"
          ],
          "name": "stdout"
        }
      ]
    },
    {
      "cell_type": "code",
      "metadata": {
        "id": "b-VE041ZrUCb",
        "colab": {
          "base_uri": "https://localhost:8080/"
        },
        "outputId": "c4bf167d-9fc6-4ebc-d67d-85b82d657cde"
      },
      "source": [
        "!pip install ktrain"
      ],
      "execution_count": null,
      "outputs": [
        {
          "output_type": "stream",
          "text": [
            "Collecting ktrain\n",
            "\u001b[?25l  Downloading https://files.pythonhosted.org/packages/41/23/6f5addc2ade7c6240e2c9169bd7a9506cea17b35c9f322104a60dd4ba7fd/ktrain-0.25.2.tar.gz (25.3MB)\n",
            "\u001b[K     |████████████████████████████████| 25.3MB 1.3MB/s \n",
            "\u001b[?25hRequirement already satisfied: scikit-learn>=0.21.3 in /usr/local/lib/python3.6/dist-packages (from ktrain) (0.22.2.post1)\n",
            "Requirement already satisfied: matplotlib>=3.0.0 in /usr/local/lib/python3.6/dist-packages (from ktrain) (3.2.2)\n",
            "Requirement already satisfied: pandas>=1.0.1 in /usr/local/lib/python3.6/dist-packages (from ktrain) (1.1.5)\n",
            "Requirement already satisfied: fastprogress>=0.1.21 in /usr/local/lib/python3.6/dist-packages (from ktrain) (1.0.0)\n",
            "Requirement already satisfied: requests in /usr/local/lib/python3.6/dist-packages (from ktrain) (2.23.0)\n",
            "Requirement already satisfied: joblib in /usr/local/lib/python3.6/dist-packages (from ktrain) (0.17.0)\n",
            "Requirement already satisfied: packaging in /usr/local/lib/python3.6/dist-packages (from ktrain) (20.7)\n",
            "Requirement already satisfied: ipython in /usr/local/lib/python3.6/dist-packages (from ktrain) (5.5.0)\n",
            "Collecting langdetect\n",
            "\u001b[?25l  Downloading https://files.pythonhosted.org/packages/56/a3/8407c1e62d5980188b4acc45ef3d94b933d14a2ebc9ef3505f22cf772570/langdetect-1.0.8.tar.gz (981kB)\n",
            "\u001b[K     |████████████████████████████████| 983kB 63.0MB/s \n",
            "\u001b[?25hRequirement already satisfied: jieba in /usr/local/lib/python3.6/dist-packages (from ktrain) (0.42.1)\n",
            "Collecting cchardet\n",
            "\u001b[?25l  Downloading https://files.pythonhosted.org/packages/a0/e5/a0b9edd8664ea3b0d3270c451ebbf86655ed9fc4c3e4c45b9afae9c2e382/cchardet-2.1.7-cp36-cp36m-manylinux2010_x86_64.whl (263kB)\n",
            "\u001b[K     |████████████████████████████████| 266kB 59.6MB/s \n",
            "\u001b[?25hCollecting syntok\n",
            "  Downloading https://files.pythonhosted.org/packages/8c/76/a49e73a04b3e3a14ce232e8e28a1587f8108baa665644fe8c40e307e792e/syntok-1.3.1.tar.gz\n",
            "Collecting seqeval==0.0.19\n",
            "  Downloading https://files.pythonhosted.org/packages/93/e5/b7705156a77f742cfe4fc6f22d0c71591edb2d243328dff2f8fc0f933ab6/seqeval-0.0.19.tar.gz\n",
            "Collecting transformers<4.0,>=3.1.0\n",
            "\u001b[?25l  Downloading https://files.pythonhosted.org/packages/3a/83/e74092e7f24a08d751aa59b37a9fc572b2e4af3918cb66f7766c3affb1b4/transformers-3.5.1-py3-none-any.whl (1.3MB)\n",
            "\u001b[K     |████████████████████████████████| 1.3MB 58.4MB/s \n",
            "\u001b[?25hCollecting sentencepiece\n",
            "\u001b[?25l  Downloading https://files.pythonhosted.org/packages/e5/2d/6d4ca4bef9a67070fa1cac508606328329152b1df10bdf31fb6e4e727894/sentencepiece-0.1.94-cp36-cp36m-manylinux2014_x86_64.whl (1.1MB)\n",
            "\u001b[K     |████████████████████████████████| 1.1MB 54.7MB/s \n",
            "\u001b[?25hCollecting keras_bert>=0.86.0\n",
            "  Downloading https://files.pythonhosted.org/packages/e2/7f/95fabd29f4502924fa3f09ff6538c5a7d290dfef2c2fe076d3d1a16e08f0/keras-bert-0.86.0.tar.gz\n",
            "Requirement already satisfied: networkx>=2.3 in /usr/local/lib/python3.6/dist-packages (from ktrain) (2.5)\n",
            "Collecting whoosh\n",
            "\u001b[?25l  Downloading https://files.pythonhosted.org/packages/ba/19/24d0f1f454a2c1eb689ca28d2f178db81e5024f42d82729a4ff6771155cf/Whoosh-2.7.4-py2.py3-none-any.whl (468kB)\n",
            "\u001b[K     |████████████████████████████████| 471kB 65.0MB/s \n",
            "\u001b[?25hRequirement already satisfied: scipy>=0.17.0 in /usr/local/lib/python3.6/dist-packages (from scikit-learn>=0.21.3->ktrain) (1.4.1)\n",
            "Requirement already satisfied: numpy>=1.11.0 in /usr/local/lib/python3.6/dist-packages (from scikit-learn>=0.21.3->ktrain) (1.18.5)\n",
            "Requirement already satisfied: pyparsing!=2.0.4,!=2.1.2,!=2.1.6,>=2.0.1 in /usr/local/lib/python3.6/dist-packages (from matplotlib>=3.0.0->ktrain) (2.4.7)\n",
            "Requirement already satisfied: kiwisolver>=1.0.1 in /usr/local/lib/python3.6/dist-packages (from matplotlib>=3.0.0->ktrain) (1.3.1)\n",
            "Requirement already satisfied: cycler>=0.10 in /usr/local/lib/python3.6/dist-packages (from matplotlib>=3.0.0->ktrain) (0.10.0)\n",
            "Requirement already satisfied: python-dateutil>=2.1 in /usr/local/lib/python3.6/dist-packages (from matplotlib>=3.0.0->ktrain) (2.8.1)\n",
            "Requirement already satisfied: pytz>=2017.2 in /usr/local/lib/python3.6/dist-packages (from pandas>=1.0.1->ktrain) (2018.9)\n",
            "Requirement already satisfied: certifi>=2017.4.17 in /usr/local/lib/python3.6/dist-packages (from requests->ktrain) (2020.12.5)\n",
            "Requirement already satisfied: chardet<4,>=3.0.2 in /usr/local/lib/python3.6/dist-packages (from requests->ktrain) (3.0.4)\n",
            "Requirement already satisfied: urllib3!=1.25.0,!=1.25.1,<1.26,>=1.21.1 in /usr/local/lib/python3.6/dist-packages (from requests->ktrain) (1.24.3)\n",
            "Requirement already satisfied: idna<3,>=2.5 in /usr/local/lib/python3.6/dist-packages (from requests->ktrain) (2.10)\n",
            "Requirement already satisfied: traitlets>=4.2 in /usr/local/lib/python3.6/dist-packages (from ipython->ktrain) (4.3.3)\n",
            "Requirement already satisfied: simplegeneric>0.8 in /usr/local/lib/python3.6/dist-packages (from ipython->ktrain) (0.8.1)\n",
            "Requirement already satisfied: prompt-toolkit<2.0.0,>=1.0.4 in /usr/local/lib/python3.6/dist-packages (from ipython->ktrain) (1.0.18)\n",
            "Requirement already satisfied: decorator in /usr/local/lib/python3.6/dist-packages (from ipython->ktrain) (4.4.2)\n",
            "Requirement already satisfied: pexpect; sys_platform != \"win32\" in /usr/local/lib/python3.6/dist-packages (from ipython->ktrain) (4.8.0)\n",
            "Requirement already satisfied: setuptools>=18.5 in /usr/local/lib/python3.6/dist-packages (from ipython->ktrain) (50.3.2)\n",
            "Requirement already satisfied: pygments in /usr/local/lib/python3.6/dist-packages (from ipython->ktrain) (2.6.1)\n",
            "Requirement already satisfied: pickleshare in /usr/local/lib/python3.6/dist-packages (from ipython->ktrain) (0.7.5)\n",
            "Requirement already satisfied: six in /usr/local/lib/python3.6/dist-packages (from langdetect->ktrain) (1.15.0)\n",
            "Requirement already satisfied: regex in /usr/local/lib/python3.6/dist-packages (from syntok->ktrain) (2019.12.20)\n",
            "Requirement already satisfied: Keras>=2.2.4 in /usr/local/lib/python3.6/dist-packages (from seqeval==0.0.19->ktrain) (2.4.3)\n",
            "Requirement already satisfied: dataclasses; python_version < \"3.7\" in /usr/local/lib/python3.6/dist-packages (from transformers<4.0,>=3.1.0->ktrain) (0.8)\n",
            "Requirement already satisfied: tqdm>=4.27 in /usr/local/lib/python3.6/dist-packages (from transformers<4.0,>=3.1.0->ktrain) (4.41.1)\n",
            "Requirement already satisfied: filelock in /usr/local/lib/python3.6/dist-packages (from transformers<4.0,>=3.1.0->ktrain) (3.0.12)\n",
            "Collecting sacremoses\n",
            "\u001b[?25l  Downloading https://files.pythonhosted.org/packages/7d/34/09d19aff26edcc8eb2a01bed8e98f13a1537005d31e95233fd48216eed10/sacremoses-0.0.43.tar.gz (883kB)\n",
            "\u001b[K     |████████████████████████████████| 890kB 63.8MB/s \n",
            "\u001b[?25hRequirement already satisfied: protobuf in /usr/local/lib/python3.6/dist-packages (from transformers<4.0,>=3.1.0->ktrain) (3.12.4)\n",
            "Collecting tokenizers==0.9.3\n",
            "\u001b[?25l  Downloading https://files.pythonhosted.org/packages/4c/34/b39eb9994bc3c999270b69c9eea40ecc6f0e97991dba28282b9fd32d44ee/tokenizers-0.9.3-cp36-cp36m-manylinux1_x86_64.whl (2.9MB)\n",
            "\u001b[K     |████████████████████████████████| 2.9MB 61.5MB/s \n",
            "\u001b[?25hCollecting keras-transformer>=0.38.0\n",
            "  Downloading https://files.pythonhosted.org/packages/89/6c/d6f0c164f4cc16fbc0d0fea85f5526e87a7d2df7b077809e422a7e626150/keras-transformer-0.38.0.tar.gz\n",
            "Requirement already satisfied: ipython-genutils in /usr/local/lib/python3.6/dist-packages (from traitlets>=4.2->ipython->ktrain) (0.2.0)\n",
            "Requirement already satisfied: wcwidth in /usr/local/lib/python3.6/dist-packages (from prompt-toolkit<2.0.0,>=1.0.4->ipython->ktrain) (0.2.5)\n",
            "Requirement already satisfied: ptyprocess>=0.5 in /usr/local/lib/python3.6/dist-packages (from pexpect; sys_platform != \"win32\"->ipython->ktrain) (0.6.0)\n",
            "Requirement already satisfied: pyyaml in /usr/local/lib/python3.6/dist-packages (from Keras>=2.2.4->seqeval==0.0.19->ktrain) (3.13)\n",
            "Requirement already satisfied: h5py in /usr/local/lib/python3.6/dist-packages (from Keras>=2.2.4->seqeval==0.0.19->ktrain) (2.10.0)\n",
            "Requirement already satisfied: click in /usr/local/lib/python3.6/dist-packages (from sacremoses->transformers<4.0,>=3.1.0->ktrain) (7.1.2)\n",
            "Collecting keras-pos-embd>=0.11.0\n",
            "  Downloading https://files.pythonhosted.org/packages/09/70/b63ed8fc660da2bb6ae29b9895401c628da5740c048c190b5d7107cadd02/keras-pos-embd-0.11.0.tar.gz\n",
            "Collecting keras-multi-head>=0.27.0\n",
            "  Downloading https://files.pythonhosted.org/packages/e6/32/45adf2549450aca7867deccfa04af80a0ab1ca139af44b16bc669e0e09cd/keras-multi-head-0.27.0.tar.gz\n",
            "Collecting keras-layer-normalization>=0.14.0\n",
            "  Downloading https://files.pythonhosted.org/packages/a4/0e/d1078df0494bac9ce1a67954e5380b6e7569668f0f3b50a9531c62c1fc4a/keras-layer-normalization-0.14.0.tar.gz\n",
            "Collecting keras-position-wise-feed-forward>=0.6.0\n",
            "  Downloading https://files.pythonhosted.org/packages/e3/59/f0faa1037c033059e7e9e7758e6c23b4d1c0772cd48de14c4b6fd4033ad5/keras-position-wise-feed-forward-0.6.0.tar.gz\n",
            "Collecting keras-embed-sim>=0.8.0\n",
            "  Downloading https://files.pythonhosted.org/packages/57/ef/61a1e39082c9e1834a2d09261d4a0b69f7c818b359216d4e1912b20b1c86/keras-embed-sim-0.8.0.tar.gz\n",
            "Collecting keras-self-attention==0.46.0\n",
            "  Downloading https://files.pythonhosted.org/packages/15/6b/c804924a056955fa1f3ff767945187103cfc851ba9bd0fc5a6c6bc18e2eb/keras-self-attention-0.46.0.tar.gz\n",
            "Building wheels for collected packages: ktrain, langdetect, syntok, seqeval, keras-bert, sacremoses, keras-transformer, keras-pos-embd, keras-multi-head, keras-layer-normalization, keras-position-wise-feed-forward, keras-embed-sim, keras-self-attention\n",
            "  Building wheel for ktrain (setup.py) ... \u001b[?25l\u001b[?25hdone\n",
            "  Created wheel for ktrain: filename=ktrain-0.25.2-cp36-none-any.whl size=25276306 sha256=317dbcefacbbba2acb630f14e7beafe2c617a45da15bb8390b8e58f258f96c01\n",
            "  Stored in directory: /root/.cache/pip/wheels/fe/56/00/25444c352cc843e5c5daea0e9517a192878ae22c2c6b5f4573\n",
            "  Building wheel for langdetect (setup.py) ... \u001b[?25l\u001b[?25hdone\n",
            "  Created wheel for langdetect: filename=langdetect-1.0.8-cp36-none-any.whl size=993193 sha256=4c9706cd143ae29e3f156e9f9f237219a238302ac89c72e41395e52f64a7d0ac\n",
            "  Stored in directory: /root/.cache/pip/wheels/8d/b3/aa/6d99de9f3841d7d3d40a60ea06e6d669e8e5012e6c8b947a57\n",
            "  Building wheel for syntok (setup.py) ... \u001b[?25l\u001b[?25hdone\n",
            "  Created wheel for syntok: filename=syntok-1.3.1-cp36-none-any.whl size=20919 sha256=1c8a0cea4c0e5387c4e497e4becd959d148654822153f523c9a14c4c8c2eb708\n",
            "  Stored in directory: /root/.cache/pip/wheels/51/c6/a4/be1920586c49469846bcd2888200bdecfe109ec421dab9be2d\n",
            "  Building wheel for seqeval (setup.py) ... \u001b[?25l\u001b[?25hdone\n",
            "  Created wheel for seqeval: filename=seqeval-0.0.19-cp36-none-any.whl size=9920 sha256=a7db558ffeda0bfcde6c98ba480767abcb65c4ca60922638bccc49d87f41dbad\n",
            "  Stored in directory: /root/.cache/pip/wheels/8d/1f/bf/1198beceed805a2099060975f6281d1b01046dd279e19c97be\n",
            "  Building wheel for keras-bert (setup.py) ... \u001b[?25l\u001b[?25hdone\n",
            "  Created wheel for keras-bert: filename=keras_bert-0.86.0-cp36-none-any.whl size=34146 sha256=78aadc74fa70185e9b246f584ab12febd078007509f4483a263eb0bb14154e84\n",
            "  Stored in directory: /root/.cache/pip/wheels/66/f0/b1/748128b58562fc9e31b907bb5e2ab6a35eb37695e83911236b\n",
            "  Building wheel for sacremoses (setup.py) ... \u001b[?25l\u001b[?25hdone\n",
            "  Created wheel for sacremoses: filename=sacremoses-0.0.43-cp36-none-any.whl size=893261 sha256=a1d8e7e7b3199c1209971ad4dca4af366845bdfdd81da984ea2e1b830f5b0908\n",
            "  Stored in directory: /root/.cache/pip/wheels/29/3c/fd/7ce5c3f0666dab31a50123635e6fb5e19ceb42ce38d4e58f45\n",
            "  Building wheel for keras-transformer (setup.py) ... \u001b[?25l\u001b[?25hdone\n",
            "  Created wheel for keras-transformer: filename=keras_transformer-0.38.0-cp36-none-any.whl size=12942 sha256=0adc8fd560dd2eda2547ab8c6ea0dfb10b806b19b4b6aef7c9583dbf1122dc4e\n",
            "  Stored in directory: /root/.cache/pip/wheels/e5/fb/3a/37b2b9326c799aa010ae46a04ddb04f320d8c77c0b7e837f4e\n",
            "  Building wheel for keras-pos-embd (setup.py) ... \u001b[?25l\u001b[?25hdone\n",
            "  Created wheel for keras-pos-embd: filename=keras_pos_embd-0.11.0-cp36-none-any.whl size=7554 sha256=84725b3cb429bda3421a8587494a5d2be79d4225f20a691876f558c418b0474f\n",
            "  Stored in directory: /root/.cache/pip/wheels/5b/a1/a0/ce6b1d49ba1a9a76f592e70cf297b05c96bc9f418146761032\n",
            "  Building wheel for keras-multi-head (setup.py) ... \u001b[?25l\u001b[?25hdone\n",
            "  Created wheel for keras-multi-head: filename=keras_multi_head-0.27.0-cp36-none-any.whl size=15610 sha256=ea9aaa7baa0845becdb77c33500a608dcc5b983129f032912edcbe8880da248b\n",
            "  Stored in directory: /root/.cache/pip/wheels/b5/b4/49/0a0c27dcb93c13af02fea254ff51d1a43a924dd4e5b7a7164d\n",
            "  Building wheel for keras-layer-normalization (setup.py) ... \u001b[?25l\u001b[?25hdone\n",
            "  Created wheel for keras-layer-normalization: filename=keras_layer_normalization-0.14.0-cp36-none-any.whl size=5267 sha256=6b2f4c02a5cbc555c165cda0bca3d95976b7f3e2ada9c6ff44e40783eff60c90\n",
            "  Stored in directory: /root/.cache/pip/wheels/54/80/22/a638a7d406fd155e507aa33d703e3fa2612b9eb7bb4f4fe667\n",
            "  Building wheel for keras-position-wise-feed-forward (setup.py) ... \u001b[?25l\u001b[?25hdone\n",
            "  Created wheel for keras-position-wise-feed-forward: filename=keras_position_wise_feed_forward-0.6.0-cp36-none-any.whl size=5625 sha256=9acc4b51316675b2d9fe06600c229e12fb3b98ac30abe0e8a367d984e9a52533\n",
            "  Stored in directory: /root/.cache/pip/wheels/39/e2/e2/3514fef126a00574b13bc0b9e23891800158df3a3c19c96e3b\n",
            "  Building wheel for keras-embed-sim (setup.py) ... \u001b[?25l\u001b[?25hdone\n",
            "  Created wheel for keras-embed-sim: filename=keras_embed_sim-0.8.0-cp36-none-any.whl size=4560 sha256=a947d4dde35b3278a4d634144ae0cba4f8fd3b91366bc611ba3a9fab4e47c0c4\n",
            "  Stored in directory: /root/.cache/pip/wheels/49/45/8b/c111f6cc8bec253e984677de73a6f4f5d2f1649f42aac191c8\n",
            "  Building wheel for keras-self-attention (setup.py) ... \u001b[?25l\u001b[?25hdone\n",
            "  Created wheel for keras-self-attention: filename=keras_self_attention-0.46.0-cp36-none-any.whl size=17278 sha256=0dfc03588abb2ab3c27e88d6ea620b9856bfd03f223e3274a15953a72dcaab7e\n",
            "  Stored in directory: /root/.cache/pip/wheels/d2/2e/80/fec4c05eb23c8e13b790e26d207d6e0ffe8013fad8c6bdd4d2\n",
            "Successfully built ktrain langdetect syntok seqeval keras-bert sacremoses keras-transformer keras-pos-embd keras-multi-head keras-layer-normalization keras-position-wise-feed-forward keras-embed-sim keras-self-attention\n",
            "\u001b[31mERROR: transformers 3.5.1 has requirement sentencepiece==0.1.91, but you'll have sentencepiece 0.1.94 which is incompatible.\u001b[0m\n",
            "Installing collected packages: langdetect, cchardet, syntok, seqeval, sentencepiece, sacremoses, tokenizers, transformers, keras-pos-embd, keras-self-attention, keras-multi-head, keras-layer-normalization, keras-position-wise-feed-forward, keras-embed-sim, keras-transformer, keras-bert, whoosh, ktrain\n",
            "Successfully installed cchardet-2.1.7 keras-bert-0.86.0 keras-embed-sim-0.8.0 keras-layer-normalization-0.14.0 keras-multi-head-0.27.0 keras-pos-embd-0.11.0 keras-position-wise-feed-forward-0.6.0 keras-self-attention-0.46.0 keras-transformer-0.38.0 ktrain-0.25.2 langdetect-1.0.8 sacremoses-0.0.43 sentencepiece-0.1.94 seqeval-0.0.19 syntok-1.3.1 tokenizers-0.9.3 transformers-3.5.1 whoosh-2.7.4\n"
          ],
          "name": "stdout"
        }
      ]
    },
    {
      "cell_type": "code",
      "metadata": {
        "id": "umCo23xCrY5i",
        "colab": {
          "base_uri": "https://localhost:8080/"
        },
        "outputId": "93ca0c53-ad83-4e82-9e60-e5e6dc831510"
      },
      "source": [
        "! pip install textstat"
      ],
      "execution_count": null,
      "outputs": [
        {
          "output_type": "stream",
          "text": [
            "Collecting textstat\n",
            "\u001b[?25l  Downloading https://files.pythonhosted.org/packages/ca/b1/ab40a00b727a0d209402d1be6aa3f1bc75bd03678b59ace8507b08bf12f5/textstat-0.7.0-py3-none-any.whl (99kB)\n",
            "\u001b[K     |████████████████████████████████| 102kB 4.7MB/s \n",
            "\u001b[?25hCollecting pyphen\n",
            "\u001b[?25l  Downloading https://files.pythonhosted.org/packages/7c/5a/5bc036e01389bc6a6667a932bac3e388de6e7fa5777a6ff50e652f60ec79/Pyphen-0.10.0-py3-none-any.whl (1.9MB)\n",
            "\u001b[K     |████████████████████████████████| 1.9MB 6.6MB/s \n",
            "\u001b[?25hInstalling collected packages: pyphen, textstat\n",
            "Successfully installed pyphen-0.10.0 textstat-0.7.0\n"
          ],
          "name": "stdout"
        }
      ]
    },
    {
      "cell_type": "code",
      "metadata": {
        "colab": {
          "base_uri": "https://localhost:8080/"
        },
        "id": "I5VDgWi91ocg",
        "outputId": "c7290c2f-ba7f-465f-ac4b-62714808b6c9"
      },
      "source": [
        "! pip install torch"
      ],
      "execution_count": null,
      "outputs": [
        {
          "output_type": "stream",
          "text": [
            "Requirement already satisfied: torch in /usr/local/lib/python3.6/dist-packages (1.7.0+cu101)\n",
            "Requirement already satisfied: dataclasses in /usr/local/lib/python3.6/dist-packages (from torch) (0.8)\n",
            "Requirement already satisfied: typing-extensions in /usr/local/lib/python3.6/dist-packages (from torch) (3.7.4.3)\n",
            "Requirement already satisfied: numpy in /usr/local/lib/python3.6/dist-packages (from torch) (1.18.5)\n",
            "Requirement already satisfied: future in /usr/local/lib/python3.6/dist-packages (from torch) (0.16.0)\n"
          ],
          "name": "stdout"
        }
      ]
    },
    {
      "cell_type": "code",
      "metadata": {
        "colab": {
          "base_uri": "https://localhost:8080/"
        },
        "id": "Eczr9kxcnRrV",
        "outputId": "343fe9f2-de02-48f5-dc0f-54263a0c46f8"
      },
      "source": [
        "# !rm -rf all_models\r\n",
        "!CD /content\r\n",
        "!ls\r\n",
        "# !unzip /content/all_models/sk/seekers_bert.zip  -d /content/all_models/sk/"
      ],
      "execution_count": null,
      "outputs": [
        {
          "output_type": "stream",
          "text": [
            "/bin/bash: CD: command not found\n",
            "sample_data\n"
          ],
          "name": "stdout"
        }
      ]
    },
    {
      "cell_type": "code",
      "metadata": {
        "colab": {
          "base_uri": "https://localhost:8080/"
        },
        "id": "HBYkvxVwiC51",
        "outputId": "cc7243db-c82f-410e-9f56-cabd61adbba1"
      },
      "source": [
        "%%bash\r\n",
        "if [ -d \"./all_models\" ]\r\n",
        "then \r\n",
        "    echo \"Directory all models already exists\"\r\n",
        "else\r\n",
        "    mkdir all_models\r\n",
        "    wget --no-verbose \"https://cmpe-257-alternus-vera.s3.amazonaws.com/feature_finders_toxicity_model\"\r\n",
        "    wget --no-verbose \"https://cmpe-257-alternus-vera.s3.amazonaws.com/randomforest.sav\"\r\n",
        "    mv feature_finders_toxicity_model ./all_models/\r\n",
        "    mv randomforest.sav ./all_models/\r\n",
        "    \r\n",
        "    # gwc\r\n",
        "    mkdir all_models/keras\r\n",
        "    wget --no-verbose \"https://cmpe-257-alternus-vera.s3.amazonaws.com/girls_who_code_toxicity_model.h5\"\r\n",
        "    mv girls_who_code_toxicity_model.h5 ./all_models/keras/tf_model.h5\r\n",
        "    wget --no-verbose \"https://cmpe-257-alternus-vera.s3.amazonaws.com/girls_who_code_model.preproc\"\r\n",
        "    mv girls_who_code_model.preproc ./all_models/keras/tf_model.preproc\r\n",
        "\r\n",
        "    # blastoff\r\n",
        "    wget --no-verbose \"https://cmpe-257-alternus-vera.s3.amazonaws.com/blastoff_context_veracity_models.zip\"\r\n",
        "    mv blastoff_context_veracity_models.zip ./all_models/\r\n",
        "    wget --no-verbose \"https://cmpe-257-alternus-vera.s3.amazonaws.com/blastoff_bert.model\"\r\n",
        "    mv blastoff_bert.model ./all_models/\r\n",
        "\r\n",
        "    # ck\r\n",
        "    wget --no-verbose \"https://cmpe-257-alternus-vera.s3.amazonaws.com/cereal_killers_bert.zip\"\r\n",
        "    unzip cereal_killers_bert.zip \r\n",
        "    mv BERT ./all_models/\r\n",
        "\r\n",
        "    #sk\r\n",
        "    mkdir all_models/sk\r\n",
        "    wget --no-verbose \"https://cmpe-257-alternus-vera.s3.amazonaws.com/seekers_bert.zip\"\r\n",
        "    mv seekers_bert.zip ./all_models/sk\r\n",
        "    unzip /content/all_models/sk/seekers_bert.zip  -d /content/all_models/sk/\r\n",
        "\r\n",
        "fi"
      ],
      "execution_count": null,
      "outputs": [
        {
          "output_type": "stream",
          "text": [
            "Archive:  cereal_killers_bert.zip\n",
            "   creating: BERT/\n",
            "  inflating: BERT/bert.py            \n",
            "   creating: BERT/saved_model/\n",
            "  inflating: BERT/saved_model/config.json  \n",
            "  inflating: BERT/saved_model/pytorch_model.bin  \n",
            "  inflating: BERT/saved_model/special_tokens_map.json  \n",
            "  inflating: BERT/saved_model/tokenizer_config.json  \n",
            "  inflating: BERT/saved_model/vocab.txt  \n",
            "Archive:  /content/all_models/sk/seekers_bert.zip\n",
            " extracting: /content/all_models/sk/vocab.txt  \n",
            " extracting: /content/all_models/sk/config.json  \n",
            " extracting: /content/all_models/sk/pytorch_model.bin  \n",
            " extracting: /content/all_models/sk/tokenizer_config.json  \n",
            " extracting: /content/all_models/sk/special_tokens_map.json  \n"
          ],
          "name": "stdout"
        },
        {
          "output_type": "stream",
          "text": [
            "2020-12-12 03:59:34 URL:https://cmpe-257-alternus-vera.s3.amazonaws.com/feature_finders_toxicity_model [613699737/613699737] -> \"feature_finders_toxicity_model\" [1]\n",
            "2020-12-12 03:59:36 URL:https://cmpe-257-alternus-vera.s3.amazonaws.com/randomforest.sav [110331665/110331665] -> \"randomforest.sav\" [1]\n",
            "2020-12-12 03:59:51 URL:https://cmpe-257-alternus-vera.s3.amazonaws.com/girls_who_code_toxicity_model.h5 [1311289680/1311289680] -> \"girls_who_code_toxicity_model.h5\" [1]\n",
            "2020-12-12 03:59:52 URL:https://cmpe-257-alternus-vera.s3.amazonaws.com/girls_who_code_model.preproc [1084031/1084031] -> \"girls_who_code_model.preproc\" [1]\n",
            "2020-12-12 04:00:06 URL:https://cmpe-257-alternus-vera.s3.amazonaws.com/blastoff_context_veracity_models.zip [1093896993/1093896993] -> \"blastoff_context_veracity_models.zip\" [1]\n",
            "2020-12-12 04:00:12 URL:https://cmpe-257-alternus-vera.s3.amazonaws.com/blastoff_bert.model [438025495/438025495] -> \"blastoff_bert.model\" [1]\n",
            "2020-12-12 04:00:17 URL:https://cmpe-257-alternus-vera.s3.amazonaws.com/cereal_killers_bert.zip [402291008/402291008] -> \"cereal_killers_bert.zip\" [1]\n",
            "2020-12-12 04:00:28 URL:https://cmpe-257-alternus-vera.s3.amazonaws.com/seekers_bert.zip [438268143/438268143] -> \"seekers_bert.zip\" [1]\n",
            "warning:  stripped absolute path spec from /\n",
            "mapname:  conversion of  failed\n"
          ],
          "name": "stderr"
        }
      ]
    },
    {
      "cell_type": "markdown",
      "metadata": {
        "id": "N9tVwDoh5lFX"
      },
      "source": [
        "# Download all teams repository and load the models"
      ]
    },
    {
      "cell_type": "code",
      "metadata": {
        "id": "gx25YTb-E-Yr"
      },
      "source": [
        "import sys\r\n",
        "import os\r\n",
        "\r\n",
        "sys.path.append('/content/AlternusVera-All-Teams-Integration/sigma')\r\n",
        "sys.path.append('/content/AlternusVera-All-Teams-Integration/trailblazers')\r\n",
        "sys.path.append('/content/AlternusVera-All-Teams-Integration/go_ml')\r\n",
        "sys.path.append('/content/AlternusVera-All-Teams-Integration/shining_unicorns')\r\n",
        "sys.path.append('/content/AlternusVera-All-Teams-Integration/featuresFinder')\r\n",
        "sys.path.append('/content/AlternusVera-All-Teams-Integration/seekers')\r\n",
        "sys.path.append('/content/AlternusVera-All-Teams-Integration/girls_who_code')\r\n",
        "sys.path.append('/content/AlternusVera-All-Teams-Integration/blastoff')\r\n",
        "sys.path.append('/content/AlternusVera-All-Teams-Integration/cereal_killers')"
      ],
      "execution_count": null,
      "outputs": []
    },
    {
      "cell_type": "code",
      "metadata": {
        "id": "9XxV9WTTI5Y7"
      },
      "source": [
        "!rm -rf AlternusVera-All-Teams-Integration/"
      ],
      "execution_count": null,
      "outputs": []
    },
    {
      "cell_type": "code",
      "metadata": {
        "colab": {
          "base_uri": "https://localhost:8080/"
        },
        "id": "OQt_7N514Gyi",
        "outputId": "7cbe1140-42f4-497d-e0e5-43e1dfd30cd8"
      },
      "source": [
        "!git clone https://github.com/CMPE257-AlternusVera-All-Teams/AlternusVera-All-Teams-Integration.git\r\n",
        "# #for me\r\n",
        "# %cd AlternusVera-All-Teams-Integration/\r\n",
        "# !git fetch \r\n",
        "# !git checkout sergio  "
      ],
      "execution_count": null,
      "outputs": [
        {
          "output_type": "stream",
          "text": [
            "Cloning into 'AlternusVera-All-Teams-Integration'...\n",
            "remote: Enumerating objects: 144, done.\u001b[K\n",
            "remote: Counting objects: 100% (144/144), done.\u001b[K\n",
            "remote: Compressing objects: 100% (56/56), done.\u001b[K\n",
            "remote: Total 504 (delta 97), reused 115 (delta 86), pack-reused 360\u001b[K\n",
            "Receiving objects: 100% (504/504), 101.92 MiB | 33.40 MiB/s, done.\n",
            "Resolving deltas: 100% (232/232), done.\n"
          ],
          "name": "stdout"
        }
      ]
    },
    {
      "cell_type": "markdown",
      "metadata": {
        "id": "NPiFMJwx4ScH"
      },
      "source": [
        "# Create Team Objects"
      ]
    },
    {
      "cell_type": "markdown",
      "metadata": {
        "id": "joJ03RFIcbZ_"
      },
      "source": [
        "## Trailblazers\r\n"
      ]
    },
    {
      "cell_type": "code",
      "metadata": {
        "colab": {
          "base_uri": "https://localhost:8080/"
        },
        "id": "NOoeQHwRcYHH",
        "outputId": "e9442e9b-6bdc-407c-fbb0-c5fbbc8673af"
      },
      "source": [
        "# from  import alternusvera_education as AVE\r\n",
        "from TRAILBLAZERS import predictIntention, predictLable"
      ],
      "execution_count": null,
      "outputs": [
        {
          "output_type": "stream",
          "text": [
            "/usr/local/lib/python3.6/dist-packages/nltk/twitter/__init__.py:20: UserWarning: The twython library has not been installed. Some functionality from the twitter package will not be available.\n",
            "  warnings.warn(\"The twython library has not been installed. \"\n"
          ],
          "name": "stderr"
        },
        {
          "output_type": "stream",
          "text": [
            "[nltk_data] Downloading package averaged_perceptron_tagger to\n",
            "[nltk_data]     /root/nltk_data...\n",
            "[nltk_data]   Unzipping taggers/averaged_perceptron_tagger.zip.\n",
            "[nltk_data] Downloading package punkt to /root/nltk_data...\n",
            "[nltk_data]   Unzipping tokenizers/punkt.zip.\n",
            "[nltk_data] Downloading package vader_lexicon to /root/nltk_data...\n",
            "[nltk_data] Downloading package wordnet to /root/nltk_data...\n",
            "[nltk_data]   Unzipping corpora/wordnet.zip.\n",
            "[nltk_data] Downloading package stopwords to /root/nltk_data...\n",
            "[nltk_data]   Unzipping corpora/stopwords.zip.\n"
          ],
          "name": "stdout"
        }
      ]
    },
    {
      "cell_type": "markdown",
      "metadata": {
        "id": "hEhI_xA2cYXz"
      },
      "source": [
        "## Sigma"
      ]
    },
    {
      "cell_type": "code",
      "metadata": {
        "id": "U5xhtW-OZzYj"
      },
      "source": [
        "from SIGMA import NetworkBasedPredictor, VerifiableAuthenticity, Credibility, MalicousAccount\r\n",
        "\r\n",
        "sigma_base_path = \"/content/AlternusVera-All-Teams-Integration/sigma/\"\r\n",
        "\r\n",
        "nb = NetworkBasedPredictor(sigma_base_path+'networkbased.pkl')\r\n",
        "va = VerifiableAuthenticity(sigma_base_path+'VerifiableAuthenticity_PickledModel.pkl')\r\n",
        "cd = Credibility(sigma_base_path+'credibility_model.pkl')\r\n",
        "ma = MalicousAccount(sigma_base_path+'malicious_account_MLP.pkl')"
      ],
      "execution_count": null,
      "outputs": []
    },
    {
      "cell_type": "code",
      "metadata": {
        "id": "FnXYAFVQGu2L"
      },
      "source": [
        ""
      ],
      "execution_count": null,
      "outputs": []
    },
    {
      "cell_type": "markdown",
      "metadata": {
        "id": "C7mg9veG9kWr"
      },
      "source": [
        "## Go-ML\n",
        "\n"
      ]
    },
    {
      "cell_type": "code",
      "metadata": {
        "id": "5WkmlYmO-GQY",
        "colab": {
          "base_uri": "https://localhost:8080/"
        },
        "outputId": "655438b9-830e-4f7d-9352-a739b284e374"
      },
      "source": [
        "from GO_ML import StanceDetection, Clickbait, NewsCoverage, WritingStyle\n",
        "\n",
        "go_ml_base_path = \"/content/AlternusVera-All-Teams-Integration/go_ml/\"\n",
        "\n",
        "sd = StanceDetection(go_ml_base_path+'SVM_stance_detection.model', go_ml_base_path+'vector_stance_detection.pkl')\n",
        "cb = Clickbait(go_ml_base_path+'RF_clickbait.model', go_ml_base_path+'vector_clickbait.pkl')\n",
        "nc = NewsCoverage(go_ml_base_path+'RF_news_coverage.model', go_ml_base_path+'vector_news_coverage.pkl')\n",
        "ws = WritingStyle(go_ml_base_path+'writting_style.pkl')  "
      ],
      "execution_count": null,
      "outputs": [
        {
          "output_type": "stream",
          "text": [
            "[nltk_data] Downloading package punkt to /root/nltk_data...\n",
            "[nltk_data]   Package punkt is already up-to-date!\n",
            "[nltk_data] Downloading package stopwords to /root/nltk_data...\n",
            "[nltk_data]   Package stopwords is already up-to-date!\n"
          ],
          "name": "stdout"
        }
      ]
    },
    {
      "cell_type": "markdown",
      "metadata": {
        "id": "gwpL_8kSETtX"
      },
      "source": [
        "## Shining Unicorns"
      ]
    },
    {
      "cell_type": "code",
      "metadata": {
        "id": "li6XfFb7EXNW",
        "colab": {
          "base_uri": "https://localhost:8080/"
        },
        "outputId": "9906c6ee-e097-45bf-aa4a-4cd3a0e1866c"
      },
      "source": [
        "from SHINING_UNICORNS import EchoChamberMaster, ContentStatistics\r\n",
        "\r\n",
        "shining_unicorns_base_path = \"/content/AlternusVera-All-Teams-Integration/shining_unicorns/\"\r\n",
        "\r\n",
        "cs_su = ContentStatistics(shining_unicorns_base_path+'finalized_model3.sav')\r\n",
        "ec_su = EchoChamberMaster()"
      ],
      "execution_count": null,
      "outputs": [
        {
          "output_type": "stream",
          "text": [
            "[nltk_data] Downloading package stopwords to /root/nltk_data...\n",
            "[nltk_data]   Package stopwords is already up-to-date!\n",
            "[nltk_data] Downloading package averaged_perceptron_tagger to\n",
            "[nltk_data]     /root/nltk_data...\n",
            "[nltk_data]   Package averaged_perceptron_tagger is already up-to-\n",
            "[nltk_data]       date!\n",
            "[nltk_data] Downloading package punkt to /root/nltk_data...\n",
            "[nltk_data]   Package punkt is already up-to-date!\n",
            "[nltk_data] Downloading package wordnet to /root/nltk_data...\n",
            "[nltk_data]   Package wordnet is already up-to-date!\n"
          ],
          "name": "stdout"
        }
      ]
    },
    {
      "cell_type": "markdown",
      "metadata": {
        "id": "G1aRO5olgOWG"
      },
      "source": [
        "## Feature Finders \r\n"
      ]
    },
    {
      "cell_type": "code",
      "metadata": {
        "id": "iwbHOGHvgO1W",
        "colab": {
          "base_uri": "https://localhost:8080/"
        },
        "outputId": "f013ad62-5364-4ced-8470-43de1ee63877"
      },
      "source": [
        "from FEATURES_FINDERS import StanceDitectionFeature, ReliableSource, ToxicityFeature, TitleVsBody, Word2VecFeatureGenerator \r\n",
        "\r\n",
        "featureFinider_base_path = \"/content/AlternusVera-All-Teams-Integration/featuresFinder/\"\r\n",
        "all_models_base_path = '/content/all_models/'\r\n",
        "\r\n",
        "predictStance = StanceDitectionFeature(featureFinider_base_path+'stanceLabelGNB-model', featureFinider_base_path+'stance-model-GBC', featureFinider_base_path)\r\n",
        "reliablesource = ReliableSource(featureFinider_base_path+'ReliableSourceLabelmodel', featureFinider_base_path+'data.csv')\r\n",
        "predictToxicity = ToxicityFeature(all_models_base_path+'feature_finders_toxicity_model', featureFinider_base_path+'toxicity-model',  featureFinider_base_path+'toxicityFakenewsLabel-model')\r\n",
        "tvb = TitleVsBody(featureFinider_base_path+'titlevsbody_logistic_proba.pkl', featureFinider_base_path+'titlevsbody_xgboost.pkl', gensim_model) "
      ],
      "execution_count": null,
      "outputs": [
        {
          "output_type": "stream",
          "text": [
            "[nltk_data] Downloading package stopwords to /root/nltk_data...\n",
            "[nltk_data]   Package stopwords is already up-to-date!\n",
            "[nltk_data] Downloading package punkt to /root/nltk_data...\n",
            "[nltk_data]   Package punkt is already up-to-date!\n",
            "[nltk_data] Downloading package wordnet to /root/nltk_data...\n",
            "[nltk_data]   Package wordnet is already up-to-date!\n",
            "[nltk_data] Downloading package vader_lexicon to /root/nltk_data...\n",
            "[nltk_data]   Package vader_lexicon is already up-to-date!\n"
          ],
          "name": "stdout"
        }
      ]
    },
    {
      "cell_type": "markdown",
      "metadata": {
        "id": "L0KseM7bQkQR"
      },
      "source": [
        "Here we are importing all the functions from a module file go_ml.py. The functions are getStanceDetectionScore, getClickbaitScore, getNewsCoverageScore, WritingStyleScore. We are calling these functions directly in isFakeNews function."
      ]
    },
    {
      "cell_type": "markdown",
      "metadata": {
        "id": "vAuP1WaUL_wv"
      },
      "source": [
        "## Seekers"
      ]
    },
    {
      "cell_type": "code",
      "metadata": {
        "id": "BMfozHFzMAhV"
      },
      "source": [
        "from SEEKERS import Seekers_StanceDetection, Seekers_ClickBait, Seekers_Spam, Seekers_BertMcc\n",
        "\n",
        "seekers_base_path = \"/content/AlternusVera-All-Teams-Integration/seekers/\"\n",
        "all_models_sk_path = '/content/all_models/'\n",
        "\n",
        "seekers_sd = Seekers_StanceDetection(all_models_sk_path+'randomforest.sav')\n",
        "seekers_cb = Seekers_ClickBait(seekers_base_path+'Seekers_ClickBait.sav',seekers_base_path+'tfidf.sav')\n",
        "seekers_sp = Seekers_Spam(seekers_base_path+'TFidfvectorizer.sav',seekers_base_path+'final_SpamModel.sav')\n",
        "seekers_bm = Seekers_BertMcc(all_models_sk_path+'sk')"
      ],
      "execution_count": null,
      "outputs": []
    },
    {
      "cell_type": "markdown",
      "metadata": {
        "id": "UJOsPwW2An_A"
      },
      "source": [
        "## GirlsWhoCode "
      ]
    },
    {
      "cell_type": "code",
      "metadata": {
        "id": "wgi5u62Asfj0"
      },
      "source": [
        "from GIRLSWHOCODE import Topics_with_LDA_Bigram, Gwc_Bias, Girlswhocode_PoliticalAfiiliation, GirlsWhoCode_Toxicity\r\n",
        "\r\n",
        "girls_who_code_base_path = \"/content/AlternusVera-All-Teams-Integration/girls_who_code/\"\r\n",
        "all_models_keras_base_path = '/content/all_models/keras'\r\n",
        "\r\n",
        "getTS = GirlsWhoCode_Toxicity(girls_who_code_base_path+'toxicityModel.sav', all_models_keras_base_path)\r\n",
        "getTSB = Topics_with_LDA_Bigram(girls_who_code_base_path+'LogisticRegression_model.sav')\r\n",
        "getBias = Gwc_Bias(girls_who_code_base_path+'Bias_model_ntext.sav')\r\n",
        "getPAS = Girlswhocode_PoliticalAfiiliation(girls_who_code_base_path+'political_affiliation_model.sav', girls_who_code_base_path+'party_affiliaiton_dict.csv', \r\n",
        "                                           girls_who_code_base_path+'new_dict.csv' , girls_who_code_base_path+'train.tsv') \r\n"
      ],
      "execution_count": null,
      "outputs": []
    },
    {
      "cell_type": "markdown",
      "metadata": {
        "id": "9YXk2Q6RnNeV"
      },
      "source": [
        "## Blastoff"
      ]
    },
    {
      "cell_type": "code",
      "metadata": {
        "colab": {
          "base_uri": "https://localhost:8080/",
          "referenced_widgets": [
            "abb8770cc50744229e3e119aa97b1f42",
            "980ec92d9a8a4993ae4ccde6942f6ae4",
            "b7409ffb29204c2dbf74e819e2efe58d",
            "76b0795e7f4b412486084a119c5f2a90",
            "14a04f01d9cd4405b672578715239386",
            "3c5671326a79409582ab8bc4c0425681",
            "c140080452194de6ac45d7c2068ec824",
            "c37c72a5fdd34bb4bdd1e572015b360f",
            "6bc4315a7c204d53868a7c6d888e1fff",
            "0270f98a7a5b43a3920abc343d82f2bc",
            "1ab84a01c0bf466fa8fb2e5628b4cdfe",
            "5f554774834b412b8e824622939aa402",
            "e31b62206de54aaf894fdc7a2bfebe52",
            "61cb375841e949af8fcb0af741b1b298",
            "afea2b69ea1e41288e7ece7674596c01",
            "e412f37704414692988e492ffb86b910",
            "7dfa80fb8f6545dd85e30aeedfc1de93",
            "0dc28c39e0244bd697f0ae7fc008d61b",
            "43509c51bdc0454dbee62ab2351fb175",
            "5a02a33f02f2490fb2c0683c45547f16",
            "371ed83b91564b22b1970dff1ef69c1d",
            "54cf84862db9485da6fc31c48162f853",
            "c1b01e9807fc47a288671a9ef7c3ac90",
            "41b832b853d74cfd8c07e796f76e9062"
          ]
        },
        "id": "jt-ZHok2nLaG",
        "outputId": "7ca0c97a-90f7-4dd9-b586-076eb75a6246"
      },
      "source": [
        "from BLASTOFF import Context_Veracity, SensaScorer\r\n",
        "\r\n",
        "all_models_blastoff_path = '/content/all_models/'\r\n",
        "bo_cv = Context_Veracity(all_models_blastoff_path+'blastoff_context_veracity_models.zip')\r\n",
        "sensa = SensaScorer(all_models_blastoff_path+'blastoff_bert.model')"
      ],
      "execution_count": null,
      "outputs": [
        {
          "output_type": "display_data",
          "data": {
            "application/vnd.jupyter.widget-view+json": {
              "model_id": "abb8770cc50744229e3e119aa97b1f42",
              "version_minor": 0,
              "version_major": 2
            },
            "text/plain": [
              "HBox(children=(FloatProgress(value=0.0, description='Downloading', max=433.0, style=ProgressStyle(description_…"
            ]
          },
          "metadata": {
            "tags": []
          }
        },
        {
          "output_type": "stream",
          "text": [
            "\n"
          ],
          "name": "stdout"
        },
        {
          "output_type": "display_data",
          "data": {
            "application/vnd.jupyter.widget-view+json": {
              "model_id": "6bc4315a7c204d53868a7c6d888e1fff",
              "version_minor": 0,
              "version_major": 2
            },
            "text/plain": [
              "HBox(children=(FloatProgress(value=0.0, description='Downloading', max=440473133.0, style=ProgressStyle(descri…"
            ]
          },
          "metadata": {
            "tags": []
          }
        },
        {
          "output_type": "stream",
          "text": [
            "\n"
          ],
          "name": "stdout"
        },
        {
          "output_type": "display_data",
          "data": {
            "application/vnd.jupyter.widget-view+json": {
              "model_id": "7dfa80fb8f6545dd85e30aeedfc1de93",
              "version_minor": 0,
              "version_major": 2
            },
            "text/plain": [
              "HBox(children=(FloatProgress(value=0.0, description='Downloading', max=231508.0, style=ProgressStyle(descripti…"
            ]
          },
          "metadata": {
            "tags": []
          }
        },
        {
          "output_type": "stream",
          "text": [
            "\n"
          ],
          "name": "stdout"
        }
      ]
    },
    {
      "cell_type": "markdown",
      "metadata": {
        "id": "dFRItavGY_HF"
      },
      "source": [
        "## Cereal Killers\n"
      ]
    },
    {
      "cell_type": "code",
      "metadata": {
        "id": "aFNOUZWa057F"
      },
      "source": [
        "from CEREAL_KILLERS import CerealKillers_SentimentClassifier, CerealKillers_SocialCredibility\r\n",
        "\r\n",
        "cereal_base_path = \"/content/AlternusVera-All-Teams-Integration/cereal_killers/\"\r\n",
        "all_models_bert = '/content/all_models/BERT/'\r\n",
        "\r\n",
        "ck_bt = CerealKillers_SentimentClassifier(all_models_bert+'saved_model')\r\n",
        "ck_sc = CerealKillers_SocialCredibility(cereal_base_path+'SocialCredibilityV2.pkl', cereal_base_path+'twitter_api.ini')"
      ],
      "execution_count": null,
      "outputs": []
    },
    {
      "cell_type": "markdown",
      "metadata": {
        "id": "sZobeRX0G0he"
      },
      "source": [
        "# Prediction (polynomial Function based on normalized accurracy and factors score)"
      ]
    },
    {
      "cell_type": "code",
      "metadata": {
        "id": "CNdDLqRMG302"
      },
      "source": [
        "title = 'Media fawns over Biden\\'s Cabinet rollout, describes being rescued from this craziness by superheroes'\r\n",
        "text = 'Members of the mainstream media showered President-elect Joe Biden with praise Tuesday following the rollout of his foreign policy and national security team. Biden formally introduced several Cabinet nominees and White House advisers, including Secretary of State nominee Antony Blinken, National Security Adviser pick Jake Sullivan, U.S. Ambassador to the United Nations choice Linda Thomas-Greenfield, and newly minted Special Presidential Envoy for Climate John Kerry. MEDIA OBSESSES OVER ANTONY BLINKEN\\'S GUITAR SKILLS AFTER BIDEN ANNOUNCES HIM AS SECRETARY OF STATE NOMINEEDuring an MSNBC panel discussion, PBS NewsHour White House correspondent Yamiche Alcindor appeared to agree with what she said a Democrat source had told her. I was talking to a Democrat who just said this also felt like \\'The Avengers, Alcindor said. It felt like we were being rescued from this craziness that we\\'ve all lived through from the last four years and now here are the superheroes to come and save us all.'\r\n",
        "party = 'democrat'\r\n",
        "source = 'fox news'\r\n",
        "context = 'in a report'"
      ],
      "execution_count": null,
      "outputs": []
    },
    {
      "cell_type": "code",
      "metadata": {
        "id": "JTCS5b-gGol1"
      },
      "source": [
        "def getProbablityScore(category):\r\n",
        "\r\n",
        "    if(category =='pants-fire' ):\r\n",
        "        return 0.9;\r\n",
        "    elif(category =='false'):\r\n",
        "        return 0.73;\r\n",
        "    elif(category =='full-flop' or category == 'barely-true'):\r\n",
        "        return 0.56;\r\n",
        "    elif(category =='half-true' or category == 'half-flip'):\r\n",
        "        return 0.4;\r\n",
        "    elif(category =='mostly-true'):\r\n",
        "        return 0.24;\r\n",
        "    else:\r\n",
        "        return 0.1;\r\n",
        "\r\n",
        "\r\n",
        "\r\n",
        "def is_fake_news(title, text, party, source, context):\r\n",
        "  \r\n",
        "  accur = [  0.57, 0.56, 0.58, 0.56,\r\n",
        "             0.96, 0.64, 0.76, 0.47, \r\n",
        "             0.64, 0.56, 0.84, \r\n",
        "             0.87, 0.70, 0.82, 0.85,\r\n",
        "             0.78, 0.82, 0.48, 0.72,\r\n",
        "             0.75, 0.77, 0.77, 0.70,\r\n",
        "             0.26, 0.28, 0.49,\r\n",
        "             0.82, 0.35, 0.55,\r\n",
        "             0.58, 0.54] # using the (normalized) accuracy as weigths\r\n",
        "\r\n",
        "  w = [float(i)/sum(accur) for i in accur]\r\n",
        "  sumW = 0\r\n",
        "  prob = []\r\n",
        "  # print(w)\r\n",
        "\r\n",
        "\r\n",
        "  # GIRLS WHO CODE\r\n",
        "  if title != \"\" :\r\n",
        "    #For Toxicity\r\n",
        "      score1 = getTS.getToxicityScore(title)\r\n",
        "      prob.append(w[0] * score1)\r\n",
        "      sumW += w[0]\r\n",
        "\r\n",
        "    #For Topic Modelling for LDA\r\n",
        "      score2 = getTSB.getTopicScoreBigramLDAModel(title)\r\n",
        "      prob.append(w[1] * score2)\r\n",
        "      sumW += w[1] \r\n",
        "\r\n",
        "    #For Bias\r\n",
        "      score3 = getBias.get_bias_score(title)\r\n",
        "      prob.append(w[2] * score3)\r\n",
        "      sumW += w[2]\r\n",
        "\r\n",
        "    #For political_affiliaiton\r\n",
        "      score4 = getPAS.DATAMINERS_getPartyAffiliationScore(title,party)\r\n",
        "      prob.append(w[3] * score4)\r\n",
        "      sumW += w[3]\r\n",
        "\r\n",
        "\r\n",
        "  # SEEKERS\r\n",
        "  if (text!=\"\"):\r\n",
        "    #For Clickbait - Seekers\r\n",
        "      prob.append(w[4] * seekers_cb.predict(text))\r\n",
        "      sumW += w[4]  \r\n",
        "    \r\n",
        "    #For Stance_detection - Seekers\r\n",
        "      prob.append(w[5] * seekers_sd.predict(text))\r\n",
        "      sumW += w[5]\r\n",
        "    \r\n",
        "    #For Spam - Seekers\r\n",
        "      prob.append(w[6] * seekers_sp.predict(text))\r\n",
        "      sumW += w[6]\r\n",
        "\r\n",
        "  if (title!=\"\"):\r\n",
        "    # For Bert - Seekers\r\n",
        "      prediction, probability = seekers_bm.get_bert_predictions(title,source,context,0,50,50,0,0) #mostly_true_count,half_true_count,barely_true_count,false_count,pants_on_fire_count)\r\n",
        "      prob.append(w[7] * probability)\r\n",
        "      sumW += w[7]\r\n",
        "\r\n",
        "\r\n",
        "  # Trailblazers\r\n",
        "  if (title != \"\"):  \r\n",
        "    # Event Coverage\r\n",
        "      event_score = predictLable(title)\r\n",
        "      prob.append(w[9]* getProbablityScore(event_score[0]))\r\n",
        "      sumW+=w[9]\r\n",
        "\r\n",
        "    # Misleding intentions \r\n",
        "      mislead_intent = predictIntention(title, gensim_model)\r\n",
        "      mislead_score=getProbablityScore(mislead_intent)\r\n",
        "      prob.append(w[10]* mislead_score)\r\n",
        "      sumW+=w[10]\r\n",
        "\r\n",
        "\r\n",
        "  # Stance Detection - Go ML\r\n",
        "  if text:\r\n",
        "      prob.append(w[11] * sd.getStanceDetectionScore(text=text))\r\n",
        "      sumW += w[11]\r\n",
        "      # Clickbait - Go ML\r\n",
        "      prob.append(w[12] * cb.getClickbaitScore(text=text))\r\n",
        "      sumW += w[12]\r\n",
        "      # News Coverage - Go ML\r\n",
        "      prob.append(w[13] * nc.getNewsCoverageScore(text=text))\r\n",
        "      sumW += w[13]\r\n",
        "      # Writing Style - Go ML\r\n",
        "      prob.append(w[14] * ws.WritingStyleScore(text=text))\r\n",
        "      sumW += w[14]\r\n",
        "\r\n",
        "  # SIGMA\r\n",
        "  if text:\r\n",
        "      rating, ma_pred, clss = ma.predict(tweetText=text, nlp=nlp)\r\n",
        "      prob.append(w[15] * ma_pred)\r\n",
        "      sumW += w[15]\r\n",
        "\r\n",
        "      clss, cd_pred = cd.predict(text, nlp=nlp)\r\n",
        "      prob.append(w[16] * cd_pred)\r\n",
        "      sumW += w[16]\r\n",
        "\r\n",
        "      nb_pred = nb.predict(text=text, nlp=nlp, source=source)\r\n",
        "      prob.append(w[17] * nb_pred)\r\n",
        "      sumW += w[17]\r\n",
        "\r\n",
        "      va_pred = va.predict(text, source)\r\n",
        "      prob.append(w[18] * va_pred)\r\n",
        "      sumW += w[18]\r\n",
        "\r\n",
        "\r\n",
        "  # FEATURE_FINDERS\r\n",
        "  if (title != \"\"):\r\n",
        "    # Stance Detection\r\n",
        "      prob.append(w[19] * predictStance.FeatureFinders_getStanceScore(headline=title, body=text))\r\n",
        "      sumW += w[19]\r\n",
        "    # Reliable Source\r\n",
        "      prob.append(w[20] * reliablesource.FeatureFinders_getReliabilityBySource(source))\r\n",
        "      sumW += w[20]\r\n",
        "    # Toxicity\r\n",
        "      prob.append(w[21] * predictToxicity.FeatureFinders_getToxicityScore(headline=title, body=text))\r\n",
        "      sumW += w[21]\r\n",
        "    # Title vs Body\r\n",
        "      tvb_value = tvb.FeatureFinders_getTitleVsBodyRelationship(head_line=title, body_text=text)[0]\r\n",
        "      prob.append(w[22] * tvb.FeatureFinders_getTitleVsBodyScore(tvb_value)[0][1]) # 0 is Fake, 1 is True\r\n",
        "      sumW += w[22]\r\n",
        "\r\n",
        "\r\n",
        " # Blastoff\r\n",
        "  if (title != \"\"):\r\n",
        "    # Context Veracity\r\n",
        "      prob.append(w[24]* float(bo_cv.get_veracity_scores(title)))\r\n",
        "      sumW+=w[24]\r\n",
        "      \r\n",
        "    # Sensationalism\r\n",
        "      prob.append(w[25] * 0.75 * sensa.getScore(title))\r\n",
        "      sumW+=w[25]\r\n",
        "\r\n",
        "  #Cereal Killer\r\n",
        "  if title != \"\":\r\n",
        "    # Sentiment Classification\r\n",
        "      ck_bt_score = ck_bt.predict(title)\r\n",
        "      prob.append(w[26]* ck_bt_score)\r\n",
        "      sumW+=w[26]\r\n",
        "  \r\n",
        "\r\n",
        "  #Cereal Killer\r\n",
        "  if source != \"\":\r\n",
        "    # Social Credibility\r\n",
        "      ck_sc.search_user_by_name(source)\r\n",
        "      ck_sc_score = ck_sc.predict(ck_sc.get_user_data())\r\n",
        "      prob.append(w[28]* (ck_sc_score/100))\r\n",
        "      sumW+=w[28]\r\n",
        "\r\n",
        "\r\n",
        "  # Shining Unicorns\r\n",
        "  if (title != \"\"):\r\n",
        "    # Content Statistics\r\n",
        "      content_Statistics_score = cs_su.predict(title, gensim_model)\r\n",
        "      prob.append(w[29]* content_Statistics_score)\r\n",
        "      sumW+=w[29]\r\n",
        "      \r\n",
        "    # Echo Chamber\r\n",
        "      echo_ChamberMaster_score = ec_su.predict(title)\r\n",
        "      prob.append(w[30]* echo_ChamberMaster_score)\r\n",
        "      sumW+=w[30]\r\n",
        "\r\n",
        "\r\n",
        "\r\n",
        "  probTotal = sum(prob[0:len(prob)]) / sumW\r\n",
        "  return probTotal\r\n",
        "\r\n",
        "# final_prediction = is_fake_news(title, text, party, source, context)"
      ],
      "execution_count": null,
      "outputs": []
    },
    {
      "cell_type": "code",
      "metadata": {
        "id": "ou2IkQWDQwmL"
      },
      "source": [
        "def VeracityScore(prediction):\r\n",
        "  #Equation \r\n",
        "  #Factor values are betweeen 0.001~ 0.999) \r\n",
        "  #weight are normalized according with individual factors accuracy \r\n",
        "  polyEq = prediction \r\n",
        "  if polyEq >= 0 and polyEq < 0.20:\r\n",
        "    results = 'Partilly False'\r\n",
        "  elif polyEq >= 0.20 and polyEq < 0.40:\r\n",
        "    results = 'Mostly False'\r\n",
        "  elif polyEq >= 0.40 and polyEq < 0.60: \r\n",
        "    results = 'Barely True'\r\n",
        "  elif polyEq >= 0.60 and polyEq < 0.80: \r\n",
        "    results = 'Mostly True'      \r\n",
        "  elif polyEq >= 0.80 and polyEq < 1.00: \r\n",
        "    results = 'True'\r\n",
        "  return results\r\n",
        "\r\n",
        "# final_prediction = is_fake_news(title, text, party, source, context)\r\n",
        "# print('final prediction: ', final_prediction )\r\n",
        "# print('This veracity score is: ',  VeracityScore(final_prediction) ) \r\n"
      ],
      "execution_count": null,
      "outputs": []
    },
    {
      "cell_type": "markdown",
      "metadata": {
        "id": "4-DM17V_aAsG"
      },
      "source": [
        "# Inference Form and Results"
      ]
    },
    {
      "cell_type": "code",
      "metadata": {
        "colab": {
          "base_uri": "https://localhost:8080/"
        },
        "cellView": "form",
        "id": "wfgdr7hxXMRN",
        "outputId": "84b4a20c-2a70-40e3-9ef5-99f1a92e6b1f"
      },
      "source": [
        "#@title Capture information to Infer (Ensure all other colab steps have been ran)\n",
        "Title = \"Media fawns over Biden\\\\'s Cabinet rollout, describes being rescued from this craziness by superheroes\" #@param {type:\"string\"}\n",
        "Text = \"Members of the mainstream media showered President-elect Joe Biden with praise Tuesday following the rollout of his foreign policy and national security team. Biden formally introduced several Cabinet nominees and White House advisers, including Secretary of State nominee Antony Blinken, National Security Adviser pick Jake Sullivan, U.S. Ambassador to the United Nations choice Linda Thomas-Greenfield, and newly minted Special Presidential Envoy for Climate John Kerry. MEDIA OBSESSES OVER ANTONY BLINKEN\\\\'S GUITAR SKILLS AFTER BIDEN ANNOUNCES HIM AS SECRETARY OF STATE NOMINEEDuring an MSNBC panel discussion, PBS NewsHour White House correspondent Yamiche Alcindor appeared to agree with what she said a Democrat source had told her. I was talking to a Democrat who just said this also felt like \\\\'The Avengers, Alcindor said. It felt like we were being rescued from this craziness that we\\\\'ve all lived through from the last four years and now here are the superheroes to come and save us all.\" #@param {type:\"string\"}\n",
        "Party = \"democrat\" #@param {type:\"string\"}\n",
        "Source = \"fox news\" #@param {type:\"string\"}\n",
        "Context = \"in a report\" #@param {type:\"string\"}\n",
        "\n",
        "warnings.filterwarnings('ignore')\n",
        "final_prediction = is_fake_news(Title, Text, Party, Source, Context)\n",
        "\n",
        "vs= VeracityScore(final_prediction)\n",
        "\n",
        "print('\\n\\nFinal prediction: ', final_prediction )\n",
        "print('\\nThis veracity score is: ',  VeracityScore(final_prediction))"
      ],
      "execution_count": null,
      "outputs": [
        {
          "output_type": "stream",
          "text": [
            "\n",
            "\n",
            "Final prediction:  0.5446268211393553\n",
            "\n",
            "This veracity score is:  Barely True\n"
          ],
          "name": "stdout"
        }
      ]
    },
    {
      "cell_type": "markdown",
      "metadata": {
        "id": "MNV_F2CNE6Qi"
      },
      "source": [
        "# **SUMMARY**\r\n",
        "\r\n",
        "Refactoring the redundant code and integrating all the team factors, the overall runtime for the entire colab reduced to just 5 minutes. Earlier, we had issues even running the AllTeamIntegrated colab as we had to reconnect the runtime after each library installation. This is a significant improvement in the performance.\r\n",
        "\r\n",
        "For the real time inference pipeline, we created a web application which predicts the fakeness of a news by making a real time API call for fetching the news based on the text as well as topic.\r\n"
      ]
    }
  ]
}